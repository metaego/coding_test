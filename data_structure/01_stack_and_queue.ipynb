{
 "cells": [
  {
   "cell_type": "markdown",
   "id": "001ad4b1-3ce0-4b48-b875-afe496053838",
   "metadata": {},
   "source": [
    "# Stack"
   ]
  },
  {
   "cell_type": "markdown",
   "id": "d6102eda-2714-4efb-a917-093df7b14bcf",
   "metadata": {},
   "source": [
    "- `먼저 들어온 데이터가 나중에 나가는 형식(선입후출)`의 자료구조\n",
    "- 입구와 출구가 동일한 형태\n",
    "- 파이썬으로 구현할 땐 리스트를 활용하면 됨"
   ]
  },
  {
   "cell_type": "markdown",
   "id": "98bdd6c4-635d-4ecc-a274-b4a953625aec",
   "metadata": {},
   "source": [
    "## 스택 구현 예제"
   ]
  },
  {
   "cell_type": "code",
   "execution_count": 1,
   "id": "ca1b36ba-d5d5-49ef-aa2e-8c527faef882",
   "metadata": {},
   "outputs": [
    {
     "name": "stdout",
     "output_type": "stream",
     "text": [
      "[1, 3, 2, 5]\n",
      "[5, 2, 3, 1]\n"
     ]
    }
   ],
   "source": [
    "stack = []\n",
    "\n",
    "# 삽입(5) - 삽입(2) - 삽입(3) - 삽입(7) - 삭제() - 삽입(1) - 삽입(4) - 삭제()\n",
    "stack.append(5)\n",
    "stack.append(2)\n",
    "stack.append(3)\n",
    "stack.append(7)\n",
    "stack.pop()\n",
    "stack.append(1)\n",
    "stack.append(4)\n",
    "stack.pop()\n",
    "\n",
    "# 최상단 원소부터 출력\n",
    "print(stack[::-1]) \n",
    "\n",
    "# 최하단 원소부터 출력\n",
    "print(stack)"
   ]
  },
  {
   "cell_type": "markdown",
   "id": "94ccb3ab-7dd8-4d4c-adef-9b5d973b76f5",
   "metadata": {},
   "source": [
    "# Queue"
   ]
  },
  {
   "cell_type": "markdown",
   "id": "81ef4d50-b994-4a69-bcf0-c8a87537b850",
   "metadata": {},
   "source": [
    "- `먼저 들어온 데이터가 먼저 나가는 형식(선입선출)`의 자료구조\n",
    "- 입구와 출구가 모두 뚫려 있는 터널과 같은 형태\n",
    "- 영어권에서는 대기열을 나타낼 때 queue라고 함\n",
    "- 파이썬에서 큐를 구현할 때 리스트를 사용해서 구현할 수 있지만, 시간복잡도가 높으므로 deque()함수를 사용하는 것이 좋음"
   ]
  },
  {
   "cell_type": "markdown",
   "id": "fe5b823c-fa92-4cff-8560-cfe9a1dced47",
   "metadata": {},
   "source": [
    "## 큐 구현 예제"
   ]
  },
  {
   "cell_type": "code",
   "execution_count": 5,
   "id": "a4deda17-39fd-44f2-a4de-8476af506d66",
   "metadata": {},
   "outputs": [
    {
     "name": "stdout",
     "output_type": "stream",
     "text": [
      "deque([3, 7, 1, 4])\n",
      "deque([4, 1, 7, 3])\n"
     ]
    }
   ],
   "source": [
    "from collections import deque\n",
    "\n",
    "queue = deque()\n",
    "\n",
    "# 삽입(5) - 삽입(2) - 삽입(3) - 삽입(7) - 삭제() - 삽입(1) - 삽입(4) - 삭제()\n",
    "queue.append(5)\n",
    "queue.append(2)\n",
    "queue.append(3)\n",
    "queue.append(7)\n",
    "queue.popleft()\n",
    "queue.append(1)\n",
    "queue.append(4)\n",
    "queue.popleft()\n",
    "\n",
    "# 먼저 들어온 순서대로 출력\n",
    "print(queue)\n",
    "\n",
    "# 나중에 들어온 원소부터 출력\n",
    "queue.reverse() # 역순으로 바꾸기\n",
    "print(queue)"
   ]
  },
  {
   "cell_type": "code",
   "execution_count": null,
   "id": "481d9771-01f6-417e-9b49-4915f43ece28",
   "metadata": {},
   "outputs": [],
   "source": []
  }
 ],
 "metadata": {
  "kernelspec": {
   "display_name": "Python 3 (ipykernel)",
   "language": "python",
   "name": "python3"
  },
  "language_info": {
   "codemirror_mode": {
    "name": "ipython",
    "version": 3
   },
   "file_extension": ".py",
   "mimetype": "text/x-python",
   "name": "python",
   "nbconvert_exporter": "python",
   "pygments_lexer": "ipython3",
   "version": "3.11.6"
  }
 },
 "nbformat": 4,
 "nbformat_minor": 5
}
