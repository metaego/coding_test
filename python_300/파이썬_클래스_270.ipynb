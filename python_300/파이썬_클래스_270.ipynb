{
 "cells": [
  {
   "cell_type": "code",
   "execution_count": 2,
   "id": "0d124716-a7eb-4e79-ab21-593a52476481",
   "metadata": {},
   "outputs": [],
   "source": [
    "# 261\n",
    "\n",
    "class Stock():\n",
    "    pass"
   ]
  },
  {
   "cell_type": "code",
   "execution_count": 6,
   "id": "68f69dcd-4a54-40ac-b0ee-f259e97b9658",
   "metadata": {},
   "outputs": [
    {
     "name": "stdout",
     "output_type": "stream",
     "text": [
      "삼성전자\n",
      "005930\n"
     ]
    }
   ],
   "source": [
    "# 262\n",
    "\n",
    "class Stock():\n",
    "    def __init__(self, item_name, item_code):\n",
    "        self.item_name = item_name\n",
    "        self.item_code = item_code\n",
    "\n",
    "samsung = Stock(\"삼성전자\", \"005930\")\n",
    "print(samsung.item_name)\n",
    "print(samsung.item_code)"
   ]
  },
  {
   "cell_type": "code",
   "execution_count": 8,
   "id": "c7e0a073-c8b8-4c6f-9d2d-3dda55281651",
   "metadata": {},
   "outputs": [
    {
     "name": "stdout",
     "output_type": "stream",
     "text": [
      "삼성전자\n"
     ]
    }
   ],
   "source": [
    "# 263\n",
    "\n",
    "class Stock():\n",
    "    def __init__(self, item_name, item_code):\n",
    "        self.item_name = item_name\n",
    "        self.item_code = item_code\n",
    "\n",
    "    def set_name(self, item_name):\n",
    "        self.item_name = item_name\n",
    "\n",
    "a = Stock(None, None)\n",
    "a.set_name(\"삼성전자\")\n",
    "print(a.item_name)"
   ]
  },
  {
   "cell_type": "code",
   "execution_count": 9,
   "id": "388d7e49-9600-4bf6-91b8-de34ec62fcd9",
   "metadata": {},
   "outputs": [
    {
     "name": "stdout",
     "output_type": "stream",
     "text": [
      "005930\n"
     ]
    }
   ],
   "source": [
    "# 264\n",
    "\n",
    "class Stock():\n",
    "    def __init__(self, item_name, item_code):\n",
    "        self.item_name = item_name\n",
    "        self.item_code = item_code\n",
    "\n",
    "    def set_name(self, item_name):\n",
    "        self.item_name = item_name\n",
    "\n",
    "    def set_code(self, item_code):\n",
    "        self.item_code = item_code\n",
    "\n",
    "a = Stock(None, None)\n",
    "a.set_code(\"005930\")\n",
    "print(a.item_code)"
   ]
  },
  {
   "cell_type": "code",
   "execution_count": 14,
   "id": "f786c7a6-a757-4e48-a6d8-7a9769446ac1",
   "metadata": {},
   "outputs": [
    {
     "name": "stdout",
     "output_type": "stream",
     "text": [
      "삼성전자\n",
      "005930\n"
     ]
    }
   ],
   "source": [
    "# 265\n",
    "\n",
    "class Stock():\n",
    "    def __init__(self, item_name, item_code):\n",
    "        self.item_name = item_name\n",
    "        self.item_code = item_code\n",
    "\n",
    "    def set_name(self, item_name):\n",
    "        self.item_name = item_name\n",
    "\n",
    "    def set_code(self, item_code):\n",
    "        self.item_code = item_code\n",
    "\n",
    "    def get_name(self):\n",
    "        return self.item_name\n",
    "\n",
    "    def get_code(self):\n",
    "        return self.item_code\n",
    "        \n",
    "a = Stock(\"삼성전자\", \"005930\")\n",
    "print(a.get_name())\n",
    "print(a.get_code())"
   ]
  },
  {
   "cell_type": "code",
   "execution_count": 15,
   "id": "6d626313-19a6-4f1a-881f-7bc2eccedc24",
   "metadata": {},
   "outputs": [],
   "source": [
    "# 266\n",
    "\n",
    "class Stock():\n",
    "    def __init__(self, item_name, item_code, per, pbr, dividend_rate):\n",
    "        self.item_name = item_name\n",
    "        self.item_code = item_code\n",
    "        self.per = per\n",
    "        self.pbr = pbr\n",
    "        self.dividend_rate = dividend_rate\n",
    "\n",
    "    def set_name(self, item_name):\n",
    "        self.item_name = item_name\n",
    "\n",
    "    def set_code(self, item_code):\n",
    "        self.item_code = item_code\n",
    "\n",
    "    def get_name(self):\n",
    "        return self.item_name\n",
    "\n",
    "    def get_code(self):\n",
    "        return self.item_code"
   ]
  },
  {
   "cell_type": "code",
   "execution_count": 16,
   "id": "90ca9a4d-d729-4de8-a26f-8c6c8c75f8ee",
   "metadata": {},
   "outputs": [
    {
     "name": "stdout",
     "output_type": "stream",
     "text": [
      "삼성전자\n",
      "005930\n",
      "15.79\n",
      "1.33\n",
      "2.83\n"
     ]
    }
   ],
   "source": [
    "# 267\n",
    "\n",
    "a = Stock(\"삼성전자\", \"005930\", 15.79, 1.33, 2.83)\n",
    "print(a.item_name)\n",
    "print(a.item_code)\n",
    "print(a.per)\n",
    "print(a.pbr)\n",
    "print(a.dividend_rate)"
   ]
  },
  {
   "cell_type": "code",
   "execution_count": 17,
   "id": "4a9ff117-3625-46cf-888c-4461b54a1a50",
   "metadata": {},
   "outputs": [],
   "source": [
    "# 268\n",
    "\n",
    "class Stock():\n",
    "    def __init__(self, item_name, item_code, per, pbr, dividend_rate):\n",
    "        self.item_name = item_name\n",
    "        self.item_code = item_code\n",
    "        self.per = per\n",
    "        self.pbr = pbr\n",
    "        self.dividend_rate = dividend_rate\n",
    "\n",
    "    def set_name(self, item_name):\n",
    "        self.item_name = item_name\n",
    "\n",
    "    def set_code(self, item_code):\n",
    "        self.item_code = item_code\n",
    "\n",
    "    def get_name(self):\n",
    "        return self.item_name\n",
    "\n",
    "    def get_code(self):\n",
    "        return self.item_code\n",
    "\n",
    "    def set_per(self, per):\n",
    "        self.per = per\n",
    "\n",
    "    def set_pbr(self, pbr):\n",
    "        self.pbr = pbr\n",
    "\n",
    "    def set_dividend(self, dividend_rate):\n",
    "        self.dividend_rate = dividend_rate\n",
    "        "
   ]
  },
  {
   "cell_type": "code",
   "execution_count": 18,
   "id": "30e3c695-7b77-45de-a662-6b3934f26de7",
   "metadata": {},
   "outputs": [
    {
     "name": "stdout",
     "output_type": "stream",
     "text": [
      "수정 전:  15.79\n",
      "수정 후:  12.75\n"
     ]
    }
   ],
   "source": [
    "# 269\n",
    "\n",
    "a = Stock(\"삼성전자\", \"005930\", 15.79, 1.33, 2.83)\n",
    "print(\"수정 전: \", a.per)\n",
    "a.set_per(12.75)\n",
    "print(\"수정 후: \", a.per)"
   ]
  },
  {
   "cell_type": "code",
   "execution_count": 19,
   "id": "edcb61a4-a50d-4f1f-9f50-d88057a4aaca",
   "metadata": {},
   "outputs": [
    {
     "name": "stdout",
     "output_type": "stream",
     "text": [
      "005930 15.79\n",
      "005380 8.7\n",
      "066570 317.34\n"
     ]
    }
   ],
   "source": [
    "# 270\n",
    "\n",
    "samsung = Stock(\"삼성전자\", \"005930\", 15.79, 1.33, 2.83)\n",
    "hyundai = Stock(\"현대차\", \"005380\", 8.70, 0.35, 4.27)\n",
    "lg_electronic = Stock(\"LG전차\", \"066570\", 317.34, 0.69, 1.37)\n",
    "\n",
    "items = [samsung, hyundai, lg_electronic]\n",
    "\n",
    "for item in items:\n",
    "    print(item.item_code, item.per)"
   ]
  },
  {
   "cell_type": "code",
   "execution_count": null,
   "id": "35426296-e4eb-4f05-91cc-217a094d3f16",
   "metadata": {},
   "outputs": [],
   "source": []
  }
 ],
 "metadata": {
  "kernelspec": {
   "display_name": "Python 3 (ipykernel)",
   "language": "python",
   "name": "python3"
  },
  "language_info": {
   "codemirror_mode": {
    "name": "ipython",
    "version": 3
   },
   "file_extension": ".py",
   "mimetype": "text/x-python",
   "name": "python",
   "nbconvert_exporter": "python",
   "pygments_lexer": "ipython3",
   "version": "3.11.6"
  }
 },
 "nbformat": 4,
 "nbformat_minor": 5
}
