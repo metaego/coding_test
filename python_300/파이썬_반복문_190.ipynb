{
 "cells": [
  {
   "cell_type": "code",
   "execution_count": 3,
   "id": "f306ece6-03f4-497f-82a3-514fd3b45d13",
   "metadata": {},
   "outputs": [
    {
     "name": "stdout",
     "output_type": "stream",
     "text": [
      "[['101호', '102호'], ['201호', '202호'], ['301호', '302호']]\n"
     ]
    }
   ],
   "source": [
    "# 181\n",
    "apart = []\n",
    "\n",
    "for i in range(1, 4):\n",
    "    apart.append([str(100 * i + 1) +'호', str(100 * i + 2) +'호'])\n",
    "print(apart)"
   ]
  },
  {
   "cell_type": "code",
   "execution_count": 4,
   "id": "4b542898-1c65-4b00-a425-65fdf03014dc",
   "metadata": {},
   "outputs": [],
   "source": [
    "# 182\n",
    "\n",
    "stock = [\n",
    "    [\"시가\", 100, 200, 300],\n",
    "    [\"종가\", 80, 210, 330]\n",
    "]\n"
   ]
  },
  {
   "cell_type": "code",
   "execution_count": 5,
   "id": "984afe87-2087-4700-b6a2-bfece985cb8f",
   "metadata": {},
   "outputs": [],
   "source": [
    "# 183\n",
    "\n",
    "stock = {\n",
    "    \"시가\": [100, 200, 300],\n",
    "    \"종가\": [80, 210, 330]\n",
    "}"
   ]
  },
  {
   "cell_type": "code",
   "execution_count": 6,
   "id": "5d4f00f3-9066-4c50-a613-2c3a70ea8bab",
   "metadata": {},
   "outputs": [],
   "source": [
    "# 184\n",
    "\n",
    "stock = {\n",
    "    '10/10' : [80, 110, 70, 90],\n",
    "    '10/11' : [210, 230, 190, 200]\n",
    "}"
   ]
  },
  {
   "cell_type": "code",
   "execution_count": 7,
   "id": "29f3d7a1-beea-4fda-bcb7-180225f112e8",
   "metadata": {},
   "outputs": [
    {
     "name": "stdout",
     "output_type": "stream",
     "text": [
      "101 호\n",
      "102 호\n",
      "201 호\n",
      "202 호\n",
      "301 호\n",
      "302 호\n"
     ]
    }
   ],
   "source": [
    "# 185\n",
    "\n",
    "apart = [ [101, 102], [201, 202], [301, 302] ]\n",
    "\n",
    "for floor in apart:\n",
    "    for ho in floor:\n",
    "        print(ho, \"호\")"
   ]
  },
  {
   "cell_type": "code",
   "execution_count": 8,
   "id": "a9f044cb-60b2-42bf-b13e-7bc024a69ef5",
   "metadata": {},
   "outputs": [
    {
     "name": "stdout",
     "output_type": "stream",
     "text": [
      "301 호\n",
      "302 호\n",
      "201 호\n",
      "202 호\n",
      "101 호\n",
      "102 호\n"
     ]
    }
   ],
   "source": [
    "# 186\n",
    "\n",
    "apart = [ [101, 102], [201, 202], [301, 302] ]\n",
    "\n",
    "for floor in apart[::-1]:\n",
    "    for ho in floor:\n",
    "        print(ho, '호')"
   ]
  },
  {
   "cell_type": "code",
   "execution_count": 9,
   "id": "c5a62683-f5e1-4a50-b9f8-37e44a61a2d6",
   "metadata": {},
   "outputs": [
    {
     "name": "stdout",
     "output_type": "stream",
     "text": [
      "302 호\n",
      "301 호\n",
      "202 호\n",
      "201 호\n",
      "102 호\n",
      "101 호\n"
     ]
    }
   ],
   "source": [
    "# 187\n",
    "\n",
    "apart = [ [101, 102], [201, 202], [301, 302] ]\n",
    "\n",
    "for floor in apart[::-1]:\n",
    "    for ho in floor[::-1]:\n",
    "        print(ho, '호')"
   ]
  },
  {
   "cell_type": "code",
   "execution_count": 11,
   "id": "fa231e4f-16fb-47d4-8106-c5587a089152",
   "metadata": {},
   "outputs": [
    {
     "name": "stdout",
     "output_type": "stream",
     "text": [
      "101 호\n",
      "-----\n",
      "102 호\n",
      "-----\n",
      "201 호\n",
      "-----\n",
      "202 호\n",
      "-----\n",
      "301 호\n",
      "-----\n",
      "302 호\n",
      "-----\n"
     ]
    }
   ],
   "source": [
    "# 188\n",
    "\n",
    "apart = [ [101, 102], [201, 202], [301, 302] ]\n",
    "\n",
    "for floor in apart:\n",
    "    for ho in floor:\n",
    "        print(ho, '호')\n",
    "        print('-' * 5)"
   ]
  },
  {
   "cell_type": "code",
   "execution_count": 12,
   "id": "c6493adc-8c0d-40df-a988-6cbb4030250f",
   "metadata": {},
   "outputs": [
    {
     "name": "stdout",
     "output_type": "stream",
     "text": [
      "101 호\n",
      "102 호\n",
      "-----\n",
      "201 호\n",
      "202 호\n",
      "-----\n",
      "301 호\n",
      "302 호\n",
      "-----\n"
     ]
    }
   ],
   "source": [
    "# 189\n",
    "\n",
    "apart = [ [101, 102], [201, 202], [301, 302] ]\n",
    "\n",
    "for floor in apart:\n",
    "    for ho in floor:\n",
    "        print(ho, '호')\n",
    "\n",
    "    print(\"-\" * 5)"
   ]
  },
  {
   "cell_type": "code",
   "execution_count": 13,
   "id": "0d0394ca-5a2e-40a7-80d6-3928cd0008d6",
   "metadata": {},
   "outputs": [
    {
     "name": "stdout",
     "output_type": "stream",
     "text": [
      "101 호\n",
      "102 호\n",
      "201 호\n",
      "202 호\n",
      "301 호\n",
      "302 호\n",
      "-----\n"
     ]
    }
   ],
   "source": [
    "# 190\n",
    "\n",
    "apart = [ [101, 102], [201, 202], [301, 302] ]\n",
    "\n",
    "for floor in apart:\n",
    "    for ho in floor:\n",
    "        print(ho, '호')\n",
    "\n",
    "print('-' * 5)"
   ]
  },
  {
   "cell_type": "code",
   "execution_count": null,
   "id": "673383ec-1972-4d2c-9a17-7e8f0e231bb9",
   "metadata": {},
   "outputs": [],
   "source": []
  }
 ],
 "metadata": {
  "kernelspec": {
   "display_name": "Python 3 (ipykernel)",
   "language": "python",
   "name": "python3"
  },
  "language_info": {
   "codemirror_mode": {
    "name": "ipython",
    "version": 3
   },
   "file_extension": ".py",
   "mimetype": "text/x-python",
   "name": "python",
   "nbconvert_exporter": "python",
   "pygments_lexer": "ipython3",
   "version": "3.11.6"
  }
 },
 "nbformat": 4,
 "nbformat_minor": 5
}
