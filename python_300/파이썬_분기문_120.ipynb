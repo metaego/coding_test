{
 "cells": [
  {
   "cell_type": "code",
   "execution_count": 1,
   "id": "3e043b56-eeff-4f0f-9624-62a341a49c59",
   "metadata": {},
   "outputs": [
    {
     "name": "stdin",
     "output_type": "stream",
     "text": [
      " 30\n"
     ]
    },
    {
     "name": "stdout",
     "output_type": "stream",
     "text": [
      "짝수\n"
     ]
    }
   ],
   "source": [
    "# 113\n",
    "\n",
    "num = int(input())\n",
    "\n",
    "if num % 2 :\n",
    "    print(\"홀수\")\n",
    "else:\n",
    "    print(\"짝수\")"
   ]
  },
  {
   "cell_type": "code",
   "execution_count": 3,
   "id": "3368fe25-ebbe-482c-990c-3ec90fe46571",
   "metadata": {},
   "outputs": [
    {
     "name": "stdin",
     "output_type": "stream",
     "text": [
      "입력값:  240\n"
     ]
    },
    {
     "name": "stdout",
     "output_type": "stream",
     "text": [
      "출력값: 255\n"
     ]
    }
   ],
   "source": [
    "# 114\n",
    "\n",
    "num = int(input(\"입력값: \")) + 20\n",
    "if num > 255 :\n",
    "    print(f'출력값: 255')\n",
    "else:\n",
    "    print(f'출력값: {num}')"
   ]
  },
  {
   "cell_type": "code",
   "execution_count": 8,
   "id": "1e1d8567-be66-4e72-9751-813a37ba14ff",
   "metadata": {},
   "outputs": [
    {
     "name": "stdin",
     "output_type": "stream",
     "text": [
      "입력값:  300\n"
     ]
    },
    {
     "name": "stdout",
     "output_type": "stream",
     "text": [
      "출력값: 255\n"
     ]
    }
   ],
   "source": [
    "num = int(input(\"입력값: \")) - 20\n",
    "if num < 0 :\n",
    "    print(f'출력값: 0')\n",
    "elif num > 255 :\n",
    "    print(f'출력값: 255')\n",
    "else:\n",
    "    print(f'출력값: {num}')"
   ]
  },
  {
   "cell_type": "code",
   "execution_count": 11,
   "id": "0f849512-3803-430b-b004-61782e8fcb51",
   "metadata": {},
   "outputs": [
    {
     "name": "stdin",
     "output_type": "stream",
     "text": [
      "현재시간:  03:10\n"
     ]
    },
    {
     "name": "stdout",
     "output_type": "stream",
     "text": [
      "정각이 아닙니다\n"
     ]
    }
   ],
   "source": [
    "# 116\n",
    "\n",
    "time = input('현재시간: ')\n",
    "\n",
    "if time[-2:] == '00' :\n",
    "    print(\"정각 입니다\")\n",
    "else:\n",
    "    print(\"정각이 아닙니다\")"
   ]
  },
  {
   "cell_type": "code",
   "execution_count": 13,
   "id": "593ad0a3-bf14-4297-a2b7-8e3f285239e2",
   "metadata": {},
   "outputs": [
    {
     "name": "stdin",
     "output_type": "stream",
     "text": [
      "좋아하는 과일은?  수박\n"
     ]
    },
    {
     "name": "stdout",
     "output_type": "stream",
     "text": [
      "오답입니다\n"
     ]
    }
   ],
   "source": [
    "# 117\n",
    "fruit = [\"사과\", \"포도\", \"홍시\"]\n",
    "\n",
    "data = input(\"좋아하는 과일은? \")\n",
    "\n",
    "if data in fruit :\n",
    "    print('정답입니다')\n",
    "else:\n",
    "    print(\"오답입니다\")"
   ]
  },
  {
   "cell_type": "code",
   "execution_count": 16,
   "id": "69679460-d4da-46fc-b8c1-bf0a4355b765",
   "metadata": {},
   "outputs": [
    {
     "name": "stdin",
     "output_type": "stream",
     "text": [
      " SAMSUNG\n"
     ]
    },
    {
     "name": "stdout",
     "output_type": "stream",
     "text": [
      "투자 경고 종목입니다\n"
     ]
    }
   ],
   "source": [
    "# 118\n",
    "\n",
    "warn_investment_list = [\"Microsoft\", \"Google\", \"Naver\", \"Kakao\", \"SAMSUNG\", \"LG\"]\n",
    "\n",
    "investment = input()\n",
    "\n",
    "if investment in warn_investment_list :\n",
    "    print('투자 경고 종목입니다')\n",
    "else:\n",
    "    print('투자 경고 종목이 아닙니다')"
   ]
  },
  {
   "cell_type": "code",
   "execution_count": 20,
   "id": "b4a37845-b1b5-4f15-aa50-9df27f9b9575",
   "metadata": {},
   "outputs": [
    {
     "name": "stdin",
     "output_type": "stream",
     "text": [
      "제가 좋아하는 계절은:  봄\n"
     ]
    },
    {
     "name": "stdout",
     "output_type": "stream",
     "text": [
      "정답입니다\n"
     ]
    }
   ],
   "source": [
    "# 119\n",
    "\n",
    "fruit = {\"봄\" : \"딸기\", \"여름\" : \"토마토\", \"가을\" : \"사과\"}\n",
    "\n",
    "data = input(\"제가 좋아하는 계절은: \")\n",
    "# fruit_keys = list(fruit.keys)\n",
    "if data in  list(fruit.keys()):\n",
    "    print(\"정답입니다\")\n",
    "else:\n",
    "    print('오답입니다.')"
   ]
  },
  {
   "cell_type": "code",
   "execution_count": 22,
   "id": "ee7a723c-09bd-4378-84e6-353b6a8772a3",
   "metadata": {},
   "outputs": [
    {
     "name": "stdin",
     "output_type": "stream",
     "text": [
      "좋아하는 과일은?:  딸기\n"
     ]
    },
    {
     "name": "stdout",
     "output_type": "stream",
     "text": [
      "정답입니다\n"
     ]
    }
   ],
   "source": [
    "# 120\n",
    "\n",
    "fruit = {\"봄\" : \"딸기\", \"여름\" : \"토마토\", \"가을\" : \"사과\"}\n",
    "\n",
    "data = input('좋아하는 과일은?: ')\n",
    "\n",
    "if data in fruit.values():\n",
    "    print('정답입니다')\n",
    "else:\n",
    "    print('오답입니다') "
   ]
  },
  {
   "cell_type": "code",
   "execution_count": null,
   "id": "9528feed-4180-46f7-8b65-b2571fb6cd30",
   "metadata": {},
   "outputs": [],
   "source": []
  }
 ],
 "metadata": {
  "kernelspec": {
   "display_name": "Python 3 (ipykernel)",
   "language": "python",
   "name": "python3"
  },
  "language_info": {
   "codemirror_mode": {
    "name": "ipython",
    "version": 3
   },
   "file_extension": ".py",
   "mimetype": "text/x-python",
   "name": "python",
   "nbconvert_exporter": "python",
   "pygments_lexer": "ipython3",
   "version": "3.11.6"
  }
 },
 "nbformat": 4,
 "nbformat_minor": 5
}
