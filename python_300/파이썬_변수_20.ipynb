{
 "cells": [
  {
   "cell_type": "code",
   "execution_count": 1,
   "id": "e5ac593a-9e6f-4e08-962b-c6569dc2f7e2",
   "metadata": {},
   "outputs": [
    {
     "name": "stdout",
     "output_type": "stream",
     "text": [
      "500000\n"
     ]
    }
   ],
   "source": [
    "'''\n",
    "삼성전자라는 변수로 50000원 바인딩.\n",
    "삼성전자 주식 10주 보유하고 있을 때 총 평가금액은?\n",
    "'''\n",
    "samsung = 50_000\n",
    "price = samsung * 10\n",
    "print(price)"
   ]
  },
  {
   "cell_type": "code",
   "execution_count": 2,
   "id": "3356b2a0-f35b-429e-997f-2e80b8888a65",
   "metadata": {},
   "outputs": [],
   "source": [
    "'''\n",
    "변수를 사용해 시가총액, 현재가, PER을 바인딩하라\n",
    "|항목|값|\n",
    "|---|---|\n",
    "|시가총액|298조|\n",
    "|현재가|50_000|\n",
    "|PER|15.79|\n",
    "'''\n",
    "market_capitalization = 298\n",
    "current_price = 50_000\n",
    "PER = 15.79"
   ]
  },
  {
   "cell_type": "code",
   "execution_count": 4,
   "id": "4ed194d8-1dfb-4431-8bd6-e5ac0fd97790",
   "metadata": {},
   "outputs": [
    {
     "name": "stdout",
     "output_type": "stream",
     "text": [
      "hello! python\n"
     ]
    }
   ],
   "source": [
    "'''\n",
    "아래와 같이 바인딩 되어 있을 때, 실행 예처럼 출력하라\n",
    ">> s = \"hello\"\n",
    ">> t = \"python\"\n",
    "\n",
    "실행 예:\n",
    "hello! python\n",
    "'''\n",
    "s = \"hello\"\n",
    "t = \"python\"\n",
    "\n",
    "print(f'{s}! {t}')"
   ]
  },
  {
   "cell_type": "code",
   "execution_count": 5,
   "id": "4f716a7b-6215-4db4-b234-6d4e010befef",
   "metadata": {},
   "outputs": [
    {
     "data": {
      "text/plain": [
       "8"
      ]
     },
     "execution_count": 5,
     "metadata": {},
     "output_type": "execute_result"
    }
   ],
   "source": [
    "'''\n",
    "아래 코드 실행 결과는?\n",
    ">> 2 + 2 * 3 \n",
    "'''\n",
    "\n",
    "2 + 2 * 3 "
   ]
  },
  {
   "cell_type": "code",
   "execution_count": 6,
   "id": "24d9e338-c364-4c68-b92b-fc469dce99fd",
   "metadata": {},
   "outputs": [
    {
     "name": "stdout",
     "output_type": "stream",
     "text": [
      "<class 'str'>\n"
     ]
    }
   ],
   "source": [
    "''' \n",
    "아래 변수의 값 타입을 판별하라\n",
    ">> a = \"132\"\n",
    "'''\n",
    "\n",
    "a = \"132\"\n",
    "print(type(a))"
   ]
  },
  {
   "cell_type": "code",
   "execution_count": 7,
   "id": "f3dd3497-e17c-4348-8bc6-f80013752241",
   "metadata": {},
   "outputs": [
    {
     "data": {
      "text/plain": [
       "720"
      ]
     },
     "execution_count": 7,
     "metadata": {},
     "output_type": "execute_result"
    }
   ],
   "source": [
    "'''\n",
    "아레 문자열을 정수형으로 변환하라\n",
    ">> num_str = \"720\"\n",
    "'''\n",
    "num_str = \"720\"\n",
    "int(num_str)"
   ]
  },
  {
   "cell_type": "code",
   "execution_count": 8,
   "id": "24adaba1-4233-4342-a087-ca12d932dd64",
   "metadata": {},
   "outputs": [
    {
     "data": {
      "text/plain": [
       "'100'"
      ]
     },
     "execution_count": 8,
     "metadata": {},
     "output_type": "execute_result"
    }
   ],
   "source": [
    "'''\n",
    "정수를 문자열로 반환\n",
    "num = 100\n",
    "'''\n",
    "num = 100\n",
    "str(num)"
   ]
  },
  {
   "cell_type": "code",
   "execution_count": 10,
   "id": "6e661a1e-9a8a-4281-bbca-8e342d0cd562",
   "metadata": {},
   "outputs": [
    {
     "name": "stdout",
     "output_type": "stream",
     "text": [
      "15.79 <class 'float'>\n"
     ]
    }
   ],
   "source": [
    "'''\n",
    "문자열을 실수로 변환하라\n",
    "\"15.79\"\n",
    "'''\n",
    "f = float(\"15.79\")\n",
    "print(f, type(f))"
   ]
  },
  {
   "cell_type": "code",
   "execution_count": 17,
   "id": "603289ea-0c15-4783-8c60-a59cd54d9b17",
   "metadata": {},
   "outputs": [
    {
     "name": "stdout",
     "output_type": "stream",
     "text": [
      "2017\n",
      "2018\n",
      "2019\n"
     ]
    }
   ],
   "source": [
    "'''\n",
    "문자열 year을 정수로 변환한 후 최근 3년의 연도(2017, 2018, 2019)를 화면에 출력하라\n",
    "year = \"2020\"\n",
    "'''\n",
    "\n",
    "year = \"2020\"\n",
    "\n",
    "for num in range(3, 0, -1) :\n",
    "    print(int(year) - num)"
   ]
  },
  {
   "cell_type": "code",
   "execution_count": 18,
   "id": "e0f3fecb-5384-4da6-a237-b0e8755a2ba1",
   "metadata": {},
   "outputs": [
    {
     "name": "stdout",
     "output_type": "stream",
     "text": [
      "1749024\n"
     ]
    }
   ],
   "source": [
    "'''\n",
    "에이컨이 월 48,584원에 무이자 36개월의 조건으로 홈쇼핑에서 판매되고 있습니다. 총 금액은 계산한 후 이를 화면에 출력해보세요. (변수사용하기)\n",
    "'''\n",
    "\n",
    "per_month_price = 48_584\n",
    "interest_free_month = 36\n",
    "total = per_month_price * interest_free_month\n",
    "print(total)"
   ]
  },
  {
   "cell_type": "code",
   "execution_count": null,
   "id": "65d7f379-ffcd-4dc8-a721-49238ff46de7",
   "metadata": {},
   "outputs": [],
   "source": []
  }
 ],
 "metadata": {
  "kernelspec": {
   "display_name": "Python 3 (ipykernel)",
   "language": "python",
   "name": "python3"
  },
  "language_info": {
   "codemirror_mode": {
    "name": "ipython",
    "version": 3
   },
   "file_extension": ".py",
   "mimetype": "text/x-python",
   "name": "python",
   "nbconvert_exporter": "python",
   "pygments_lexer": "ipython3",
   "version": "3.11.6"
  }
 },
 "nbformat": 4,
 "nbformat_minor": 5
}
