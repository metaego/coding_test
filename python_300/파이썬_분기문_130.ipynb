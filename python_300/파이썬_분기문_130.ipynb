{
 "cells": [
  {
   "cell_type": "code",
   "execution_count": 7,
   "id": "94017c9f-8322-421b-9fff-525cc6e548b7",
   "metadata": {},
   "outputs": [
    {
     "name": "stdin",
     "output_type": "stream",
     "text": [
      " B\n"
     ]
    },
    {
     "name": "stdout",
     "output_type": "stream",
     "text": [
      "b\n"
     ]
    }
   ],
   "source": [
    "# 121\n",
    "\n",
    "data = input()\n",
    "\n",
    "if data.islower() :\n",
    "    print(data.upper())  # 원본 데이터 수정 x\n",
    "    # print(data)\n",
    "else:\n",
    "    print(data.lower())\n",
    "    # print(data)"
   ]
  },
  {
   "cell_type": "code",
   "execution_count": 12,
   "id": "338b7e1d-31f1-4e3f-a3e8-1a4f649b2cae",
   "metadata": {},
   "outputs": [
    {
     "name": "stdin",
     "output_type": "stream",
     "text": [
      " 10\n"
     ]
    },
    {
     "name": "stdout",
     "output_type": "stream",
     "text": [
      "grade is E\n"
     ]
    }
   ],
   "source": [
    "# 122\n",
    "\n",
    "score = int(input())\n",
    "\n",
    "if score > 80 :\n",
    "    print('grade is A')\n",
    "elif score > 60 :\n",
    "    print('grade is B')\n",
    "elif score > 40 :\n",
    "    print('grade is C')\n",
    "elif score > 20 :\n",
    "    print('grade is D')\n",
    "else :\n",
    "    print('grade is E')"
   ]
  },
  {
   "cell_type": "code",
   "execution_count": 16,
   "id": "3cee2a60-9c4b-4d1e-9925-c9ad541c2b92",
   "metadata": {},
   "outputs": [
    {
     "name": "stdin",
     "output_type": "stream",
     "text": [
      " 100 달러\n"
     ]
    },
    {
     "name": "stdout",
     "output_type": "stream",
     "text": [
      "116700.0  원\n"
     ]
    }
   ],
   "source": [
    "# 123\n",
    "USD = 1_167\n",
    "JPY = 1.096\n",
    "EU = 1_268\n",
    "CNY = 171\n",
    "\n",
    "data = input().split(\" \")\n",
    "data[0] = float(data[0])\n",
    "\n",
    "if data[1] == '달러' :\n",
    "    print(data[0] * USD, \" 원\")\n",
    "elif data[1] == '엔' :\n",
    "    print(data[0] * JPY, \" 원\")\n",
    "elif data[1] == '유로' :\n",
    "    print(data[0] * EU, \" 원\")\n",
    "elif data[1] == '위안' :\n",
    "    print(data[0] * CNY, \" 원\")"
   ]
  },
  {
   "cell_type": "code",
   "execution_count": 20,
   "id": "b490096c-1585-46ee-a1ea-35299d71a731",
   "metadata": {},
   "outputs": [
    {
     "name": "stdin",
     "output_type": "stream",
     "text": [
      " 100 달러\n"
     ]
    },
    {
     "name": "stdout",
     "output_type": "stream",
     "text": [
      "116700.0 원\n"
     ]
    }
   ],
   "source": [
    "# 123(다른 풀이)\n",
    "\n",
    "exchange_rate = {'달러' : 1_167,\n",
    "                '엔': 1.096,\n",
    "                '유로':1_268,\n",
    "                '위안':171}\n",
    "\n",
    "num, currency = input().split(\" \")\n",
    "print(float(num) * exchange_rate[currency], \"원\")"
   ]
  },
  {
   "cell_type": "code",
   "execution_count": 23,
   "id": "4747ab01-1046-4b6a-a903-6aae622a1a70",
   "metadata": {},
   "outputs": [
    {
     "name": "stdin",
     "output_type": "stream",
     "text": [
      "number1:  10\n",
      "number2:  9\n",
      "number3  20\n"
     ]
    },
    {
     "data": {
      "text/plain": [
       "20"
      ]
     },
     "execution_count": 23,
     "metadata": {},
     "output_type": "execute_result"
    }
   ],
   "source": [
    "# 124\n",
    "\n",
    "number1 = int(input('number1: '))\n",
    "number2 = int(input('number2: '))\n",
    "number3 = int(input('number3 '))\n",
    "\n",
    "lst = []\n",
    "lst.extend([number1, number2, number3])\n",
    "max(lst)"
   ]
  },
  {
   "cell_type": "code",
   "execution_count": 28,
   "id": "0e57cb94-5424-4a4f-a07b-40f4ca0ca4e1",
   "metadata": {},
   "outputs": [
    {
     "name": "stdin",
     "output_type": "stream",
     "text": [
      "휴대전화 번호 입력:  010-0-0\n"
     ]
    },
    {
     "name": "stdout",
     "output_type": "stream",
     "text": [
      "당신은 알수없음 사용자입니다.\n"
     ]
    }
   ],
   "source": [
    "# 125\n",
    "tel_com = {'011': 'SKT',\n",
    "          '016': 'KT',\n",
    "          '019': 'LGU',\n",
    "          '010': '알수없음'}\n",
    "\n",
    "first_phone_num, _, _ = input(\"휴대전화 번호 입력: \").split(\"-\")\n",
    "\n",
    "print(f'당신은 {tel_com[first_phone_num]} 사용자입니다.')"
   ]
  },
  {
   "cell_type": "code",
   "execution_count": 30,
   "id": "455cb2c2-6926-4bd7-a5f3-63703e6b29c4",
   "metadata": {},
   "outputs": [
    {
     "name": "stdin",
     "output_type": "stream",
     "text": [
      "우편번호:  01400\n"
     ]
    },
    {
     "name": "stdout",
     "output_type": "stream",
     "text": [
      "도봉구\n"
     ]
    }
   ],
   "source": [
    "# 126\n",
    "\n",
    "gu = {0: '강북구',\n",
    "      1: '강북구', \n",
    "      2: '강북구',\n",
    "      3: '도봉구',\n",
    "      4: '도봉구', \n",
    "      5: '도봉구',\n",
    "      6: '노원구',\n",
    "      7: '노원구', \n",
    "      8: '노원구',\n",
    "      9: '노원구'}\n",
    "\n",
    "post_num = int(input(\"우편번호: \")[2])\n",
    "print(gu[post_num])"
   ]
  },
  {
   "cell_type": "code",
   "execution_count": null,
   "id": "0112ca80-b4a6-4a0d-8a01-3a74fb0520b3",
   "metadata": {},
   "outputs": [],
   "source": [
    "# 126 다른 풀이\n",
    "\n",
    "우편번호 = input(\"우편번호: \")\n",
    "우편번호 = 우편번호[:3]\n",
    "\n",
    "if 우편번호 in [\"010\", \"011\", \"012\"]:\n",
    "    print(\"강북구\")\n",
    "elif 우편번호 in [\"014\", \"015\", \"016\"]:\n",
    "    print(\"도봉구\")\n",
    "else:\n",
    "    print(\"노원구\")"
   ]
  },
  {
   "cell_type": "code",
   "execution_count": 32,
   "id": "c77d1892-81c0-487b-8ebf-17fad58cf870",
   "metadata": {},
   "outputs": [
    {
     "name": "stdin",
     "output_type": "stream",
     "text": [
      "주민등록번호:  821010-2635210\n"
     ]
    },
    {
     "name": "stdout",
     "output_type": "stream",
     "text": [
      "여자\n"
     ]
    }
   ],
   "source": [
    "# 127\n",
    "\n",
    "sex = int(input(\"주민등록번호: \")[7])\n",
    "\n",
    "if sex in [1, 3] :\n",
    "    print(\"남자\")\n",
    "else:\n",
    "    print(\"여자\")"
   ]
  },
  {
   "cell_type": "code",
   "execution_count": 42,
   "id": "3d749d53-821e-4151-a7a7-cc07dedc9afb",
   "metadata": {},
   "outputs": [
    {
     "name": "stdin",
     "output_type": "stream",
     "text": [
      "주민등록번호:  821010-1635210\n"
     ]
    },
    {
     "name": "stdout",
     "output_type": "stream",
     "text": [
      "서울이 아닙니다.\n"
     ]
    }
   ],
   "source": [
    "# 128\n",
    "\n",
    "birthplace = int(input('주민등록번호: ')[8:10])\n",
    "\n",
    "if birthplace < 9 :\n",
    "    print('서울 입니다.')\n",
    "else:\n",
    "    print('서울이 아닙니다.')"
   ]
  },
  {
   "cell_type": "code",
   "execution_count": 46,
   "id": "ed543223-3640-4dda-ac2b-f6276a8cb83c",
   "metadata": {},
   "outputs": [
    {
     "name": "stdin",
     "output_type": "stream",
     "text": [
      "주민등록번호:  821010-1635210\n"
     ]
    },
    {
     "name": "stdout",
     "output_type": "stream",
     "text": [
      "유효하지 않은 주민등록번호입니다.\n"
     ]
    }
   ],
   "source": [
    "# 129\n",
    "\n",
    "resident_num = input(\"주민등록번호: \")\n",
    "\n",
    "result1 = 0\n",
    "i = 2\n",
    "for num in resident_num[:-1] :\n",
    "    if num == '-':\n",
    "        continue\n",
    "    else: \n",
    "        result1 += int(num) * i\n",
    "        i += 1\n",
    "        if i == 9 :\n",
    "            i = 2\n",
    "\n",
    "result2 = result1 % 11\n",
    "\n",
    "if resident_num[-1] == (11 - result2) :\n",
    "    print('유효한 주민등록번호입니다')\n",
    "else:\n",
    "    print('유효하지 않은 주민등록번호입니다.')"
   ]
  },
  {
   "cell_type": "code",
   "execution_count": 50,
   "id": "3f7f0b91-95d1-4fee-a44b-f9b21fdeb7ac",
   "metadata": {},
   "outputs": [
    {
     "name": "stdout",
     "output_type": "stream",
     "text": [
      "상승장\n"
     ]
    }
   ],
   "source": [
    "# 130\n",
    "\n",
    "import requests\n",
    "btc = requests.get(\"https://api.bithumb.com/public/ticker/\").json()['data']\n",
    "\n",
    "# 변동폭 정의\n",
    "diff_depth = float(btc['max_price']) - float(btc['min_price'])\n",
    "\n",
    "if (float(btc['opening_price']) + diff_depth) > float(btc['opening_price']) :\n",
    "    print(\"상승장\")\n",
    "elif (float(btc['opening_price']) + diff_depth) < float(btc['opening_price']) :\n",
    "    print(\"하락장\")"
   ]
  },
  {
   "cell_type": "code",
   "execution_count": null,
   "id": "815f9418-7c62-4d87-92ba-75bc641c5d14",
   "metadata": {},
   "outputs": [],
   "source": []
  },
  {
   "cell_type": "code",
   "execution_count": null,
   "id": "52ff2701-f48e-4b53-aaaf-fbbcbb338463",
   "metadata": {},
   "outputs": [],
   "source": []
  },
  {
   "cell_type": "code",
   "execution_count": null,
   "id": "c200b41e-eed5-4b06-b273-cf32ba7ba302",
   "metadata": {},
   "outputs": [],
   "source": []
  },
  {
   "cell_type": "code",
   "execution_count": null,
   "id": "0712b540-d202-4632-8600-f14c61009c48",
   "metadata": {},
   "outputs": [],
   "source": []
  },
  {
   "cell_type": "code",
   "execution_count": null,
   "id": "8c9ebeed-360e-4936-b213-d2476c513e87",
   "metadata": {},
   "outputs": [],
   "source": []
  },
  {
   "cell_type": "code",
   "execution_count": null,
   "id": "b00aadc7-954e-4790-bfbb-34601ebf1cb6",
   "metadata": {},
   "outputs": [],
   "source": []
  },
  {
   "cell_type": "code",
   "execution_count": null,
   "id": "03b3f055-fa4b-45bc-aebc-8fdb70a0d1e0",
   "metadata": {},
   "outputs": [],
   "source": []
  },
  {
   "cell_type": "code",
   "execution_count": null,
   "id": "b89720a9-89ed-4346-a8af-117bf225bb86",
   "metadata": {},
   "outputs": [],
   "source": []
  },
  {
   "cell_type": "code",
   "execution_count": null,
   "id": "ab8b0d5b-c222-471d-ab6d-d910088512d2",
   "metadata": {},
   "outputs": [],
   "source": []
  }
 ],
 "metadata": {
  "kernelspec": {
   "display_name": "Python 3 (ipykernel)",
   "language": "python",
   "name": "python3"
  },
  "language_info": {
   "codemirror_mode": {
    "name": "ipython",
    "version": 3
   },
   "file_extension": ".py",
   "mimetype": "text/x-python",
   "name": "python",
   "nbconvert_exporter": "python",
   "pygments_lexer": "ipython3",
   "version": "3.11.6"
  }
 },
 "nbformat": 4,
 "nbformat_minor": 5
}
