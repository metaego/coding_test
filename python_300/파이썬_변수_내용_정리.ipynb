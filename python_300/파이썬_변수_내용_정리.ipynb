{
 "cells": [
  {
   "cell_type": "code",
   "execution_count": 16,
   "id": "6e51ec29-b9fa-49ba-9356-bb6174242427",
   "metadata": {},
   "outputs": [],
   "source": [
    "f = [1, 2, 3, 4, 5, 6]"
   ]
  },
  {
   "cell_type": "code",
   "execution_count": 17,
   "id": "f9e5574a-e43d-4b70-ab03-92be01de8689",
   "metadata": {},
   "outputs": [
    {
     "data": {
      "text/plain": [
       "[1, 2, 3, 4, 5, 6, 100]"
      ]
     },
     "execution_count": 17,
     "metadata": {},
     "output_type": "execute_result"
    }
   ],
   "source": [
    "f.append(100)\n",
    "f"
   ]
  },
  {
   "cell_type": "code",
   "execution_count": 18,
   "id": "d34b6230-70ef-48cb-a9a5-89314db98730",
   "metadata": {},
   "outputs": [
    {
     "data": {
      "text/plain": [
       "[1, 2, 300, 3, 4, 5, 6, 100]"
      ]
     },
     "execution_count": 18,
     "metadata": {},
     "output_type": "execute_result"
    }
   ],
   "source": [
    "# 특정 위치에 특정 값 삽입\n",
    "f.insert(2, 300)\n",
    "f"
   ]
  },
  {
   "cell_type": "code",
   "execution_count": 19,
   "id": "e46e53b7-f4eb-42df-8af3-9c528b026365",
   "metadata": {},
   "outputs": [
    {
     "data": {
      "text/plain": [
       "[1, 2, 300, 3, 4, 5, 6, 100, 'a', 'b']"
      ]
     },
     "execution_count": 19,
     "metadata": {},
     "output_type": "execute_result"
    }
   ],
   "source": [
    "f.extend(['a', 'b'])\n",
    "f"
   ]
  },
  {
   "cell_type": "code",
   "execution_count": 20,
   "id": "c97ae8f9-29a6-48f5-9e6e-660c7fd4a6a6",
   "metadata": {},
   "outputs": [
    {
     "name": "stdout",
     "output_type": "stream",
     "text": [
      "[1, 2, 300, 3, 4, 5, 6, 100, 'a', 'b', 'a', 'b']\n",
      "[1, 2, 300, 3, 4, 5, 6, 100, 'b', 'a', 'b']\n"
     ]
    }
   ],
   "source": [
    "# 첫번째로 만나는 값 삭제\n",
    "\n",
    "f.extend(['a', 'b'])\n",
    "print(f)\n",
    "\n",
    "f.remove('a')\n",
    "print(f)"
   ]
  },
  {
   "cell_type": "code",
   "execution_count": 21,
   "id": "a6eb3509-d4cf-4228-b082-ed39e6ac3881",
   "metadata": {},
   "outputs": [
    {
     "data": {
      "text/plain": [
       "[1, 2, 300, 3, 4, 5, 6, 100, 'b', 'a']"
      ]
     },
     "execution_count": 21,
     "metadata": {},
     "output_type": "execute_result"
    }
   ],
   "source": [
    "f.pop()\n",
    "f"
   ]
  },
  {
   "cell_type": "code",
   "execution_count": 22,
   "id": "387d8917-1474-4fa1-a7b1-3af9f96051ed",
   "metadata": {},
   "outputs": [
    {
     "data": {
      "text/plain": [
       "5"
      ]
     },
     "execution_count": 22,
     "metadata": {},
     "output_type": "execute_result"
    }
   ],
   "source": [
    "# 특정 값의 위치찾기\n",
    "f.index(5)"
   ]
  },
  {
   "cell_type": "code",
   "execution_count": 23,
   "id": "14c42b3b-8c13-43d1-929c-cc02c7d00560",
   "metadata": {},
   "outputs": [
    {
     "data": {
      "text/plain": [
       "5"
      ]
     },
     "execution_count": 23,
     "metadata": {},
     "output_type": "execute_result"
    }
   ],
   "source": [
    "f[5]"
   ]
  },
  {
   "cell_type": "code",
   "execution_count": 24,
   "id": "d6205909-d74c-4bde-b458-7b3536a0ff78",
   "metadata": {},
   "outputs": [
    {
     "data": {
      "text/plain": [
       "1"
      ]
     },
     "execution_count": 24,
     "metadata": {},
     "output_type": "execute_result"
    }
   ],
   "source": [
    "# 특정 인자와 일치하는 갯수 찾기\n",
    "f.count('a')"
   ]
  },
  {
   "cell_type": "code",
   "execution_count": 27,
   "id": "b8abeb07-968b-4cbe-8a94-0eef17f97f2e",
   "metadata": {},
   "outputs": [
    {
     "ename": "TypeError",
     "evalue": "'<' not supported between instances of 'str' and 'int'",
     "output_type": "error",
     "traceback": [
      "\u001b[1;31m---------------------------------------------------------------------------\u001b[0m",
      "\u001b[1;31mTypeError\u001b[0m                                 Traceback (most recent call last)",
      "Cell \u001b[1;32mIn[27], line 1\u001b[0m\n\u001b[1;32m----> 1\u001b[0m \u001b[43mf\u001b[49m\u001b[38;5;241;43m.\u001b[39;49m\u001b[43msort\u001b[49m\u001b[43m(\u001b[49m\u001b[43m)\u001b[49m\n",
      "\u001b[1;31mTypeError\u001b[0m: '<' not supported between instances of 'str' and 'int'"
     ]
    }
   ],
   "source": [
    "f.sort()"
   ]
  },
  {
   "cell_type": "code",
   "execution_count": 30,
   "id": "cef58792-cae4-4ee5-8ef1-4347d8dc6efa",
   "metadata": {},
   "outputs": [
    {
     "name": "stdout",
     "output_type": "stream",
     "text": [
      "None\n"
     ]
    },
    {
     "data": {
      "text/plain": [
       "[1, 2, 3, 4, 5, 6, 7]"
      ]
     },
     "execution_count": 30,
     "metadata": {},
     "output_type": "execute_result"
    }
   ],
   "source": [
    "f = [3,5,2,6,4,1,7]\n",
    "print(f.sort()) # 반환값이 없음, 원본이 바뀜\n",
    "f"
   ]
  },
  {
   "cell_type": "code",
   "execution_count": 33,
   "id": "33ac18e9-110c-4848-a740-0a20b48016af",
   "metadata": {},
   "outputs": [
    {
     "data": {
      "text/plain": [
       "[7, 6, 5, 4, 3, 2, 1]"
      ]
     },
     "execution_count": 33,
     "metadata": {},
     "output_type": "execute_result"
    }
   ],
   "source": [
    "f.reverse()\n",
    "f"
   ]
  },
  {
   "cell_type": "code",
   "execution_count": 41,
   "id": "cfc92d08-4fe2-49b4-bd7f-782beee20085",
   "metadata": {},
   "outputs": [
    {
     "name": "stdout",
     "output_type": "stream",
     "text": [
      "2\n",
      "리스트 수정 전: [1, 2, 3, 4, 5]\n",
      "리스트 수정 후: [1, 12, 3, 4, 5]\n",
      "[1, 12, 3, 4, 5, 1, 12, 3, 4, 5]\n",
      "[1, 12, 3, 4, 5, 1, 12, 3, 4, 5, 1, 12, 3, 4, 5]\n",
      "[1, 12, 3, 4, 5]\n",
      "[1, 12, 4, 5]\n",
      "False\n",
      "0\n"
     ]
    },
    {
     "ename": "ValueError",
     "evalue": "10 is not in list",
     "output_type": "error",
     "traceback": [
      "\u001b[1;31m---------------------------------------------------------------------------\u001b[0m",
      "\u001b[1;31mValueError\u001b[0m                                Traceback (most recent call last)",
      "Cell \u001b[1;32mIn[41], line 27\u001b[0m\n\u001b[0;32m     25\u001b[0m \u001b[38;5;28mprint\u001b[39m(\u001b[38;5;241m10\u001b[39m \u001b[38;5;129;01min\u001b[39;00m lst)\n\u001b[0;32m     26\u001b[0m \u001b[38;5;28mprint\u001b[39m(lst\u001b[38;5;241m.\u001b[39mcount(\u001b[38;5;241m10\u001b[39m))\n\u001b[1;32m---> 27\u001b[0m \u001b[38;5;28mprint\u001b[39m(\u001b[43mf\u001b[49m\u001b[38;5;241;43m.\u001b[39;49m\u001b[43mindex\u001b[49m\u001b[43m(\u001b[49m\u001b[38;5;241;43m10\u001b[39;49m\u001b[43m)\u001b[49m)\n",
      "\u001b[1;31mValueError\u001b[0m: 10 is not in list"
     ]
    }
   ],
   "source": [
    "# 리스트 다루기\n",
    "lst = [1, 2, 3, 4, 5]\n",
    "\n",
    "# 특정 인덱스 값 호출\n",
    "print(lst[1])\n",
    "\n",
    "# 특정 인덱스 값 수정\n",
    "# print(lst[1] = 12)\n",
    "print(f\"리스트 수정 전: {lst}\")\n",
    "lst[1] = 12\n",
    "print(f\"리스트 수정 후: {lst}\")\n",
    "\n",
    "# 리스트 더하기, 곱하기를 통해 리스트 확장\n",
    "print(lst + lst)\n",
    "print(lst *3)\n",
    "\n",
    "# 인덱스 슬라이싱\n",
    "print(lst[:])\n",
    "\n",
    "# 리스트 삭제\n",
    "del lst[2]\n",
    "print(lst)\n",
    "\n",
    "# 리스트 내 특정값 여부 확인\n",
    "print(10 in lst)     # 없으면 false\n",
    "print(lst.count(10)) # 없으면 0\n",
    "print(f.index(10)) # 없으면 오류 반환"
   ]
  },
  {
   "cell_type": "code",
   "execution_count": 34,
   "id": "70668071-340c-4b2e-ae10-2396ea50e5fc",
   "metadata": {},
   "outputs": [
    {
     "ename": "TypeError",
     "evalue": "'<' not supported between instances of 'str' and 'int'",
     "output_type": "error",
     "traceback": [
      "\u001b[1;31m---------------------------------------------------------------------------\u001b[0m",
      "\u001b[1;31mTypeError\u001b[0m                                 Traceback (most recent call last)",
      "Cell \u001b[1;32mIn[34], line 10\u001b[0m\n\u001b[0;32m      8\u001b[0m f\u001b[38;5;241m.\u001b[39mindex(\u001b[38;5;124m'\u001b[39m\u001b[38;5;124m값\u001b[39m\u001b[38;5;124m'\u001b[39m)  \u001b[38;5;66;03m# 특정값 인덱스 반환\u001b[39;00m\n\u001b[0;32m      9\u001b[0m f\u001b[38;5;241m.\u001b[39mcount(\u001b[38;5;124m'\u001b[39m\u001b[38;5;124m값\u001b[39m\u001b[38;5;124m'\u001b[39m)  \u001b[38;5;66;03m# 특정값 카운트\u001b[39;00m\n\u001b[1;32m---> 10\u001b[0m \u001b[43mf\u001b[49m\u001b[38;5;241;43m.\u001b[39;49m\u001b[43msort\u001b[49m\u001b[43m(\u001b[49m\u001b[43m)\u001b[49m  \u001b[38;5;66;03m# 정렬, 반환값 없음\u001b[39;00m\n\u001b[0;32m     11\u001b[0m f\u001b[38;5;241m.\u001b[39mreverse()  \u001b[38;5;66;03m# 리스트 순서 역정렬, 반환값 없음\u001b[39;00m\n",
      "\u001b[1;31mTypeError\u001b[0m: '<' not supported between instances of 'str' and 'int'"
     ]
    }
   ],
   "source": [
    "# 리스트 메소드(원본 수정됨)\n",
    "\n",
    "f.append('인자')\n",
    "f.insert(2, '값') # 특정 위치, 특정 값\n",
    "f.extend(['값', 100])  # 여러개 추가\n",
    "f.remove('인자')  # 특정 값 제거\n",
    "f.pop()\n",
    "f.index('값')  # 특정값 인덱스 반환\n",
    "f.count('값')  # 특정값 카운트\n",
    "f.sort()  # 정렬, 반환값 없음\n",
    "f.reverse()  # 리스트 순서 역정렬, 반환값 없음"
   ]
  },
  {
   "cell_type": "code",
   "execution_count": 46,
   "id": "7c85e38b-3aef-482b-9c2d-c93ced5aab44",
   "metadata": {},
   "outputs": [
    {
     "name": "stdout",
     "output_type": "stream",
     "text": [
      "8\n",
      "4\n",
      "1\n"
     ]
    }
   ],
   "source": [
    "# 튜플은 인덱스나 카운트는 사용 가능\n",
    "t = (2, 3, 2, 2, 2, 6, 4, 7)\n",
    "\n",
    "print(len(t))\n",
    "print(t.count(2))\n",
    "print(t.index(3))"
   ]
  },
  {
   "cell_type": "code",
   "execution_count": 55,
   "id": "796480d3-c935-4ab7-8f04-e132cddee796",
   "metadata": {},
   "outputs": [
    {
     "name": "stdout",
     "output_type": "stream",
     "text": [
      "{1, 2, 3}\n",
      "{1, 2, 3, 4, 5}\n"
     ]
    }
   ],
   "source": [
    "# set의 메소드는 list의 메소드와 달리 원본을 수정하지 않음\n",
    "\n",
    "a = {1, 2, 3, 4, 5}\n",
    "b = {4, 5, 6, 7, 8, 9, 10}\n",
    "\n",
    "# 교집합\n",
    "print(a.intersection(b))  # {4, 5}\n",
    "print(a)  # {1, 2, 3, 4, 5}\n",
    "\n",
    "# 합집합\n",
    "print(a.union(b))  # {1, 2, 3, 4, 5, 6, 7, 8, 9, 10}\n",
    "print(a)  # {1, 2, 3, 4, 5}\n",
    "\n",
    "# 차집합\n",
    "print(a.difference(b))  # {1, 2, 3}\n",
    "print(a)  # {1, 2, 3, 4, 5}"
   ]
  },
  {
   "cell_type": "code",
   "execution_count": 58,
   "id": "dac6d6d2-b585-44e2-9824-c9fd7033f0e2",
   "metadata": {},
   "outputs": [
    {
     "name": "stdout",
     "output_type": "stream",
     "text": [
      "{4, 5}\n",
      "{1, 2, 3, 4, 5}\n",
      "{1, 2, 3, 4, 5, 6, 7, 8, 9, 10}\n",
      "{1, 2, 3, 4, 5}\n",
      "{1, 2, 3}\n",
      "{1, 2, 3, 4, 5}\n"
     ]
    }
   ],
   "source": [
    "a = {1, 2, 3, 4, 5}\n",
    "b = {4, 5, 6, 7, 8, 9, 10}\n",
    "\n",
    "# 교집합\n",
    "print(a & b)  # {4, 5}\n",
    "print(a)  # {1, 2, 3, 4, 5}\n",
    "\n",
    "# 합집합\n",
    "print(a | b)  # {1, 2, 3, 4, 5, 6, 7, 8, 9, 10}\n",
    "print(a)  # {1, 2, 3, 4, 5}\n",
    "\n",
    "# 차집합\n",
    "print(a - b)  # {1, 2, 3}\n",
    "print(a)  # {1, 2, 3, 4, 5}"
   ]
  },
  {
   "cell_type": "code",
   "execution_count": 59,
   "id": "85282e8a-d69f-4e94-ae67-bc85015759b7",
   "metadata": {},
   "outputs": [
    {
     "name": "stdout",
     "output_type": "stream",
     "text": [
      "30\n",
      "10\n"
     ]
    }
   ],
   "source": [
    "a = 10\n",
    "\n",
    "print(a + 20)\n",
    "print(a)"
   ]
  },
  {
   "cell_type": "code",
   "execution_count": null,
   "id": "d5c22f20-548c-49ba-b142-093bf727e757",
   "metadata": {},
   "outputs": [],
   "source": [
    "# tuple(), set(), list()로 서로 타입 변환 가능\n",
    "tuple(lst)\n",
    "set(lst)\n",
    "list(tuple)"
   ]
  },
  {
   "cell_type": "code",
   "execution_count": 61,
   "id": "c5f352f4-b83c-443b-a380-2fb44c973e44",
   "metadata": {},
   "outputs": [
    {
     "data": {
      "text/plain": [
       "{'a': 10, 'b': 30}"
      ]
     },
     "execution_count": 61,
     "metadata": {},
     "output_type": "execute_result"
    }
   ],
   "source": [
    "d = {'a':10, 'b':20, 'b':30}\n",
    "\n",
    "# d.sort()\n",
    "d"
   ]
  },
  {
   "cell_type": "code",
   "execution_count": 64,
   "id": "2f640478-be6d-4150-9b26-a7193f621996",
   "metadata": {},
   "outputs": [
    {
     "name": "stdout",
     "output_type": "stream",
     "text": [
      "d[b] 삭제 전: {'a': 10, 'b': 30}\n",
      "d[b] 삭제 후: {'a': 10}\n"
     ]
    }
   ],
   "source": [
    "'''\n",
    "# dictionary 삭제\n",
    "del d[key]\n",
    "'''\n",
    "d = {'a':10, 'b':20, 'b':30}\n",
    "\n",
    "print(f'd[b] 삭제 전: {d}')\n",
    "del d['b']\n",
    "print(f'd[b] 삭제 후: {d}')"
   ]
  },
  {
   "cell_type": "code",
   "execution_count": 65,
   "id": "3461c6d0-4a26-46fb-b661-25e6ad3a2ebd",
   "metadata": {},
   "outputs": [
    {
     "name": "stdout",
     "output_type": "stream",
     "text": [
      "{'a': 2, 3: 'b'}\n"
     ]
    }
   ],
   "source": [
    "d = {'a': 2, 3: 'b'}\n",
    "print(d)"
   ]
  },
  {
   "cell_type": "code",
   "execution_count": null,
   "id": "c2e0dd44-7a06-44b0-af5c-bb41bcc15f92",
   "metadata": {},
   "outputs": [],
   "source": []
  },
  {
   "cell_type": "code",
   "execution_count": 66,
   "id": "f89cb0a0-8a3c-4860-b7c8-0c023078411f",
   "metadata": {},
   "outputs": [],
   "source": [
    "lst = [2, 5, 1, 6, 3]"
   ]
  },
  {
   "cell_type": "code",
   "execution_count": 67,
   "id": "4aacb969-24f0-4165-aa13-456888ef4b12",
   "metadata": {},
   "outputs": [
    {
     "data": {
      "text/plain": [
       "[1, 2, 3, 5, 6]"
      ]
     },
     "execution_count": 67,
     "metadata": {},
     "output_type": "execute_result"
    }
   ],
   "source": [
    "lst.sort()\n",
    "lst"
   ]
  },
  {
   "cell_type": "code",
   "execution_count": 69,
   "id": "cc22939b-0102-47d2-9dfb-63051967076e",
   "metadata": {},
   "outputs": [
    {
     "data": {
      "text/plain": [
       "[3, 6, 1, 5, 2]"
      ]
     },
     "execution_count": 69,
     "metadata": {},
     "output_type": "execute_result"
    }
   ],
   "source": [
    "lst = [2, 5, 1, 6, 3]\n",
    "\n",
    "lst.reverse()\n",
    "lst"
   ]
  },
  {
   "cell_type": "code",
   "execution_count": 70,
   "id": "50ac9fed-aaf1-4a03-a903-bde4d067ac22",
   "metadata": {},
   "outputs": [
    {
     "data": {
      "text/plain": [
       "[3, 6, 1, 5, 2]"
      ]
     },
     "execution_count": 70,
     "metadata": {},
     "output_type": "execute_result"
    }
   ],
   "source": [
    "lst"
   ]
  },
  {
   "cell_type": "code",
   "execution_count": 71,
   "id": "3aa48d8d-477b-41d9-8593-3a5cc74f4bac",
   "metadata": {},
   "outputs": [],
   "source": [
    "lst.append(0)"
   ]
  },
  {
   "cell_type": "code",
   "execution_count": 72,
   "id": "aaa88f9e-a201-419e-8ba7-7c78508ec130",
   "metadata": {},
   "outputs": [
    {
     "data": {
      "text/plain": [
       "[3, 6, 1, 5, 2, 0]"
      ]
     },
     "execution_count": 72,
     "metadata": {},
     "output_type": "execute_result"
    }
   ],
   "source": [
    "lst"
   ]
  },
  {
   "cell_type": "code",
   "execution_count": 75,
   "id": "c486ec23-9e35-4e86-8261-1f804c9714e8",
   "metadata": {},
   "outputs": [],
   "source": [
    "lst.extend([100, 2_000])"
   ]
  },
  {
   "cell_type": "code",
   "execution_count": 76,
   "id": "bbeb54c9-8012-4b53-ae76-b694cbaffc0b",
   "metadata": {},
   "outputs": [
    {
     "data": {
      "text/plain": [
       "[3, 6, 1, 5, 2, 0, 100, 2000]"
      ]
     },
     "execution_count": 76,
     "metadata": {},
     "output_type": "execute_result"
    }
   ],
   "source": [
    "lst"
   ]
  },
  {
   "cell_type": "code",
   "execution_count": 77,
   "id": "e754aa8d-7963-4a78-a7a8-7d97e81cc695",
   "metadata": {},
   "outputs": [],
   "source": [
    "lst.insert(2, 5_000)"
   ]
  },
  {
   "cell_type": "code",
   "execution_count": 78,
   "id": "f5adaa8e-4914-4980-b002-199f2ac96013",
   "metadata": {},
   "outputs": [
    {
     "data": {
      "text/plain": [
       "[3, 6, 5000, 1, 5, 2, 0, 100, 2000]"
      ]
     },
     "execution_count": 78,
     "metadata": {},
     "output_type": "execute_result"
    }
   ],
   "source": [
    "lst"
   ]
  },
  {
   "cell_type": "code",
   "execution_count": 80,
   "id": "ee5b4bf0-31c1-4e1c-a649-a7780a900dfe",
   "metadata": {},
   "outputs": [],
   "source": [
    "del lst[2]"
   ]
  },
  {
   "cell_type": "code",
   "execution_count": 81,
   "id": "600612c3-1113-404c-ae08-ea3183ae947f",
   "metadata": {},
   "outputs": [
    {
     "data": {
      "text/plain": [
       "[3, 6, 1, 5, 2, 0, 100, 2000]"
      ]
     },
     "execution_count": 81,
     "metadata": {},
     "output_type": "execute_result"
    }
   ],
   "source": [
    "lst"
   ]
  },
  {
   "cell_type": "code",
   "execution_count": 83,
   "id": "ea82160d-f505-4692-861a-361986916cf7",
   "metadata": {},
   "outputs": [
    {
     "ename": "SyntaxError",
     "evalue": "invalid syntax (1324873732.py, line 1)",
     "output_type": "error",
     "traceback": [
      "\u001b[1;36m  Cell \u001b[1;32mIn[83], line 1\u001b[1;36m\u001b[0m\n\u001b[1;33m    s = del lst[-1]\u001b[0m\n\u001b[1;37m        ^\u001b[0m\n\u001b[1;31mSyntaxError\u001b[0m\u001b[1;31m:\u001b[0m invalid syntax\n"
     ]
    }
   ],
   "source": [
    "del lst[-1]"
   ]
  },
  {
   "cell_type": "code",
   "execution_count": 84,
   "id": "71c7e7cd-d337-4693-8526-3c114af74e89",
   "metadata": {},
   "outputs": [
    {
     "data": {
      "text/plain": [
       "(1, 2, 3)"
      ]
     },
     "execution_count": 84,
     "metadata": {},
     "output_type": "execute_result"
    }
   ],
   "source": [
    "ex = 1, 2, 3\n",
    "ex"
   ]
  },
  {
   "cell_type": "code",
   "execution_count": 85,
   "id": "c5e9cf39-8c43-401b-8f58-62e96b507990",
   "metadata": {},
   "outputs": [],
   "source": [
    "del ex"
   ]
  },
  {
   "cell_type": "code",
   "execution_count": 86,
   "id": "6c3a3066-1dec-471d-ba33-a6d11b1561fc",
   "metadata": {},
   "outputs": [
    {
     "ename": "NameError",
     "evalue": "name 'ex' is not defined",
     "output_type": "error",
     "traceback": [
      "\u001b[1;31m---------------------------------------------------------------------------\u001b[0m",
      "\u001b[1;31mNameError\u001b[0m                                 Traceback (most recent call last)",
      "Cell \u001b[1;32mIn[86], line 1\u001b[0m\n\u001b[1;32m----> 1\u001b[0m \u001b[43mex\u001b[49m\n",
      "\u001b[1;31mNameError\u001b[0m: name 'ex' is not defined"
     ]
    }
   ],
   "source": [
    "ex"
   ]
  },
  {
   "cell_type": "code",
   "execution_count": 88,
   "id": "1397de21-93b6-4fdb-bbc9-766491c9523a",
   "metadata": {},
   "outputs": [],
   "source": [
    "ex = 'a', 'b', 'v', 'a'"
   ]
  },
  {
   "cell_type": "code",
   "execution_count": 89,
   "id": "f6ac5d48-ed7d-4aad-931b-41625a9f751d",
   "metadata": {},
   "outputs": [
    {
     "data": {
      "text/plain": [
       "('a', 'b', 'v', 'a')"
      ]
     },
     "execution_count": 89,
     "metadata": {},
     "output_type": "execute_result"
    }
   ],
   "source": [
    "ex"
   ]
  },
  {
   "cell_type": "code",
   "execution_count": 90,
   "id": "fcecf1f5-21e0-46d2-bc37-63237bc30dd7",
   "metadata": {},
   "outputs": [
    {
     "name": "stdout",
     "output_type": "stream",
     "text": [
      "2\n",
      "2\n"
     ]
    }
   ],
   "source": [
    "print(ex.count('a'))\n",
    "print(ex.index('v'))"
   ]
  },
  {
   "cell_type": "code",
   "execution_count": 94,
   "id": "d4bfc1a9-64f4-4dce-a536-8306567ff69e",
   "metadata": {},
   "outputs": [],
   "source": [
    "a = {1, 2, 3, 4}\n",
    "b = {2, 4, 6}"
   ]
  },
  {
   "cell_type": "code",
   "execution_count": 95,
   "id": "a0dc7fd5-8c91-4533-a7b7-0cec9cb49afe",
   "metadata": {},
   "outputs": [
    {
     "data": {
      "text/plain": [
       "{1, 2, 3, 4, 6}"
      ]
     },
     "execution_count": 95,
     "metadata": {},
     "output_type": "execute_result"
    }
   ],
   "source": [
    "# 합집합\n",
    "print(a | b)\n",
    "print(a)"
   ]
  },
  {
   "cell_type": "code",
   "execution_count": 101,
   "id": "58ec7468-bad3-4c3a-b4c8-d7fa8f353015",
   "metadata": {},
   "outputs": [
    {
     "name": "stdout",
     "output_type": "stream",
     "text": [
      "{1, 2, 3, 4, 6}\n",
      "{1, 2, 3, 4}\n"
     ]
    }
   ],
   "source": [
    "# 합집합\n",
    "print(a.union(b))\n",
    "print(a)"
   ]
  },
  {
   "cell_type": "code",
   "execution_count": 102,
   "id": "fd98965c-5e6a-49f3-bafe-6ff5131aa7e1",
   "metadata": {},
   "outputs": [
    {
     "name": "stdout",
     "output_type": "stream",
     "text": [
      "{1, 3}\n",
      "{1, 2, 3, 4}\n"
     ]
    }
   ],
   "source": [
    "# 차집합\n",
    "print(a - b)\n",
    "print(a)"
   ]
  },
  {
   "cell_type": "code",
   "execution_count": 105,
   "id": "bbc799a9-8cb1-4e07-9309-7211f7e03382",
   "metadata": {},
   "outputs": [
    {
     "name": "stdout",
     "output_type": "stream",
     "text": [
      "{1, 3}\n",
      "{1, 2, 3, 4}\n"
     ]
    }
   ],
   "source": [
    "# 차집합\n",
    "print(a.difference(b))\n",
    "print(a)"
   ]
  },
  {
   "cell_type": "code",
   "execution_count": 109,
   "id": "58e1f2f3-7847-4229-9725-c6431f89896c",
   "metadata": {},
   "outputs": [
    {
     "name": "stdout",
     "output_type": "stream",
     "text": [
      "{2, 4}\n",
      "{1, 2, 3, 4}\n"
     ]
    }
   ],
   "source": [
    "# 교집합\n",
    "print(a & b)\n",
    "print(a)"
   ]
  },
  {
   "cell_type": "code",
   "execution_count": 107,
   "id": "1a3e5b7c-a9ee-4869-9a86-4d8587615712",
   "metadata": {},
   "outputs": [
    {
     "name": "stdout",
     "output_type": "stream",
     "text": [
      "{2, 4}\n",
      "{1, 2, 3, 4}\n"
     ]
    }
   ],
   "source": [
    "# 교집합\n",
    "print(a.intersection(b))\n",
    "print(a)"
   ]
  },
  {
   "cell_type": "code",
   "execution_count": 111,
   "id": "7461f366-2d53-4576-a693-37d0b4f5a4f4",
   "metadata": {},
   "outputs": [
    {
     "name": "stdout",
     "output_type": "stream",
     "text": [
      "{1, 3, 6}\n",
      "{1, 3, 6}\n"
     ]
    }
   ],
   "source": [
    "# 여집합(합집합의 반대\n",
    "print(a ^ b)\n",
    "print((a | b) - (a & b))"
   ]
  },
  {
   "cell_type": "code",
   "execution_count": 112,
   "id": "ed591d82-5a99-4910-ab0f-7d3c171c5e69",
   "metadata": {},
   "outputs": [
    {
     "data": {
      "text/plain": [
       "{1, 2, 3, 4}"
      ]
     },
     "execution_count": 112,
     "metadata": {},
     "output_type": "execute_result"
    }
   ],
   "source": [
    "a"
   ]
  },
  {
   "cell_type": "code",
   "execution_count": 116,
   "id": "877ef06c-9e1e-413f-aba5-7ab490a1628e",
   "metadata": {},
   "outputs": [],
   "source": [
    "a = a | {10}"
   ]
  },
  {
   "cell_type": "code",
   "execution_count": 117,
   "id": "89057558-92d3-41ff-b510-70b883ebd904",
   "metadata": {},
   "outputs": [
    {
     "data": {
      "text/plain": [
       "{1, 2, 3, 4, 10}"
      ]
     },
     "execution_count": 117,
     "metadata": {},
     "output_type": "execute_result"
    }
   ],
   "source": [
    "a"
   ]
  },
  {
   "cell_type": "code",
   "execution_count": 118,
   "id": "7183dc0d-935d-434f-ab52-67e49accbe14",
   "metadata": {},
   "outputs": [],
   "source": [
    "del a"
   ]
  },
  {
   "cell_type": "code",
   "execution_count": 119,
   "id": "97112b52-d471-4ec4-a234-da5bc62843c9",
   "metadata": {},
   "outputs": [
    {
     "ename": "NameError",
     "evalue": "name 'a' is not defined",
     "output_type": "error",
     "traceback": [
      "\u001b[1;31m---------------------------------------------------------------------------\u001b[0m",
      "\u001b[1;31mNameError\u001b[0m                                 Traceback (most recent call last)",
      "Cell \u001b[1;32mIn[119], line 1\u001b[0m\n\u001b[1;32m----> 1\u001b[0m \u001b[43ma\u001b[49m\n",
      "\u001b[1;31mNameError\u001b[0m: name 'a' is not defined"
     ]
    }
   ],
   "source": [
    "a"
   ]
  },
  {
   "cell_type": "code",
   "execution_count": 120,
   "id": "67b9eb5d-7767-4fd0-84eb-7d3f486416c2",
   "metadata": {},
   "outputs": [
    {
     "name": "stdout",
     "output_type": "stream",
     "text": [
      "1\n",
      "{'b': 2}\n"
     ]
    }
   ],
   "source": [
    "ex = {'a': 1, 'b': 2}\n",
    "print(ex['a'])\n",
    "\n",
    "del ex['a']\n",
    "print(ex)"
   ]
  },
  {
   "cell_type": "code",
   "execution_count": 121,
   "id": "2d90f5e1-bc80-4356-9f2f-78a01a1aaa5e",
   "metadata": {},
   "outputs": [
    {
     "data": {
      "text/plain": [
       "{1, 2, 3, 10}"
      ]
     },
     "execution_count": 121,
     "metadata": {},
     "output_type": "execute_result"
    }
   ],
   "source": [
    "a = {1, 2, 3}\n",
    "a | {10}"
   ]
  },
  {
   "cell_type": "code",
   "execution_count": 122,
   "id": "668bfd59-4397-42d1-9ab6-699f7e9a2212",
   "metadata": {},
   "outputs": [
    {
     "name": "stdout",
     "output_type": "stream",
     "text": [
      "{1, 2, 3}\n"
     ]
    }
   ],
   "source": [
    "print(a)"
   ]
  },
  {
   "cell_type": "code",
   "execution_count": 123,
   "id": "ec785666-7d1b-4b51-ade1-54c9dc3da821",
   "metadata": {},
   "outputs": [
    {
     "data": {
      "text/plain": [
       "True"
      ]
     },
     "execution_count": 123,
     "metadata": {},
     "output_type": "execute_result"
    }
   ],
   "source": [
    "1 in (1, 2, 3)"
   ]
  },
  {
   "cell_type": "code",
   "execution_count": 124,
   "id": "181c4de9-a622-49af-901d-757240975636",
   "metadata": {},
   "outputs": [
    {
     "data": {
      "text/plain": [
       "True"
      ]
     },
     "execution_count": 124,
     "metadata": {},
     "output_type": "execute_result"
    }
   ],
   "source": [
    "1 in {1, 2, 3}"
   ]
  },
  {
   "cell_type": "code",
   "execution_count": 125,
   "id": "9393011b-4c0f-418d-ad49-4ab1ddfd6dae",
   "metadata": {},
   "outputs": [
    {
     "data": {
      "text/plain": [
       "False"
      ]
     },
     "execution_count": 125,
     "metadata": {},
     "output_type": "execute_result"
    }
   ],
   "source": [
    "1 in {'a': 1, 'b': 2}"
   ]
  },
  {
   "cell_type": "code",
   "execution_count": 126,
   "id": "5aa35d2b-9c1a-4c6d-ac54-aa1cb80a91f5",
   "metadata": {},
   "outputs": [
    {
     "data": {
      "text/plain": [
       "True"
      ]
     },
     "execution_count": 126,
     "metadata": {},
     "output_type": "execute_result"
    }
   ],
   "source": [
    "1 in {1: 'a', 2:'b'}"
   ]
  },
  {
   "cell_type": "code",
   "execution_count": 127,
   "id": "94692dde-4396-4e62-b8e1-46aa8f931de1",
   "metadata": {},
   "outputs": [],
   "source": [
    "s = {'a': 1, 'b': 2}"
   ]
  },
  {
   "cell_type": "code",
   "execution_count": 131,
   "id": "e5669309-9030-4db8-b586-efb9fa21ba7e",
   "metadata": {},
   "outputs": [
    {
     "data": {
      "text/plain": [
       "dict_keys(['a', 'b'])"
      ]
     },
     "execution_count": 131,
     "metadata": {},
     "output_type": "execute_result"
    }
   ],
   "source": [
    "s.keys()"
   ]
  },
  {
   "cell_type": "code",
   "execution_count": null,
   "id": "a60fa0d5-0ce5-435e-92be-702479aa26f2",
   "metadata": {},
   "outputs": [],
   "source": []
  }
 ],
 "metadata": {
  "kernelspec": {
   "display_name": "Python 3 (ipykernel)",
   "language": "python",
   "name": "python3"
  },
  "language_info": {
   "codemirror_mode": {
    "name": "ipython",
    "version": 3
   },
   "file_extension": ".py",
   "mimetype": "text/x-python",
   "name": "python",
   "nbconvert_exporter": "python",
   "pygments_lexer": "ipython3",
   "version": "3.11.6"
  }
 },
 "nbformat": 4,
 "nbformat_minor": 5
}
