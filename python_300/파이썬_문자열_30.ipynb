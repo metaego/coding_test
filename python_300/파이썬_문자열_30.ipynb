{
 "cells": [
  {
   "cell_type": "code",
   "execution_count": 1,
   "id": "cbf0609c-e28a-44ea-abdb-4701e4268ffe",
   "metadata": {},
   "outputs": [
    {
     "name": "stdout",
     "output_type": "stream",
     "text": [
      "pt\n"
     ]
    }
   ],
   "source": [
    "'''\n",
    "첫번재와 세번째 문자 출력하라\n",
    "letters = 'python'\n",
    "'''\n",
    "letters = 'python'\n",
    "print(letters[0:3:2])"
   ]
  },
  {
   "cell_type": "code",
   "execution_count": 4,
   "id": "db208363-83bd-441b-a456-2f9be444bc38",
   "metadata": {},
   "outputs": [
    {
     "data": {
      "text/plain": [
       "'2210'"
      ]
     },
     "execution_count": 4,
     "metadata": {},
     "output_type": "execute_result"
    }
   ],
   "source": [
    "'''\n",
    "뒤의 4자리만 출력\n",
    "license_plate = \"24가 2210\"\n",
    " '''\n",
    "license_plate = \"24가 2210\"\n",
    "\n",
    "license_plate[-4:]"
   ]
  },
  {
   "cell_type": "code",
   "execution_count": 5,
   "id": "8da88a31-ae66-42bc-b27f-0f643d945b31",
   "metadata": {},
   "outputs": [
    {
     "data": {
      "text/plain": [
       "'홀홀홀'"
      ]
     },
     "execution_count": 5,
     "metadata": {},
     "output_type": "execute_result"
    }
   ],
   "source": [
    "'''\n",
    "홀만 출력\n",
    "string = \"홀짝홀짝홀짝\"\n",
    "'''\n",
    "string = \"홀짝홀짝홀짝\"\n",
    "\n",
    "string[::2]"
   ]
  },
  {
   "cell_type": "code",
   "execution_count": 6,
   "id": "1d31ecd7-3378-45a3-827c-2f520a146036",
   "metadata": {},
   "outputs": [
    {
     "data": {
      "text/plain": [
       "'NOHTYP'"
      ]
     },
     "execution_count": 6,
     "metadata": {},
     "output_type": "execute_result"
    }
   ],
   "source": [
    "'''\n",
    "문자열 거꾸로 출력\n",
    "string = \"PYTHON\"\n",
    "'''\n",
    "string = \"PYTHON\"\n",
    "string[::-1]"
   ]
  },
  {
   "cell_type": "code",
   "execution_count": 8,
   "id": "1513d9f2-ee71-4da3-828b-129a735059a3",
   "metadata": {},
   "outputs": [
    {
     "name": "stdout",
     "output_type": "stream",
     "text": [
      "010 1111 2222\n"
     ]
    }
   ],
   "source": [
    "'''\n",
    "하이픈 제거하고 출력\n",
    "\n",
    "phone_number = \"010-1111-2222\"\n",
    "'''\n",
    "\n",
    "phone_number = \"010-1111-2222\"\n",
    "phone_number = phone_number.replace('-', ' ')\n",
    "print(phone_number)"
   ]
  },
  {
   "cell_type": "code",
   "execution_count": 9,
   "id": "3242b557-964d-4df8-8ea3-f14d0cc4fde2",
   "metadata": {},
   "outputs": [
    {
     "data": {
      "text/plain": [
       "'01011112222'"
      ]
     },
     "execution_count": 9,
     "metadata": {},
     "output_type": "execute_result"
    }
   ],
   "source": [
    "'''\n",
    "전화번호 모두 붙여서 출력\n",
    "실행 예\n",
    "01011112222\n",
    "'''\n",
    "phone_number = \"010-1111-2222\"\n",
    "phone_number = phone_number.replace('-', '')\n",
    "phone_number"
   ]
  },
  {
   "cell_type": "code",
   "execution_count": 11,
   "id": "913fc8a1-74ac-46a9-8a0d-3a5df28c42d2",
   "metadata": {},
   "outputs": [
    {
     "data": {
      "text/plain": [
       "'kr'"
      ]
     },
     "execution_count": 11,
     "metadata": {},
     "output_type": "execute_result"
    }
   ],
   "source": [
    "'''\n",
    "도메인 출력\n",
    ">> url = \"http://sharebook.kr\"\n",
    "예: kr\n",
    "'''\n",
    "url = \"http://sharebook.kr\"\n",
    "url[-2:]"
   ]
  },
  {
   "cell_type": "code",
   "execution_count": 14,
   "id": "5d5fe155-9f99-4b7b-bbe4-1f74b46fb638",
   "metadata": {},
   "outputs": [
    {
     "name": "stdout",
     "output_type": "stream",
     "text": [
      "['http://sharebook', 'kr'] <class 'list'>\n",
      "kr\n"
     ]
    }
   ],
   "source": [
    "url = \"http://sharebook.kr\"\n",
    "url_split = url.split('.')\n",
    "print(url_split, type(url_split))\n",
    "print(url_split[-1])"
   ]
  },
  {
   "cell_type": "code",
   "execution_count": 15,
   "id": "05fda707-2a10-48f7-a697-a040e1286ef6",
   "metadata": {},
   "outputs": [
    {
     "ename": "TypeError",
     "evalue": "'str' object does not support item assignment",
     "output_type": "error",
     "traceback": [
      "\u001b[1;31m---------------------------------------------------------------------------\u001b[0m",
      "\u001b[1;31mTypeError\u001b[0m                                 Traceback (most recent call last)",
      "Cell \u001b[1;32mIn[15], line 7\u001b[0m\n\u001b[0;32m      1\u001b[0m \u001b[38;5;124;03m'''\u001b[39;00m\n\u001b[0;32m      2\u001b[0m \u001b[38;5;124;03m>> lang = 'python'\u001b[39;00m\n\u001b[0;32m      3\u001b[0m \u001b[38;5;124;03m>> lang[0] = 'P'\u001b[39;00m\n\u001b[0;32m      4\u001b[0m \u001b[38;5;124;03m>> print(lang)\u001b[39;00m\n\u001b[0;32m      5\u001b[0m \u001b[38;5;124;03m'''\u001b[39;00m\n\u001b[0;32m      6\u001b[0m lang \u001b[38;5;241m=\u001b[39m \u001b[38;5;124m'\u001b[39m\u001b[38;5;124mpython\u001b[39m\u001b[38;5;124m'\u001b[39m\n\u001b[1;32m----> 7\u001b[0m \u001b[43mlang\u001b[49m\u001b[43m[\u001b[49m\u001b[38;5;241;43m0\u001b[39;49m\u001b[43m]\u001b[49m \u001b[38;5;241m=\u001b[39m \u001b[38;5;124m'\u001b[39m\u001b[38;5;124mP\u001b[39m\u001b[38;5;124m'\u001b[39m\n\u001b[0;32m      8\u001b[0m \u001b[38;5;28mprint\u001b[39m(lang)\n",
      "\u001b[1;31mTypeError\u001b[0m: 'str' object does not support item assignment"
     ]
    }
   ],
   "source": [
    "'''\n",
    "아래 코드 실행. 문자열은 수정 불가\n",
    ">> lang = 'python'\n",
    ">> lang[0] = 'P'\n",
    ">> print(lang)\n",
    "'''\n",
    "lang = 'python'\n",
    "lang[0] = 'P'\n",
    "print(lang)"
   ]
  },
  {
   "cell_type": "code",
   "execution_count": 16,
   "id": "f6fe9403-c60c-4893-b4cc-a33095fa24b5",
   "metadata": {},
   "outputs": [
    {
     "data": {
      "text/plain": [
       "'Abcdfe2A354A32A'"
      ]
     },
     "execution_count": 16,
     "metadata": {},
     "output_type": "execute_result"
    }
   ],
   "source": [
    "'''\n",
    "소문자 a를 대문자 A로 변경하라\n",
    "string = 'abcdfe2a354a32a'\n",
    "'''\n",
    "string = 'abcdfe2a354a32a'\n",
    "string = string.replace('a', 'A')\n",
    "string"
   ]
  },
  {
   "cell_type": "code",
   "execution_count": 17,
   "id": "50f68b39-934b-4318-8ab1-0e6557569516",
   "metadata": {},
   "outputs": [
    {
     "name": "stdout",
     "output_type": "stream",
     "text": [
      "abcd\n"
     ]
    }
   ],
   "source": [
    "'''\n",
    "아래 코드 실행\n",
    "string = 'abcd'\n",
    "string.replace('b', 'B')\n",
    "print(string)\n",
    "'''\n",
    "string = 'abcd'\n",
    "string.replace('b', 'B')\n",
    "print(string)"
   ]
  },
  {
   "cell_type": "code",
   "execution_count": null,
   "id": "3dbe7fdf-8431-407e-a5c7-c590238c4b9d",
   "metadata": {},
   "outputs": [],
   "source": []
  }
 ],
 "metadata": {
  "kernelspec": {
   "display_name": "Python 3 (ipykernel)",
   "language": "python",
   "name": "python3"
  },
  "language_info": {
   "codemirror_mode": {
    "name": "ipython",
    "version": 3
   },
   "file_extension": ".py",
   "mimetype": "text/x-python",
   "name": "python",
   "nbconvert_exporter": "python",
   "pygments_lexer": "ipython3",
   "version": "3.11.6"
  }
 },
 "nbformat": 4,
 "nbformat_minor": 5
}
