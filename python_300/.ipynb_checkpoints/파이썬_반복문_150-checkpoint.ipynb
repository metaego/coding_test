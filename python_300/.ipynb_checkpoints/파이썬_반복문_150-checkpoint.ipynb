{
 "cells": [
  {
   "cell_type": "code",
   "execution_count": 6,
   "id": "f540eeb3-2aef-48ce-b7f9-f3f3575a7fa8",
   "metadata": {},
   "outputs": [
    {
     "name": "stdout",
     "output_type": "stream",
     "text": [
      "110\n",
      "210\n",
      "310\n"
     ]
    }
   ],
   "source": [
    "# 141\n",
    "lst = [100, 200, 300]\n",
    "\n",
    "for cost in lst :\n",
    "    cost += 10\n",
    "    print(cost)"
   ]
  },
  {
   "cell_type": "code",
   "execution_count": 7,
   "id": "b9515076-4b57-4c0f-a61a-cf7ecc633056",
   "metadata": {},
   "outputs": [
    {
     "name": "stdout",
     "output_type": "stream",
     "text": [
      "6\n",
      "4\n",
      "4\n"
     ]
    }
   ],
   "source": [
    "# 143\n",
    "lst = [\"SK하이닉스\", \"삼성전자\", \"LG전자\"]\n",
    "for i in lst:\n",
    "    print(len(i))"
   ]
  },
  {
   "cell_type": "code",
   "execution_count": 8,
   "id": "17fe2f37-287e-4558-92c1-a38004f8b0fc",
   "metadata": {},
   "outputs": [
    {
     "name": "stdout",
     "output_type": "stream",
     "text": [
      "dog 3\n",
      "cat 3\n",
      "parrot 6\n"
     ]
    }
   ],
   "source": [
    "# 144\n",
    "\n",
    "lst = ['dog', 'cat', 'parrot']\n",
    "for i in lst :\n",
    "    print(f'{i} {len(i)}')"
   ]
  },
  {
   "cell_type": "code",
   "execution_count": 11,
   "id": "d2a9f02f-d7c7-4a98-8970-fe0a5206b4e2",
   "metadata": {},
   "outputs": [
    {
     "name": "stdout",
     "output_type": "stream",
     "text": [
      "d\n",
      "c\n",
      "p\n"
     ]
    }
   ],
   "source": [
    "# 145\n",
    "\n",
    "lst = ['dog', 'cat', 'parrot']\n",
    "\n",
    "for i in lst:\n",
    "    print(i[0])"
   ]
  },
  {
   "cell_type": "code",
   "execution_count": 12,
   "id": "9d9f42d0-f76a-42c3-b65b-d9f00d604f6f",
   "metadata": {},
   "outputs": [
    {
     "name": "stdout",
     "output_type": "stream",
     "text": [
      "3 X 1\n",
      "3 X 2\n",
      "3 X 3\n"
     ]
    }
   ],
   "source": [
    "# 146\n",
    "\n",
    "lst = [1, 2, 3]\n",
    "\n",
    "for num in lst :\n",
    "    print(f'3 X {num}')"
   ]
  },
  {
   "cell_type": "code",
   "execution_count": 14,
   "id": "47942bf2-8960-442b-aa2e-dee787e38c2b",
   "metadata": {},
   "outputs": [
    {
     "name": "stdout",
     "output_type": "stream",
     "text": [
      "3 X 1 = 3\n",
      "3 X 2 = 6\n",
      "3 X 3 = 9\n"
     ]
    }
   ],
   "source": [
    "# 147\n",
    "\n",
    "lst = [1, 2, 3]\n",
    "\n",
    "for num in lst :\n",
    "    print(f'3 X {num} = {3 * num}')"
   ]
  },
  {
   "cell_type": "code",
   "execution_count": 15,
   "id": "50551041-679a-44cc-bd5f-fe4a367e19cb",
   "metadata": {},
   "outputs": [
    {
     "name": "stdout",
     "output_type": "stream",
     "text": [
      "나\n",
      "다\n",
      "라\n"
     ]
    }
   ],
   "source": [
    "# 148\n",
    "\n",
    "lst = [\"가\", \"나\", \"다\", \"라\"]\n",
    "\n",
    "for char in lst[1:] :\n",
    "    print(char)"
   ]
  },
  {
   "cell_type": "code",
   "execution_count": 19,
   "id": "9c07bb9f-9ba9-4450-947a-faf879ce2850",
   "metadata": {},
   "outputs": [
    {
     "name": "stdout",
     "output_type": "stream",
     "text": [
      "가\n",
      "다\n"
     ]
    }
   ],
   "source": [
    "# 149\n",
    "\n",
    "lst = [\"가\", \"나\", \"다\", \"라\"]\n",
    "\n",
    "for idx in range(0,4, 2) :\n",
    "    print(lst[idx])"
   ]
  },
  {
   "cell_type": "code",
   "execution_count": 20,
   "id": "0362b1dc-54e4-464e-95b0-fc64c9a50fed",
   "metadata": {},
   "outputs": [
    {
     "name": "stdout",
     "output_type": "stream",
     "text": [
      "라\n",
      "다\n",
      "나\n",
      "가\n"
     ]
    }
   ],
   "source": [
    "# 150\n",
    "\n",
    "lst = [\"가\", \"나\", \"다\", \"라\"]\n",
    "for char in lst[::-1] :\n",
    "    print(char)"
   ]
  },
  {
   "cell_type": "code",
   "execution_count": null,
   "id": "9c6cfe45-d20f-4b8a-b744-1f98c1d3b407",
   "metadata": {},
   "outputs": [],
   "source": []
  }
 ],
 "metadata": {
  "kernelspec": {
   "display_name": "Python 3 (ipykernel)",
   "language": "python",
   "name": "python3"
  },
  "language_info": {
   "codemirror_mode": {
    "name": "ipython",
    "version": 3
   },
   "file_extension": ".py",
   "mimetype": "text/x-python",
   "name": "python",
   "nbconvert_exporter": "python",
   "pygments_lexer": "ipython3",
   "version": "3.11.6"
  }
 },
 "nbformat": 4,
 "nbformat_minor": 5
}
