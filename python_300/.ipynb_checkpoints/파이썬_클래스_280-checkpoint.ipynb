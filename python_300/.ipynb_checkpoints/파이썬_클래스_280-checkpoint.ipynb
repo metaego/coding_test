{
 "cells": [
  {
   "cell_type": "code",
   "execution_count": 10,
   "id": "6be46fcd-cdff-4bc7-90f5-d009ceb7a063",
   "metadata": {},
   "outputs": [],
   "source": [
    "# 271\n",
    "import random\n",
    "\n",
    "class Account():\n",
    "    def __init__(self, acc_name, balance):\n",
    "        self.acc_name = acc_name\n",
    "        self.balance = balance\n",
    "        self.bank_name = \"SC은행\"\n",
    "        \n",
    "        num1 = random.randint(0, 999)\n",
    "        num2 = random.randint(0, 99)\n",
    "        num3 = random.randint(0, 999999)\n",
    "\n",
    "        num1 = str(num1).zfill(3)\n",
    "        num2 = str(num2).zfill(2)\n",
    "        num3 = str(num3).zfill(6)\n",
    "        \n",
    "        self.acc_num = f'{num1}-{num2}-{num3}'\n"
   ]
  },
  {
   "cell_type": "code",
   "execution_count": 12,
   "id": "2bbe9117-e9bf-4a17-b33c-2a4f35db90f1",
   "metadata": {},
   "outputs": [
    {
     "name": "stdout",
     "output_type": "stream",
     "text": [
      "김민수\n",
      "1000\n",
      "SC은행\n",
      "087-50-774412\n"
     ]
    }
   ],
   "source": [
    "customer = Account(\"김민수\", 1000)\n",
    "print(customer.acc_name)\n",
    "print(customer.balance)\n",
    "print(customer.bank_name)\n",
    "print(customer.acc_num)"
   ]
  },
  {
   "cell_type": "code",
   "execution_count": 13,
   "id": "46bf89b6-b6df-46f3-8766-24373f48d97c",
   "metadata": {},
   "outputs": [],
   "source": [
    "# 272\n",
    "\n",
    "import random\n",
    "\n",
    "class Account():\n",
    "    acc_cnt = 0\n",
    "    \n",
    "    def __init__(self, acc_name, balance):\n",
    "        self.acc_name = acc_name\n",
    "        self.balance = balance\n",
    "        self.bank_name = \"SC은행\"\n",
    "        \n",
    "        num1 = random.randint(0, 999)\n",
    "        num2 = random.randint(0, 99)\n",
    "        num3 = random.randint(0, 999999)\n",
    "\n",
    "        num1 = str(num1).zfill(3)\n",
    "        num2 = str(num2).zfill(2)\n",
    "        num3 = str(num3).zfill(6)\n",
    "        \n",
    "        self.acc_num = f'{num1}-{num2}-{num3}'\n",
    "\n",
    "        Account.acc_cnt += 1"
   ]
  },
  {
   "cell_type": "code",
   "execution_count": 14,
   "id": "fbca6f5e-f1d9-406d-ac96-6f98c0e13cf6",
   "metadata": {},
   "outputs": [
    {
     "name": "stdout",
     "output_type": "stream",
     "text": [
      "1\n",
      "2\n"
     ]
    }
   ],
   "source": [
    "cs1 = Account(\"김민수\", 100)\n",
    "print(cs1.acc_cnt)\n",
    "\n",
    "cs2 = Account(\"김수민\", 200)\n",
    "print(cs2.acc_cnt)"
   ]
  },
  {
   "cell_type": "code",
   "execution_count": 19,
   "id": "e266359e-5846-4eac-ac70-dcfebad61dbf",
   "metadata": {},
   "outputs": [],
   "source": [
    "# 273\n",
    "\n",
    "import random\n",
    "\n",
    "class Account():\n",
    "    acc_cnt = 0\n",
    "    \n",
    "    def __init__(self, acc_name, balance):\n",
    "        self.acc_name = acc_name\n",
    "        self.balance = balance\n",
    "        self.bank_name = \"SC은행\"\n",
    "        \n",
    "        num1 = random.randint(0, 999)\n",
    "        num2 = random.randint(0, 99)\n",
    "        num3 = random.randint(0, 999999)\n",
    "\n",
    "        num1 = str(num1).zfill(3)\n",
    "        num2 = str(num2).zfill(2)\n",
    "        num3 = str(num3).zfill(6)\n",
    "        \n",
    "        self.acc_num = f'{num1}-{num2}-{num3}'\n",
    "\n",
    "        Account.acc_cnt += 1\n",
    "\n",
    "    def get_account_num(self):\n",
    "        self.acc_cnt = Account.acc_cnt\n",
    "        return self.acc_cnt\n",
    "\n",
    "    # 다른 방법\n",
    "    # @classmethod\n",
    "    # def get_account_num(cls):\n",
    "    #     print(cls.acc_cnt)     # Account.acc_cnt"
   ]
  },
  {
   "cell_type": "code",
   "execution_count": 20,
   "id": "86152493-78f2-4026-bf7e-41f19bfbbe90",
   "metadata": {},
   "outputs": [
    {
     "name": "stdout",
     "output_type": "stream",
     "text": [
      "2\n"
     ]
    }
   ],
   "source": [
    "cs1 = Account(\"김민수\", 100)\n",
    "cs2 = Account(\"김수민\", 200)\n",
    "print(cs2.get_account_num())"
   ]
  },
  {
   "cell_type": "code",
   "execution_count": 23,
   "id": "db5cba79-a3fa-46e4-8efb-693dbe3124de",
   "metadata": {},
   "outputs": [],
   "source": [
    "# 274\n",
    "\n",
    "import random\n",
    "\n",
    "class Account():\n",
    "    acc_cnt = 0\n",
    "    \n",
    "    def __init__(self, acc_name, balance):\n",
    "        self.acc_name = acc_name\n",
    "        self.balance = balance\n",
    "        self.bank_name = \"SC은행\"\n",
    "        \n",
    "        num1 = random.randint(0, 999)\n",
    "        num2 = random.randint(0, 99)\n",
    "        num3 = random.randint(0, 999999)\n",
    "\n",
    "        num1 = str(num1).zfill(3)\n",
    "        num2 = str(num2).zfill(2)\n",
    "        num3 = str(num3).zfill(6)\n",
    "        \n",
    "        self.acc_num = f'{num1}-{num2}-{num3}'\n",
    "\n",
    "        Account.acc_cnt += 1\n",
    "\n",
    "    @classmethod\n",
    "    def get_account_num(cls):\n",
    "        print(cls.acc_cnt)\n",
    "\n",
    "    def deposit(self, money):\n",
    "        if money >= 1:\n",
    "            self.balance += money\n",
    "            print(self.balance)"
   ]
  },
  {
   "cell_type": "code",
   "execution_count": 24,
   "id": "30f28758-c7eb-49f9-bf26-d6593e09c0da",
   "metadata": {},
   "outputs": [
    {
     "name": "stdout",
     "output_type": "stream",
     "text": [
      "101\n"
     ]
    }
   ],
   "source": [
    "cs1 = Account(\"김민수\", 100)\n",
    "cs1.deposit(1)"
   ]
  },
  {
   "cell_type": "code",
   "execution_count": 31,
   "id": "cccc91f4-3c6e-43d2-a512-d16f892a18dc",
   "metadata": {},
   "outputs": [],
   "source": [
    "# 275\n",
    "\n",
    "import random\n",
    "\n",
    "class Account():\n",
    "    acc_cnt = 0\n",
    "    \n",
    "    def __init__(self, acc_name, balance):\n",
    "        self.acc_name = acc_name\n",
    "        self.balance = balance\n",
    "        self.bank_name = \"SC은행\"\n",
    "        \n",
    "        num1 = random.randint(0, 999)\n",
    "        num2 = random.randint(0, 99)\n",
    "        num3 = random.randint(0, 999999)\n",
    "\n",
    "        num1 = str(num1).zfill(3)\n",
    "        num2 = str(num2).zfill(2)\n",
    "        num3 = str(num3).zfill(6)\n",
    "        \n",
    "        self.acc_num = f'{num1}-{num2}-{num3}'\n",
    "\n",
    "        Account.acc_cnt += 1\n",
    "\n",
    "    @classmethod\n",
    "    def get_account_num(cls):\n",
    "        print(cls.acc_cnt)\n",
    "\n",
    "    def deposit(self, money):\n",
    "        if money >= 1:\n",
    "            self.balance += money\n",
    "            print(self.balance)\n",
    "\n",
    "    def withdraw(self, money):\n",
    "        if money <= self.balance:\n",
    "            self.balance -= money\n",
    "            print(self.balance)"
   ]
  },
  {
   "cell_type": "code",
   "execution_count": 32,
   "id": "fc82dc93-402d-4af7-b14d-ffc8e7c058f9",
   "metadata": {},
   "outputs": [
    {
     "name": "stdout",
     "output_type": "stream",
     "text": [
      "101\n",
      "1\n"
     ]
    }
   ],
   "source": [
    "cs1 = Account(\"김민수\", 100)\n",
    "cs1.deposit(1)\n",
    "cs1.withdraw(100)"
   ]
  },
  {
   "cell_type": "code",
   "execution_count": 33,
   "id": "990f3931-520f-4d16-a77d-307abd2f048b",
   "metadata": {},
   "outputs": [],
   "source": [
    "# 276\n",
    "\n",
    "import random\n",
    "\n",
    "class Account():\n",
    "    acc_cnt = 0\n",
    "    \n",
    "    def __init__(self, acc_name, balance):\n",
    "        self.acc_name = acc_name\n",
    "        self.balance = balance\n",
    "        self.bank_name = \"SC은행\"\n",
    "        \n",
    "        num1 = random.randint(0, 999)\n",
    "        num2 = random.randint(0, 99)\n",
    "        num3 = random.randint(0, 999999)\n",
    "\n",
    "        num1 = str(num1).zfill(3)\n",
    "        num2 = str(num2).zfill(2)\n",
    "        num3 = str(num3).zfill(6)\n",
    "        \n",
    "        self.acc_num = f'{num1}-{num2}-{num3}'\n",
    "\n",
    "        Account.acc_cnt += 1\n",
    "\n",
    "    @classmethod\n",
    "    def get_account_num(cls):\n",
    "        print(cls.acc_cnt)\n",
    "\n",
    "    def deposit(self, money):\n",
    "        if money >= 1:\n",
    "            self.balance += money\n",
    "            print(self.balance)\n",
    "\n",
    "    def withdraw(self, money):\n",
    "        if money <= self.balance:\n",
    "            self.balance -= money\n",
    "            print(self.balance)\n",
    "\n",
    "    def display_info(self):\n",
    "        print(f'은행이름: {self.bank_name}')\n",
    "        print(f'예금주: {self.acc_name}')\n",
    "        print(f'계좌번호: {self.acc_num}')\n",
    "        print(f'잔고: {self.balance:,}')"
   ]
  },
  {
   "cell_type": "code",
   "execution_count": 34,
   "id": "601a1510-d331-4ace-8211-431a74842737",
   "metadata": {},
   "outputs": [
    {
     "name": "stdout",
     "output_type": "stream",
     "text": [
      "은행이름: SC은행\n",
      "예금주: 김민수\n",
      "계좌번호: 704-48-963693\n",
      "잔고: 10,000\n"
     ]
    }
   ],
   "source": [
    "cs1 = Account(\"김민수\", 10000)\n",
    "cs1.display_info()"
   ]
  },
  {
   "cell_type": "code",
   "execution_count": 70,
   "id": "3619adf7-ab98-4fda-b9f3-4a044d2992a6",
   "metadata": {},
   "outputs": [],
   "source": [
    "# 277\n",
    "\n",
    "import random\n",
    "\n",
    "class Account():\n",
    "    acc_cnt = 0\n",
    "    \n",
    "    def __init__(self, acc_name, balance):\n",
    "        self.acc_name = acc_name\n",
    "        self.balance = balance\n",
    "        self.bank_name = \"SC은행\"\n",
    "        \n",
    "        num1 = random.randint(0, 999)\n",
    "        num2 = random.randint(0, 99)\n",
    "        num3 = random.randint(0, 999999)\n",
    "\n",
    "        num1 = str(num1).zfill(3)\n",
    "        num2 = str(num2).zfill(2)\n",
    "        num3 = str(num3).zfill(6)\n",
    "        \n",
    "        self.acc_num = f'{num1}-{num2}-{num3}'\n",
    "\n",
    "        Account.acc_cnt += 1\n",
    "        self.deposit_cnt = 0\n",
    "\n",
    "    @classmethod\n",
    "    def get_account_num(cls):\n",
    "        print(cls.acc_cnt)\n",
    "\n",
    "    def deposit(self, money):\n",
    "        if money >= 1:\n",
    "            self.balance += money\n",
    "            self.deposit_cnt += 1\n",
    "        \n",
    "        if self.deposit_cnt % 5 == 0:\n",
    "                self.balance = self.balance * 1.01\n",
    "        print(f'{self.balance:,}')    \n",
    "\n",
    "    def withdraw(self, money):\n",
    "        if money <= self.balance:\n",
    "            self.balance -= money\n",
    "            print(f'{self.balance:,}')\n",
    "\n",
    "    def display_info(self):\n",
    "        print(f'은행이름: {self.bank_name}')\n",
    "        print(f'예금주: {self.acc_name}')\n",
    "        print(f'계좌번호: {self.acc_num}')\n",
    "        print(f'잔고: {self.balance:,}')\n",
    "        return ''"
   ]
  },
  {
   "cell_type": "code",
   "execution_count": 71,
   "id": "ef490a23-850b-44ed-85b1-338ffad9ab80",
   "metadata": {},
   "outputs": [
    {
     "name": "stdout",
     "output_type": "stream",
     "text": [
      "1,000\n",
      "2,000\n",
      "3,000\n",
      "4,000\n",
      "5,050.0\n"
     ]
    }
   ],
   "source": [
    "cs1 = Account(\"김민수\", 0)\n",
    "\n",
    "cs1.deposit(1000)\n",
    "cs1.deposit(1000)\n",
    "cs1.deposit(1000)\n",
    "cs1.deposit(1000)\n",
    "cs1.deposit(1000)"
   ]
  },
  {
   "cell_type": "code",
   "execution_count": 72,
   "id": "9614f661-8ca8-4e90-b15e-06cc63e2b53b",
   "metadata": {},
   "outputs": [
    {
     "name": "stdout",
     "output_type": "stream",
     "text": [
      "[<__main__.Account object at 0x000001F62B161AD0>, <__main__.Account object at 0x000001F62B126F90>, <__main__.Account object at 0x000001F62ADFB610>]\n"
     ]
    }
   ],
   "source": [
    "# 278\n",
    "\n",
    "cs_lst = []\n",
    "\n",
    "cs1 = Account(\"김김김\", 1000000)\n",
    "cs2 = Account(\"박박박\", 2000)\n",
    "cs3 = Account(\"이이이\", 1000000)\n",
    "\n",
    "cs_lst.extend([cs1, cs2, cs3])\n",
    "print(cs_lst)"
   ]
  },
  {
   "cell_type": "code",
   "execution_count": 74,
   "id": "5fe80435-d0f8-4345-8211-475b7fb6a9fb",
   "metadata": {},
   "outputs": [
    {
     "name": "stdout",
     "output_type": "stream",
     "text": [
      "은행이름: SC은행\n",
      "예금주: 김김김\n",
      "계좌번호: 636-89-278753\n",
      "잔고: 1,000,000\n",
      "\n",
      "은행이름: SC은행\n",
      "예금주: 이이이\n",
      "계좌번호: 549-29-930364\n",
      "잔고: 1,000,000\n",
      "\n"
     ]
    }
   ],
   "source": [
    "# 279\n",
    "\n",
    "for cs in cs_lst:\n",
    "    if cs.balance >= 1_000_000:\n",
    "        print(cs.display_info())"
   ]
  },
  {
   "cell_type": "code",
   "execution_count": 103,
   "id": "d01244e7-841c-43a5-bc4c-37f5873dcfc4",
   "metadata": {},
   "outputs": [],
   "source": [
    "# 280\n",
    "\n",
    "import random\n",
    "\n",
    "class Account():\n",
    "    acc_cnt = 0\n",
    "    \n",
    "    def __init__(self, acc_name, balance):\n",
    "        self.acc_name = acc_name\n",
    "        self.balance = balance\n",
    "        self.bank_name = \"SC은행\"\n",
    "        \n",
    "        num1 = random.randint(0, 999)\n",
    "        num2 = random.randint(0, 99)\n",
    "        num3 = random.randint(0, 999999)\n",
    "\n",
    "        num1 = str(num1).zfill(3)\n",
    "        num2 = str(num2).zfill(2)\n",
    "        num3 = str(num3).zfill(6)\n",
    "        \n",
    "        self.acc_num = f'{num1}-{num2}-{num3}'\n",
    "\n",
    "        Account.acc_cnt += 1\n",
    "        self.deposit_cnt = 0\n",
    "\n",
    "        self.deposit_history_log = []\n",
    "        self.withdraw_history_log = []\n",
    "\n",
    "    @classmethod\n",
    "    def get_account_num(cls):\n",
    "        print(cls.acc_cnt)\n",
    "\n",
    "    def deposit(self, money):\n",
    "        if money >= 1:\n",
    "            self.balance += money\n",
    "            self.deposit_history_log.append(money)\n",
    "            self.deposit_cnt += 1\n",
    "        \n",
    "        if self.deposit_cnt % 5 == 0:\n",
    "                self.balance = self.balance * 1.01\n",
    "        print(f'{self.balance:,}')    \n",
    "\n",
    "    def withdraw(self, money):\n",
    "        if money <= self.balance:\n",
    "            self.balance -= money\n",
    "            self.withdraw_history_log.append(money)\n",
    "            print(f'{self.balance:,}')\n",
    "\n",
    "    def display_info(self):\n",
    "        print(f'은행이름: {self.bank_name}')\n",
    "        print(f'예금주: {self.acc_name}')\n",
    "        print(f'계좌번호: {self.acc_num}')\n",
    "        print(f'잔고: {self.balance:,}')\n",
    "        return ''\n",
    "\n",
    "    def deposit_history(self):\n",
    "        for money in self.deposit_history_log:\n",
    "            print(money)\n",
    "        # return ''\n",
    "\n",
    "    def withdraw_history(self):\n",
    "        for money in self.withdraw_history_log:\n",
    "            print(money)\n",
    "        # return pass\n",
    "        "
   ]
  },
  {
   "cell_type": "code",
   "execution_count": 104,
   "id": "32e07332-83a2-4176-bc5f-07734c47ec9b",
   "metadata": {},
   "outputs": [
    {
     "name": "stdout",
     "output_type": "stream",
     "text": [
      "1,000\n",
      "2,000\n",
      "0\n",
      "1000\n",
      "1000\n",
      "None\n",
      "2000\n",
      "None\n"
     ]
    }
   ],
   "source": [
    "cs1 = Account(\"김김김\", 0)\n",
    "cs1.deposit(1000)\n",
    "cs1.deposit(1000)\n",
    "cs1.withdraw(2000)\n",
    "print(cs1.deposit_history())\n",
    "print(cs1.withdraw_history())"
   ]
  },
  {
   "cell_type": "code",
   "execution_count": null,
   "id": "9f0c3fb5-c78d-4c36-9566-4e2eeb1349dc",
   "metadata": {},
   "outputs": [],
   "source": []
  },
  {
   "cell_type": "code",
   "execution_count": null,
   "id": "7ce76ad8-ac17-4ef6-97b9-c77b750fafa4",
   "metadata": {},
   "outputs": [],
   "source": []
  }
 ],
 "metadata": {
  "kernelspec": {
   "display_name": "Python 3 (ipykernel)",
   "language": "python",
   "name": "python3"
  },
  "language_info": {
   "codemirror_mode": {
    "name": "ipython",
    "version": 3
   },
   "file_extension": ".py",
   "mimetype": "text/x-python",
   "name": "python",
   "nbconvert_exporter": "python",
   "pygments_lexer": "ipython3",
   "version": "3.11.6"
  }
 },
 "nbformat": 4,
 "nbformat_minor": 5
}
