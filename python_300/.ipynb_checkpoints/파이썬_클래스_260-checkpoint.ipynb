{
 "cells": [
  {
   "cell_type": "code",
   "execution_count": 1,
   "id": "5fca1394-c5a3-483d-bc8c-bc4db9d67c82",
   "metadata": {},
   "outputs": [],
   "source": [
    "# 252\n",
    "\n",
    "class Human():\n",
    "    pass"
   ]
  },
  {
   "cell_type": "code",
   "execution_count": 2,
   "id": "0cb6e025-cb04-471a-b1a4-49b1dacf4dda",
   "metadata": {},
   "outputs": [],
   "source": [
    "# 253\n",
    "\n",
    "class Human():\n",
    "    pass\n",
    "\n",
    "areum = Human()"
   ]
  },
  {
   "cell_type": "code",
   "execution_count": 3,
   "id": "c09e64ca-2f76-4a62-9c13-98332492b06f",
   "metadata": {},
   "outputs": [
    {
     "name": "stdout",
     "output_type": "stream",
     "text": [
      "응애응애\n"
     ]
    }
   ],
   "source": [
    "# 254\n",
    "\n",
    "class Human():\n",
    "    print(\"응애응애\")\n",
    "\n",
    "areum = Human()"
   ]
  },
  {
   "cell_type": "code",
   "execution_count": 9,
   "id": "da1a8835-60df-40c7-9074-48f03d441fbb",
   "metadata": {},
   "outputs": [
    {
     "name": "stdout",
     "output_type": "stream",
     "text": [
      "아름\n"
     ]
    }
   ],
   "source": [
    "# 255\n",
    "\n",
    "class Human():\n",
    "    def __init__(self, name, age, sex):\n",
    "        self.name = name\n",
    "        self.age = age\n",
    "        self.sex = sex\n",
    "\n",
    "areum = Human(\"아름\", 25, \"여자\")    \n",
    "print(areum.name)"
   ]
  },
  {
   "cell_type": "code",
   "execution_count": 10,
   "id": "ab9ba529-8a3d-44c2-a1fd-f5b15abb72f4",
   "metadata": {},
   "outputs": [
    {
     "name": "stdout",
     "output_type": "stream",
     "text": [
      "이름: 아름, 나이: 25, 성별: 여자\n"
     ]
    }
   ],
   "source": [
    "# 256\n",
    "\n",
    "print(f'이름: {areum.name}, 나이: {areum.age}, 성별: {areum.sex}')"
   ]
  },
  {
   "cell_type": "code",
   "execution_count": 15,
   "id": "6580190b-b4f9-4bbe-a0d2-385efea3594c",
   "metadata": {},
   "outputs": [
    {
     "name": "stdout",
     "output_type": "stream",
     "text": [
      "이름: 아름, 나이: 25, 성별: 여성\n"
     ]
    }
   ],
   "source": [
    "# 257\n",
    "\n",
    "class Human():\n",
    "    def __init__(self, name, age, sex):\n",
    "        self.name = name\n",
    "        self.age = age\n",
    "        self.sex = sex\n",
    "\n",
    "    def who(self):\n",
    "        print(f'이름: {areum.name}, 나이: {areum.age}, 성별: {areum.sex}')\n",
    "\n",
    "areum = Human('아름', 25, '여성')\n",
    "areum.who()"
   ]
  },
  {
   "cell_type": "code",
   "execution_count": 17,
   "id": "f0b466d4-0783-4749-b037-a58a5913c200",
   "metadata": {},
   "outputs": [
    {
     "name": "stdout",
     "output_type": "stream",
     "text": [
      "이름: 모름, 나이: 0, 성별: 모름\n",
      "이름: 아름, 나이: 25, 성별: 여자\n"
     ]
    }
   ],
   "source": [
    "# 258\n",
    "\n",
    "class Human():\n",
    "    def __init__(self, name, age, sex):\n",
    "        self.name = name\n",
    "        self.age = age\n",
    "        self.sex = sex\n",
    "\n",
    "    def who(self):\n",
    "        print(f'이름: {areum.name}, 나이: {areum.age}, 성별: {areum.sex}')\n",
    "\n",
    "    def setInfo(self, name, age, sex):\n",
    "        self.name = name\n",
    "        self.age = age\n",
    "        self.sex = sex\n",
    "\n",
    "areum = Human(\"모름\", 0, \"모름\")\n",
    "areum.who()\n",
    "\n",
    "areum.setInfo(\"아름\", 25, \"여자\")\n",
    "areum.who()"
   ]
  },
  {
   "cell_type": "code",
   "execution_count": 19,
   "id": "81c70c5e-66ba-4c3a-bdea-8e755b99ccf8",
   "metadata": {},
   "outputs": [
    {
     "name": "stdout",
     "output_type": "stream",
     "text": [
      "나의 죽음을 알리지 마라\n"
     ]
    }
   ],
   "source": [
    "# 259\n",
    "\n",
    "class Human():\n",
    "    def __init__(self, name, age, sex):\n",
    "        self.name = name\n",
    "        self.age = age\n",
    "        self.sex = sex\n",
    "\n",
    "    def who(self):\n",
    "        print(f'이름: {areum.name}, 나이: {areum.age}, 성별: {areum.sex}')\n",
    "\n",
    "    def setInfo(self, name, age, sex):\n",
    "        self.name = name\n",
    "        self.age = age\n",
    "        self.sex = sex\n",
    "\n",
    "    def __del__(self):\n",
    "        print('나의 죽음을 알리지 마라')\n",
    "\n",
    "areum = Human(\"아름\", 25, \"여자\")\n",
    "del areum"
   ]
  },
  {
   "cell_type": "code",
   "execution_count": 26,
   "id": "9f92c95c-a1b7-4ede-b770-c4e3b7695214",
   "metadata": {},
   "outputs": [
    {
     "name": "stdout",
     "output_type": "stream",
     "text": [
      "Oh my god\n"
     ]
    }
   ],
   "source": [
    "# 260\n",
    "\n",
    "class OMG : \n",
    "    def print(x) :\n",
    "        print(\"Oh my god\")\n",
    "\n",
    "myStock = OMG()\n",
    "myStock.print()"
   ]
  },
  {
   "cell_type": "code",
   "execution_count": null,
   "id": "88de134f-4bab-4133-bd73-93aa84472de3",
   "metadata": {},
   "outputs": [],
   "source": []
  }
 ],
 "metadata": {
  "kernelspec": {
   "display_name": "Python 3 (ipykernel)",
   "language": "python",
   "name": "python3"
  },
  "language_info": {
   "codemirror_mode": {
    "name": "ipython",
    "version": 3
   },
   "file_extension": ".py",
   "mimetype": "text/x-python",
   "name": "python",
   "nbconvert_exporter": "python",
   "pygments_lexer": "ipython3",
   "version": "3.11.6"
  }
 },
 "nbformat": 4,
 "nbformat_minor": 5
}
