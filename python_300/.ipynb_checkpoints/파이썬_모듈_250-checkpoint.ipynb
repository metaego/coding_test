{
 "cells": [
  {
   "cell_type": "code",
   "execution_count": 2,
   "id": "9633f3e8-904d-441d-b8ff-74646450eb00",
   "metadata": {},
   "outputs": [
    {
     "name": "stdout",
     "output_type": "stream",
     "text": [
      "2023-12-31 18:41:30.010803\n"
     ]
    }
   ],
   "source": [
    "# 241\n",
    "\n",
    "import datetime\n",
    "\n",
    "print(datetime.datetime.now())"
   ]
  },
  {
   "cell_type": "code",
   "execution_count": 3,
   "id": "b986de14-719d-4b5d-84b9-4596908dcac9",
   "metadata": {},
   "outputs": [
    {
     "name": "stdout",
     "output_type": "stream",
     "text": [
      "2023-12-31 18:42:26.979712 <class 'datetime.datetime'>\n"
     ]
    }
   ],
   "source": [
    "# 242\n",
    "\n",
    "import datetime\n",
    "\n",
    "today = datetime.datetime.now()\n",
    "\n",
    "print(today, type(today))"
   ]
  },
  {
   "cell_type": "code",
   "execution_count": 5,
   "id": "047b3f39-17b4-4dbf-9002-925b597b8d0f",
   "metadata": {},
   "outputs": [
    {
     "name": "stdout",
     "output_type": "stream",
     "text": [
      "2023-12-26 18:46:37.116080\n",
      "2023-12-27 18:46:37.116080\n",
      "2023-12-28 18:46:37.116080\n",
      "2023-12-29 18:46:37.116080\n",
      "2023-12-30 18:46:37.116080\n"
     ]
    }
   ],
   "source": [
    "# 243\n",
    "\n",
    "import datetime\n",
    "\n",
    "today = datetime.datetime.now()\n",
    "\n",
    "for num in range(5, 0, -1):\n",
    "    d_day = datetime.timedelta(days=num)\n",
    "    print(today - d_day)"
   ]
  },
  {
   "cell_type": "code",
   "execution_count": 10,
   "id": "72b21a6a-c53e-4d9b-9e28-bbe604eb5d45",
   "metadata": {},
   "outputs": [
    {
     "name": "stdout",
     "output_type": "stream",
     "text": [
      "19:30:16 <class 'str'>\n"
     ]
    }
   ],
   "source": [
    "# 244\n",
    "\n",
    "import datetime\n",
    "\n",
    "now = datetime.datetime.now().strftime('%H:%M:%S')\n",
    "\n",
    "print(now, type(now))"
   ]
  },
  {
   "cell_type": "code",
   "execution_count": 15,
   "id": "fb3c6666-2e53-4f39-8503-fa5af2eb8b45",
   "metadata": {},
   "outputs": [
    {
     "name": "stdout",
     "output_type": "stream",
     "text": [
      "2020-05-04 00:00:00\n"
     ]
    }
   ],
   "source": [
    "# 245\n",
    "\n",
    "print(datetime.datetime.strptime('2020-05-04', '%Y-%m-%d'))"
   ]
  },
  {
   "cell_type": "code",
   "execution_count": 18,
   "id": "f6df1028-3bb9-4942-9f33-ef2d6c0faaca",
   "metadata": {},
   "outputs": [
    {
     "name": "stdout",
     "output_type": "stream",
     "text": [
      "2023-12-31 19:41:36.113522\n",
      "2023-12-31 19:41:37.114869\n",
      "2023-12-31 19:41:38.115464\n",
      "2023-12-31 19:41:39.116446\n",
      "2023-12-31 19:41:40.117023\n",
      "2023-12-31 19:41:41.117290\n",
      "2023-12-31 19:41:42.118570\n",
      "2023-12-31 19:41:43.119363\n",
      "2023-12-31 19:41:44.120056\n",
      "2023-12-31 19:41:45.120615\n",
      "2023-12-31 19:41:46.121334\n",
      "2023-12-31 19:41:47.121977\n",
      "2023-12-31 19:41:48.122580\n"
     ]
    },
    {
     "ename": "KeyboardInterrupt",
     "evalue": "",
     "output_type": "error",
     "traceback": [
      "\u001b[1;31m---------------------------------------------------------------------------\u001b[0m",
      "\u001b[1;31mKeyboardInterrupt\u001b[0m                         Traceback (most recent call last)",
      "Cell \u001b[1;32mIn[18], line 9\u001b[0m\n\u001b[0;32m      7\u001b[0m now \u001b[38;5;241m=\u001b[39m datetime\u001b[38;5;241m.\u001b[39mdatetime\u001b[38;5;241m.\u001b[39mnow()\n\u001b[0;32m      8\u001b[0m \u001b[38;5;28mprint\u001b[39m(now)\n\u001b[1;32m----> 9\u001b[0m time\u001b[38;5;241m.\u001b[39msleep(\u001b[38;5;241m1\u001b[39m)\n",
      "\u001b[1;31mKeyboardInterrupt\u001b[0m: "
     ]
    }
   ],
   "source": [
    "# 246\n",
    "\n",
    "import time\n",
    "import datetime\n",
    "\n",
    "while True:\n",
    "    now = datetime.datetime.now()\n",
    "    print(now)\n",
    "    time.sleep(1)"
   ]
  },
  {
   "cell_type": "code",
   "execution_count": 19,
   "id": "345994e4-260a-408a-8588-17eca9ebec98",
   "metadata": {},
   "outputs": [],
   "source": [
    "# 247\n",
    "\n",
    "# 모듈 임포트 방식\n",
    "# import 모듈\n",
    "# from 모듈명 import 메소드명\n",
    "# from 모듈명 import 메소드명 as 별칭\n",
    "# from 모둘명 import *"
   ]
  },
  {
   "cell_type": "code",
   "execution_count": 23,
   "id": "919daa0b-f19e-4921-a7e7-f4a65f7fef1a",
   "metadata": {},
   "outputs": [
    {
     "name": "stdout",
     "output_type": "stream",
     "text": [
      "C:\\Users\\ksy76\\KDT-data-33\\github_백업용\\코테문풀\\coding_test\\python <class 'str'>\n"
     ]
    }
   ],
   "source": [
    "# 248\n",
    "\n",
    "import os\n",
    "\n",
    "pwd = os.getcwd()\n",
    "print(pwd, type(pwd))"
   ]
  },
  {
   "cell_type": "code",
   "execution_count": 28,
   "id": "d8ceaf46-16c1-4852-a94a-045b5093cd4a",
   "metadata": {},
   "outputs": [],
   "source": [
    "# 249\n",
    "\n",
    "import os\n",
    "\n",
    "pwd = os.getcwd()\n",
    "old_file_name = 'before.txt'\n",
    "new_file_name = 'after.txt'\n",
    "os.rename(pwd + '\\\\' + old_file_name, pwd + '\\\\' + new_file_name)"
   ]
  },
  {
   "cell_type": "code",
   "execution_count": 34,
   "id": "d9036bdd-2728-4dde-99bd-bf7f904506a0",
   "metadata": {
    "scrolled": true
   },
   "outputs": [
    {
     "name": "stdout",
     "output_type": "stream",
     "text": [
      "0.0\n",
      "0.1\n",
      "0.2\n",
      "0.30000000000000004\n",
      "0.4\n",
      "0.5\n",
      "0.6000000000000001\n",
      "0.7000000000000001\n",
      "0.8\n",
      "0.9\n",
      "1.0\n",
      "1.1\n",
      "1.2000000000000002\n",
      "1.3\n",
      "1.4000000000000001\n",
      "1.5\n",
      "1.6\n",
      "1.7000000000000002\n",
      "1.8\n",
      "1.9000000000000001\n",
      "2.0\n",
      "2.1\n",
      "2.2\n",
      "2.3000000000000003\n",
      "2.4000000000000004\n",
      "2.5\n",
      "2.6\n",
      "2.7\n",
      "2.8000000000000003\n",
      "2.9000000000000004\n",
      "3.0\n",
      "3.1\n",
      "3.2\n",
      "3.3000000000000003\n",
      "3.4000000000000004\n",
      "3.5\n",
      "3.6\n",
      "3.7\n",
      "3.8000000000000003\n",
      "3.9000000000000004\n",
      "4.0\n",
      "4.1000000000000005\n",
      "4.2\n",
      "4.3\n",
      "4.4\n",
      "4.5\n",
      "4.6000000000000005\n",
      "4.7\n",
      "4.800000000000001\n",
      "4.9\n",
      "5.0\n"
     ]
    }
   ],
   "source": [
    "# 250\n",
    "\n",
    "import numpy as np\n",
    "\n",
    "for num in np.arange(0, 5.1, 0.1): print(num)"
   ]
  },
  {
   "cell_type": "code",
   "execution_count": null,
   "id": "5369811c-f66c-49f8-ada7-1d45ae6e9075",
   "metadata": {},
   "outputs": [],
   "source": []
  }
 ],
 "metadata": {
  "kernelspec": {
   "display_name": "Python 3 (ipykernel)",
   "language": "python",
   "name": "python3"
  },
  "language_info": {
   "codemirror_mode": {
    "name": "ipython",
    "version": 3
   },
   "file_extension": ".py",
   "mimetype": "text/x-python",
   "name": "python",
   "nbconvert_exporter": "python",
   "pygments_lexer": "ipython3",
   "version": "3.11.6"
  }
 },
 "nbformat": 4,
 "nbformat_minor": 5
}
