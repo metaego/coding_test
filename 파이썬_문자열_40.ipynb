{
 "cells": [
  {
   "cell_type": "code",
   "execution_count": 1,
   "id": "d2621c70-3690-4a15-8211-23440c7a0870",
   "metadata": {},
   "outputs": [
    {
     "name": "stdout",
     "output_type": "stream",
     "text": [
      "34\n"
     ]
    }
   ],
   "source": [
    "'''\n",
    "아래 코드 실행\n",
    ">> a = \"3\"\n",
    ">> b = \"4\"\n",
    ">> print(a + b)\n",
    "'''\n",
    "\n",
    "a = \"3\"\n",
    "b = \"4\"\n",
    "print(a + b)  # 34"
   ]
  },
  {
   "cell_type": "code",
   "execution_count": 2,
   "id": "2661d08d-4f18-4989-9d5f-e251ac1c4069",
   "metadata": {},
   "outputs": [
    {
     "name": "stdout",
     "output_type": "stream",
     "text": [
      "HiHiHi\n"
     ]
    }
   ],
   "source": [
    "'''\n",
    "아래 문자열 실행\n",
    ">> print(\"Hi\" * 3)\n",
    "'''\n",
    "\n",
    "print(\"Hi\" * 3) # HiHiHi"
   ]
  },
  {
   "cell_type": "code",
   "execution_count": 3,
   "id": "316dac1e-b14e-41fc-91ac-841104832b1f",
   "metadata": {},
   "outputs": [
    {
     "name": "stdout",
     "output_type": "stream",
     "text": [
      "--------------------------------------------------------------------------------\n"
     ]
    }
   ],
   "source": [
    "'''\n",
    "-를 80개 출력하라\n",
    "실행 예:\n",
    "--------------------------------------------------------------------------------\n",
    "'''\n",
    "print('-' * 80)"
   ]
  },
  {
   "cell_type": "code",
   "execution_count": 9,
   "id": "11a6386d-701d-46ab-b96b-a2cfd98461c1",
   "metadata": {},
   "outputs": [
    {
     "name": "stdout",
     "output_type": "stream",
     "text": [
      "python java python java python java python java \n",
      "python java python java python java python java \n"
     ]
    }
   ],
   "source": [
    "'''\n",
    "아래와 같이 출력하라\n",
    ">>> t1 = 'python'\n",
    ">>> t2 = 'java'\n",
    "\n",
    "실행 예:\n",
    "python java python java python java python java\n",
    "'''\n",
    "t1 = 'python'\n",
    "t2 = 'java'\n",
    "\n",
    "print((t1 + ' ' + t2 + ' ') * 4)\n",
    "print(f'{t1} {t2} ' * 4)"
   ]
  },
  {
   "cell_type": "code",
   "execution_count": 12,
   "id": "14f0af9f-1627-47bd-9462-1f0e199a0ddb",
   "metadata": {},
   "outputs": [
    {
     "name": "stdout",
     "output_type": "stream",
     "text": [
      "이름: 김민수 나이: 10\n",
      "이름: 이철희 나이: 13\n"
     ]
    }
   ],
   "source": [
    "'''\n",
    "% formatting을 사용해서 아래 예시와 같이 출력하라\n",
    "name1 = \"김민수\" \n",
    "age1 = 10\n",
    "name2 = \"이철희\"\n",
    "age2 = 13\n",
    "\n",
    "이름: 김민수 나이: 10\n",
    "이름: 이철희 나이: 13\n",
    "'''\n",
    "\n",
    "name1 = \"김민수\" \n",
    "age1 = 10\n",
    "name2 = \"이철희\"\n",
    "age2 = 13\n",
    "\n",
    "print('이름: %s 나이: %d' % (name1, age1))\n",
    "print('이름: %s 나이: %d'% (name2, age2))"
   ]
  },
  {
   "cell_type": "code",
   "execution_count": 13,
   "id": "d668b8d3-d56a-419e-be0b-369bcd564330",
   "metadata": {},
   "outputs": [
    {
     "name": "stdout",
     "output_type": "stream",
     "text": [
      "이름: 김민수 나이: 10\n",
      "이름: 이철희 나이: 13\n"
     ]
    }
   ],
   "source": [
    "'''\n",
    "파이썬 3.6부터 지원하는 f-string을 활용하여 위의 문제 다시 풀기\n",
    "'''\n",
    "\n",
    "print(f'이름: {name1} 나이: {age1}')\n",
    "print(f'이름: {name2} 나이: {age2}')"
   ]
  },
  {
   "cell_type": "code",
   "execution_count": 15,
   "id": "79dc547e-0acd-4800-aaf4-4766c45a1d9e",
   "metadata": {},
   "outputs": [
    {
     "name": "stdout",
     "output_type": "stream",
     "text": [
      "이름: 김민수 나이: 10\n",
      "이름: 이철희 나이: 13\n"
     ]
    }
   ],
   "source": [
    "'''\n",
    "format() 메서드 활용해서 위의 문제 다시 풀기\n",
    "'''\n",
    "\n",
    "print('이름: {} 나이: {}'.format(name1, age1))\n",
    "print('이름: {} 나이: {}'.format(name2, age2))"
   ]
  },
  {
   "cell_type": "code",
   "execution_count": 16,
   "id": "3158bd92-12e9-4ed9-92f5-24b624947dad",
   "metadata": {},
   "outputs": [
    {
     "name": "stdout",
     "output_type": "stream",
     "text": [
      "5969782550\n"
     ]
    }
   ],
   "source": [
    "'''\n",
    "컴마를 제거한 후 정수 타입으로 변환\n",
    "상장주식수 = \"5,969,782,550\"\n",
    "'''\n",
    "\n",
    "listed_shares = \"5,969,782,550\"\n",
    "listed_shares = int(listed_shares.replace(',', ''))\n",
    "print(listed_shares)"
   ]
  },
  {
   "cell_type": "code",
   "execution_count": 18,
   "id": "9b24bf9b-05ae-4568-ba7f-8bf29bf03754",
   "metadata": {},
   "outputs": [
    {
     "data": {
      "text/plain": [
       "'2020/03'"
      ]
     },
     "execution_count": 18,
     "metadata": {},
     "output_type": "execute_result"
    }
   ],
   "source": [
    "'''\n",
    "문자열에서 2020/03만 출력하라\n",
    "분기 = \"2020/03(E) (IFRS연결)\"\n",
    "'''\n",
    "\n",
    "quarter = \"2020/03(E) (IFRS연결)\"\n",
    "quarter[:7]"
   ]
  },
  {
   "cell_type": "code",
   "execution_count": 21,
   "id": "3ec65ae1-038f-4bf1-8796-245471faae70",
   "metadata": {},
   "outputs": [
    {
     "name": "stdout",
     "output_type": "stream",
     "text": [
      "삼성전자\n"
     ]
    }
   ],
   "source": [
    "'''\n",
    "공백 제거\n",
    "data = \"   삼성전자    \"\n",
    "\n",
    "'''\n",
    "data = \"   삼성전자    \"\n",
    "data = data.strip()\n",
    "print(data)"
   ]
  },
  {
   "cell_type": "code",
   "execution_count": null,
   "id": "6d89a035-2a36-48ad-8602-fac032970749",
   "metadata": {},
   "outputs": [],
   "source": []
  }
 ],
 "metadata": {
  "kernelspec": {
   "display_name": "Python 3 (ipykernel)",
   "language": "python",
   "name": "python3"
  },
  "language_info": {
   "codemirror_mode": {
    "name": "ipython",
    "version": 3
   },
   "file_extension": ".py",
   "mimetype": "text/x-python",
   "name": "python",
   "nbconvert_exporter": "python",
   "pygments_lexer": "ipython3",
   "version": "3.11.6"
  }
 },
 "nbformat": 4,
 "nbformat_minor": 5
}
