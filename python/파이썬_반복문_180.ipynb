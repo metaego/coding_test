{
 "cells": [
  {
   "cell_type": "code",
   "execution_count": 1,
   "id": "ec2f07b3-80ff-43e7-922a-07c4ab472770",
   "metadata": {},
   "outputs": [
    {
     "name": "stdout",
     "output_type": "stream",
     "text": [
      "32100\n",
      "32150\n",
      "32000\n",
      "32500\n"
     ]
    }
   ],
   "source": [
    "# 171\n",
    "\n",
    "price_list = [32100, 32150, 32000, 32500]\n",
    "\n",
    "for price in price_list:\n",
    "    print(price)"
   ]
  },
  {
   "cell_type": "code",
   "execution_count": 2,
   "id": "aa121f1b-7bee-4d01-bd78-1097cdb19940",
   "metadata": {},
   "outputs": [
    {
     "name": "stdout",
     "output_type": "stream",
     "text": [
      "0 32100\n",
      "1 32150\n",
      "2 32000\n",
      "3 32500\n"
     ]
    }
   ],
   "source": [
    "# 172\n",
    "\n",
    "price_list = [32100, 32150, 32000, 32500]\n",
    "\n",
    "for idx in range(len(price_list)):\n",
    "    print(idx, price_list[idx])"
   ]
  },
  {
   "cell_type": "code",
   "execution_count": 7,
   "id": "92135db4-06c1-4d10-9307-a962292045d7",
   "metadata": {},
   "outputs": [
    {
     "name": "stdout",
     "output_type": "stream",
     "text": [
      "3 32100\n",
      "2 32150\n",
      "1 32000\n",
      "0 32500\n"
     ]
    }
   ],
   "source": [
    "# 173\n",
    "\n",
    "price_list = [32100, 32150, 32000, 32500]\n",
    "\n",
    "for idx in range(len(price_list)):\n",
    "    print(3 - idx, price_list[idx])"
   ]
  },
  {
   "cell_type": "code",
   "execution_count": 9,
   "id": "93e0d1bf-5855-407e-86e0-868c396c55b7",
   "metadata": {},
   "outputs": [
    {
     "name": "stdout",
     "output_type": "stream",
     "text": [
      "100 32150\n",
      "110 32000\n",
      "120 32500\n"
     ]
    }
   ],
   "source": [
    "# 174\n",
    "\n",
    "price_list = [32100, 32150, 32000, 32500]\n",
    "\n",
    "for idx in range(len(price_list))[1:] :\n",
    "    print(90 + idx *10, price_list[idx])"
   ]
  },
  {
   "cell_type": "code",
   "execution_count": 11,
   "id": "36e3a215-fd6b-4359-ae60-bc2203e65557",
   "metadata": {},
   "outputs": [
    {
     "name": "stdout",
     "output_type": "stream",
     "text": [
      "가 나\n",
      "나 다\n",
      "다 라\n"
     ]
    }
   ],
   "source": [
    "# 175\n",
    "\n",
    "my_list = [\"가\", \"나\", \"다\", \"라\"]\n",
    "\n",
    "for char in range(3):\n",
    "    print(my_list[char], my_list[char +1])"
   ]
  },
  {
   "cell_type": "code",
   "execution_count": 13,
   "id": "86f26e98-6b1c-4805-b620-54ed1cf6d319",
   "metadata": {},
   "outputs": [
    {
     "name": "stdout",
     "output_type": "stream",
     "text": [
      "가 나 다\n",
      "나 다 라\n",
      "다 라 마\n"
     ]
    }
   ],
   "source": [
    "# 176\n",
    "\n",
    "my_list = [\"가\", \"나\", \"다\", \"라\", \"마\"]\n",
    "\n",
    "for idx in range(len(my_list)//2 + 1) :\n",
    "    print(my_list[idx], my_list[idx+1], my_list[idx+2])"
   ]
  },
  {
   "cell_type": "code",
   "execution_count": 18,
   "id": "4d2f2e39-5f32-409f-b2af-db68d97b1e1d",
   "metadata": {},
   "outputs": [
    {
     "name": "stdout",
     "output_type": "stream",
     "text": [
      "라 다\n",
      "다 나\n",
      "나 가\n"
     ]
    }
   ],
   "source": [
    "# 177\n",
    "\n",
    "my_list = [\"가\", \"나\", \"다\", \"라\"]\n",
    "\n",
    "for idx in range(3, 0, -1) :\n",
    "    print(my_list[idx], my_list[idx-1])"
   ]
  },
  {
   "cell_type": "code",
   "execution_count": 22,
   "id": "cb5a2953-7253-44d0-8675-9495cd94fc44",
   "metadata": {},
   "outputs": [
    {
     "name": "stdout",
     "output_type": "stream",
     "text": [
      "100\n",
      "200\n",
      "400\n"
     ]
    }
   ],
   "source": [
    "# 178\n",
    "\n",
    "my_list = [100, 200, 400, 800]\n",
    "\n",
    "for idx in range(len(my_list) - 1):\n",
    "    print(my_list[idx + 1] - my_list[idx])"
   ]
  },
  {
   "cell_type": "code",
   "execution_count": 24,
   "id": "65997b56-c510-4fdf-a064-31af48fc7904",
   "metadata": {},
   "outputs": [
    {
     "name": "stdout",
     "output_type": "stream",
     "text": [
      "233.33333333333334\n",
      "466.6666666666667\n",
      "733.3333333333334\n",
      "1033.3333333333333\n"
     ]
    }
   ],
   "source": [
    "# 179\n",
    "\n",
    "my_list = [100, 200, 400, 800, 1000, 1300]\n",
    "\n",
    "for idx in range(len(my_list) -2) :\n",
    "    print((my_list[idx] + my_list[idx + 1] + my_list[idx + 2])/3)"
   ]
  },
  {
   "cell_type": "code",
   "execution_count": 26,
   "id": "dc57111e-83dc-4b4b-a27a-c3ab9ca4bc5e",
   "metadata": {},
   "outputs": [
    {
     "name": "stdout",
     "output_type": "stream",
     "text": [
      "[50, 100, 30, 80, 0]\n"
     ]
    }
   ],
   "source": [
    "# 180\n",
    "\n",
    "low_prices  = [100, 200, 400, 800, 1000]\n",
    "high_prices = [150, 300, 430, 880, 1000]\n",
    "volatility = []\n",
    "\n",
    "for idx in range(len(low_prices)):\n",
    "    volatility.append(high_prices[idx] - low_prices[idx])\n",
    "\n",
    "print(volatility)"
   ]
  },
  {
   "cell_type": "code",
   "execution_count": null,
   "id": "6bb20d76-bc87-4152-8f91-d2d7319404cd",
   "metadata": {},
   "outputs": [],
   "source": []
  }
 ],
 "metadata": {
  "kernelspec": {
   "display_name": "Python 3 (ipykernel)",
   "language": "python",
   "name": "python3"
  },
  "language_info": {
   "codemirror_mode": {
    "name": "ipython",
    "version": 3
   },
   "file_extension": ".py",
   "mimetype": "text/x-python",
   "name": "python",
   "nbconvert_exporter": "python",
   "pygments_lexer": "ipython3",
   "version": "3.11.6"
  }
 },
 "nbformat": 4,
 "nbformat_minor": 5
}
