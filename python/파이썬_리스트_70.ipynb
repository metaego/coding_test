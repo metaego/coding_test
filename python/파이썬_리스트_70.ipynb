{
 "cells": [
  {
   "cell_type": "code",
   "execution_count": 1,
   "id": "3b80b32d-30d9-4fed-9530-3bcf2e915530",
   "metadata": {},
   "outputs": [
    {
     "data": {
      "text/plain": [
       "[100, 130, 140, 150, 160, 170]"
      ]
     },
     "execution_count": 1,
     "metadata": {},
     "output_type": "execute_result"
    }
   ],
   "source": [
    "'''\n",
    "출력 예시와 같이 출력\n",
    "price = ['20180728', 100, 130, 140, 150, 160, 170]\n",
    "\n",
    "출력 예시:\n",
    "[100, 130, 140, 150, 160, 170]\n",
    "'''\n",
    "\n",
    "price = ['20180728', 100, 130, 140, 150, 160, 170]\n",
    "price[1:]"
   ]
  },
  {
   "cell_type": "code",
   "execution_count": 4,
   "id": "e598f2ec-4232-494c-959a-ba3b9d0769e3",
   "metadata": {},
   "outputs": [
    {
     "name": "stdout",
     "output_type": "stream",
     "text": [
      "[1, 3, 5, 7, 9]\n"
     ]
    }
   ],
   "source": [
    "'''\n",
    "홀수만 출력\n",
    "nums = [1, 2, 3, 4, 5, 6, 7, 8, 9, 10]\n",
    "\n",
    "실행 예:\n",
    "[1, 3, 5, 7, 9]\n",
    "'''\n",
    "\n",
    "nums = [1, 2, 3, 4, 5, 6, 7, 8, 9, 10]\n",
    "print(nums[::2])"
   ]
  },
  {
   "cell_type": "code",
   "execution_count": 6,
   "id": "aab892dd-86f6-4a3c-adec-a41a3e09db10",
   "metadata": {},
   "outputs": [
    {
     "name": "stdout",
     "output_type": "stream",
     "text": [
      "[2, 4, 6, 8, 10]\n"
     ]
    }
   ],
   "source": [
    "''' \n",
    "짝수만 출력하라\n",
    "nums = [1, 2, 3, 4, 5, 6, 7, 8, 9, 10]\n",
    "'''\n",
    "\n",
    "nums = [1, 2, 3, 4, 5, 6, 7, 8, 9, 10]\n",
    "print(nums[1::2])"
   ]
  },
  {
   "cell_type": "code",
   "execution_count": 15,
   "id": "05643db0-554b-420a-b213-1a7407d5ce4c",
   "metadata": {},
   "outputs": [
    {
     "name": "stdout",
     "output_type": "stream",
     "text": [
      "[5, 4, 3, 2, 1]\n",
      "[1, 2, 3, 4, 5]\n",
      "[5, 4, 3, 2, 1]\n"
     ]
    }
   ],
   "source": [
    "'''\n",
    "리스트를 reverse하라\n",
    "nums = [1, 2, 3, 4, 5]\n",
    "'''\n",
    "\n",
    "nums = [1, 2, 3, 4, 5]\n",
    "print(nums[::-1])  # [5, 4, 3, 2, 1]\n",
    "print(nums)  # [1, 2, 3, 4, 5]\n",
    "\n",
    "nums.reverse()  # reverse() 메소드는 return이 0, 원본 수정됨\n",
    "print(nums)"
   ]
  },
  {
   "cell_type": "code",
   "execution_count": 23,
   "id": "363f8430-0213-4bf9-9034-01467b9784cc",
   "metadata": {},
   "outputs": [
    {
     "data": {
      "text/plain": [
       "['삼성전자', 'Naver']"
      ]
     },
     "execution_count": 23,
     "metadata": {},
     "output_type": "execute_result"
    }
   ],
   "source": [
    "'''\n",
    "아래 리스트에서 출력 예시와 같이 출력하라\n",
    "interest = ['삼성전자', 'LG전자', 'Naver']\n",
    "\n",
    "출력 예시:\n",
    "삼성전자 Naver\n",
    "'''\n",
    "\n",
    "interest = ['삼성전자', 'LG전자', 'Naver']\n",
    "interest[::2]"
   ]
  },
  {
   "cell_type": "code",
   "execution_count": 28,
   "id": "7ff5efda-b3fa-428d-9f1f-dee11c41962e",
   "metadata": {},
   "outputs": [
    {
     "name": "stdout",
     "output_type": "stream",
     "text": [
      "삼성전자 LG전자 Naver SK하이닉스 미래에셋대우\n"
     ]
    }
   ],
   "source": [
    "'''\n",
    "아래 리스트에서 출력 예시와 같이 출력하라\n",
    "interest = ['삼성전자', 'LG전자', 'Naver', 'SK하이닉스', '미래에셋대우']\n",
    "\n",
    "\n",
    "출력 예시:\n",
    "삼성전자 LG전자 Naver SK하이닉스 미래에셋대우\n",
    "'''\n",
    "\n",
    "interest = ['삼성전자', 'LG전자', 'Naver', 'SK하이닉스', '미래에셋대우']\n",
    "print(\" \".join(interest))"
   ]
  },
  {
   "cell_type": "code",
   "execution_count": 30,
   "id": "93850816-79dd-4f63-ae2f-3b273f78b015",
   "metadata": {},
   "outputs": [
    {
     "name": "stdout",
     "output_type": "stream",
     "text": [
      "삼성전자/LG전자/Naver/SK하이닉스/미래에셋대우\n"
     ]
    }
   ],
   "source": [
    "'''\n",
    "아래 출력 예시와 같이 출력하라\n",
    "interest = ['삼성전자', 'LG전자', 'Naver', 'SK하이닉스', '미래에셋대우']\n",
    "\n",
    "출력 예시:\n",
    "삼성전자/LG전자/Naver/SK하이닉스/미래에셋대우\n",
    "'''\n",
    "\n",
    "interest = ['삼성전자', 'LG전자', 'Naver', 'SK하이닉스', '미래에셋대우']\n",
    "print(\"/\".join(interest))"
   ]
  },
  {
   "cell_type": "code",
   "execution_count": 31,
   "id": "22d60e09-0d50-42bf-bc87-5599e3c6c1aa",
   "metadata": {},
   "outputs": [
    {
     "name": "stdout",
     "output_type": "stream",
     "text": [
      "삼성전자\n",
      "LG전자\n",
      "Naver\n",
      "SK하이닉스\n",
      "미래에셋대우\n"
     ]
    }
   ],
   "source": [
    "'''\n",
    "아래 출력 예씨와 같이 출력하라\n",
    "interest = ['삼성전자', 'LG전자', 'Naver', 'SK하이닉스', '미래에셋대우']\n",
    "\n",
    "출력 예시:\n",
    "삼성전자\n",
    "LG전자\n",
    "Naver\n",
    "SK하이닉스\n",
    "미래에셋대우\n",
    "'''\n",
    "\n",
    "interest = ['삼성전자', 'LG전자', 'Naver', 'SK하이닉스', '미래에셋대우']\n",
    "\n",
    "print(\"\\n\".join(interest))"
   ]
  },
  {
   "cell_type": "code",
   "execution_count": 33,
   "id": "ed22b71c-4247-4aaf-b7f6-de00b608cdbe",
   "metadata": {},
   "outputs": [
    {
     "name": "stdout",
     "output_type": "stream",
     "text": [
      "['삼성전자', 'LG전자', 'Naver']\n"
     ]
    }
   ],
   "source": [
    "'''\n",
    "string이 슬래시로 구분되어 하나의 문자열로 저장되어 있다.\n",
    "string = \"삼성전자/LG전자/Naver\"\n",
    "\n",
    "이를 interest 이름의 리스트로 분리 저장하라\n",
    "실행 예시\n",
    ">> print(interest)\n",
    "['삼성전자', 'LG전자', 'Naver']\n",
    "'''\n",
    "\n",
    "string = \"삼성전자/LG전자/Naver\"\n",
    "interest = string.split(\"/\")\n",
    "print(interest)"
   ]
  },
  {
   "cell_type": "code",
   "execution_count": 36,
   "id": "233ada05-d4c7-4799-b09c-2f2c79519c18",
   "metadata": {},
   "outputs": [
    {
     "data": {
      "text/plain": [
       "[1, 2, 3, 4, 5, 9, 10]"
      ]
     },
     "execution_count": 36,
     "metadata": {},
     "output_type": "execute_result"
    }
   ],
   "source": [
    "'''\n",
    "아래 리스트를 오름차순으로 정랄\n",
    "data = [2, 4, 3, 1, 5, 10, 9]\n",
    "\n",
    "'''\n",
    "\n",
    "data = [2, 4, 3, 1, 5, 10, 9]\n",
    "data.sort()\n",
    "data"
   ]
  },
  {
   "cell_type": "code",
   "execution_count": null,
   "id": "bc8e145d-7231-460e-8558-35ffca5b5f91",
   "metadata": {},
   "outputs": [],
   "source": []
  }
 ],
 "metadata": {
  "kernelspec": {
   "display_name": "Python 3 (ipykernel)",
   "language": "python",
   "name": "python3"
  },
  "language_info": {
   "codemirror_mode": {
    "name": "ipython",
    "version": 3
   },
   "file_extension": ".py",
   "mimetype": "text/x-python",
   "name": "python",
   "nbconvert_exporter": "python",
   "pygments_lexer": "ipython3",
   "version": "3.11.6"
  }
 },
 "nbformat": 4,
 "nbformat_minor": 5
}
