{
 "cells": [
  {
   "cell_type": "code",
   "execution_count": 3,
   "id": "3ee4eb47-5bfd-4f71-83f7-1c75b8e8984a",
   "metadata": {},
   "outputs": [
    {
     "data": {
      "text/plain": [
       "'BTC_KRW'"
      ]
     },
     "execution_count": 3,
     "metadata": {},
     "output_type": "execute_result"
    }
   ],
   "source": [
    "'''\n",
    "문자열을 대문자로 변경\n",
    "ticker = \"btc_krw\"\n",
    "'''\n",
    "\n",
    "ticker = \"btc_krw\"\n",
    "ticker = ticker.upper()\n",
    "ticker"
   ]
  },
  {
   "cell_type": "code",
   "execution_count": 4,
   "id": "53e52e7a-4277-4d24-983c-44f17f694017",
   "metadata": {},
   "outputs": [
    {
     "data": {
      "text/plain": [
       "'btc_krw'"
      ]
     },
     "execution_count": 4,
     "metadata": {},
     "output_type": "execute_result"
    }
   ],
   "source": [
    "'''\n",
    "소문자로 변환\n",
    "ticker = \"BTC_KRW\"\n",
    "'''\n",
    "ticker = \"BTC_KRW\"\n",
    "ticker = ticker.lower()\n",
    "ticker"
   ]
  },
  {
   "cell_type": "code",
   "execution_count": 7,
   "id": "a97a84c3-54d7-4cbc-aca5-985d13951c21",
   "metadata": {},
   "outputs": [
    {
     "name": "stdout",
     "output_type": "stream",
     "text": [
      "Hello\n"
     ]
    }
   ],
   "source": [
    "'''\n",
    "문자열 'hello'가 있을 때 이를 'Hello'로 변경해보세요.\n",
    "'''\n",
    "\n",
    "a = \"hello\"\n",
    "a = a.capitalize()\n",
    "print(a)"
   ]
  },
  {
   "cell_type": "code",
   "execution_count": 10,
   "id": "7501d760-57ad-41ca-8466-2a4f66c33ca9",
   "metadata": {},
   "outputs": [
    {
     "data": {
      "text/plain": [
       "True"
      ]
     },
     "execution_count": 10,
     "metadata": {},
     "output_type": "execute_result"
    }
   ],
   "source": [
    "'''\n",
    "파일 이름이 문자열로 저장되어 있을 때 endswith 메서드를 사용해서 파일 이름이 'xlsx'로 끝나는 지 확인\n",
    "file_name = \"보고서.xlsx\"\n",
    "'''\n",
    "\n",
    "file_name = \"보고서.xlsx\"\n",
    "file_name = file_name.endswith('xlsx')\n",
    "file_name"
   ]
  },
  {
   "cell_type": "code",
   "execution_count": 15,
   "id": "10148d99-d917-4d3c-b237-b1882a3ec92d",
   "metadata": {},
   "outputs": [
    {
     "name": "stdout",
     "output_type": "stream",
     "text": [
      "True False\n"
     ]
    },
    {
     "data": {
      "text/plain": [
       "True"
      ]
     },
     "execution_count": 15,
     "metadata": {},
     "output_type": "execute_result"
    }
   ],
   "source": [
    "'''\n",
    "파일 이름이 xlsx 또는 xls로 끝나는지 확인\n",
    "'''\n",
    "file_name = \"보고서.xlsx\"\n",
    "is_xlsx = file_name.endswith('xlsx')\n",
    "is_xls = file_name.endswith('xls')\n",
    "print(is_xlsx, is_xls)\n",
    "file_name.endswith((\"xlsx\", \"xls\"))"
   ]
  },
  {
   "cell_type": "code",
   "execution_count": 16,
   "id": "790a2ee6-0cad-4035-bf83-80219b9bf987",
   "metadata": {},
   "outputs": [
    {
     "data": {
      "text/plain": [
       "True"
      ]
     },
     "execution_count": 16,
     "metadata": {},
     "output_type": "execute_result"
    }
   ],
   "source": [
    "'''\n",
    "문자열이 2020으로 시작하는지 확인\n",
    "file_name = \"2020_보고서.xlsx\"\n",
    "'''\n",
    "\n",
    "file_name = \"2020_보고서.xlsx\"\n",
    "file_name.startswith('2020')"
   ]
  },
  {
   "cell_type": "code",
   "execution_count": 22,
   "id": "be1c5723-0f05-4c71-8994-d1f0002c2bf0",
   "metadata": {},
   "outputs": [
    {
     "name": "stdout",
     "output_type": "stream",
     "text": [
      "['hello', 'world']\n",
      "<class 'list'>\n"
     ]
    }
   ],
   "source": [
    "''' \n",
    "다음 문자열을 공백 기준으로 분리\n",
    "a = \"hello world\"\n",
    "'''\n",
    "a = \"hello world\"\n",
    "\n",
    "print(a.split(\" \")); print(type(a.split(\" \")))"
   ]
  },
  {
   "cell_type": "code",
   "execution_count": 23,
   "id": "4fed626b-6784-417d-84b1-73919ab0ebb5",
   "metadata": {},
   "outputs": [
    {
     "data": {
      "text/plain": [
       "['btc', 'krw']"
      ]
     },
     "execution_count": 23,
     "metadata": {},
     "output_type": "execute_result"
    }
   ],
   "source": [
    "'''\n",
    "btc와 krw로 나눠라\n",
    "ticker = \"btc_krw\"\n",
    "'''\n",
    "\n",
    "ticker = \"btc_krw\"\n",
    "ticker.split('_')"
   ]
  },
  {
   "cell_type": "code",
   "execution_count": 26,
   "id": "04083837-f069-47e6-a931-d133988d8fc1",
   "metadata": {},
   "outputs": [
    {
     "data": {
      "text/plain": [
       "['2020', '05', '01']"
      ]
     },
     "execution_count": 26,
     "metadata": {},
     "output_type": "execute_result"
    }
   ],
   "source": [
    "'''\n",
    "연도, 월, 일로 나눠라\n",
    "date = \"2020-05-01\"\n",
    "'''\n",
    "\n",
    "date = \"2020-05-01\"\n",
    "date.split('-')"
   ]
  },
  {
   "cell_type": "code",
   "execution_count": 27,
   "id": "310e19b4-b8a4-475f-aad7-d19fd0c5c24e",
   "metadata": {},
   "outputs": [
    {
     "data": {
      "text/plain": [
       "'039490'"
      ]
     },
     "execution_count": 27,
     "metadata": {},
     "output_type": "execute_result"
    }
   ],
   "source": [
    "'''\n",
    "공백 제거\n",
    "data = \"039490     \"\n",
    "'''\n",
    "\n",
    "data = \"039490     \"\n",
    "data.strip()"
   ]
  },
  {
   "cell_type": "code",
   "execution_count": null,
   "id": "967c2aaa-fd3d-4f1a-81f8-0f68e18b1e65",
   "metadata": {},
   "outputs": [],
   "source": []
  }
 ],
 "metadata": {
  "kernelspec": {
   "display_name": "Python 3 (ipykernel)",
   "language": "python",
   "name": "python3"
  },
  "language_info": {
   "codemirror_mode": {
    "name": "ipython",
    "version": 3
   },
   "file_extension": ".py",
   "mimetype": "text/x-python",
   "name": "python",
   "nbconvert_exporter": "python",
   "pygments_lexer": "ipython3",
   "version": "3.11.6"
  }
 },
 "nbformat": 4,
 "nbformat_minor": 5
}
