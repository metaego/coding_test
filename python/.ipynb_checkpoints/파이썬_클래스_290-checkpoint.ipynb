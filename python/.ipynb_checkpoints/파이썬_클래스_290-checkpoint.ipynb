{
 "cells": [
  {
   "cell_type": "code",
   "execution_count": 3,
   "id": "2d53c9b5-349a-42be-901f-4b7b7e0a4c84",
   "metadata": {},
   "outputs": [],
   "source": [
    "# 281\n",
    "\n",
    "class Car():\n",
    "    def __init__(self, wheel, price):\n",
    "        self.wheel = wheel\n",
    "        self.price = price\n",
    "        "
   ]
  },
  {
   "cell_type": "code",
   "execution_count": 4,
   "id": "4f3c1322-85c3-4ec6-86a1-e7f3644b44e3",
   "metadata": {},
   "outputs": [
    {
     "name": "stdout",
     "output_type": "stream",
     "text": [
      "2\n",
      "1000\n"
     ]
    }
   ],
   "source": [
    "car = Car(2, 1000)\n",
    "print(car.wheel)\n",
    "print(car.price)"
   ]
  },
  {
   "cell_type": "code",
   "execution_count": 5,
   "id": "1ac9c2d4-8465-4346-9263-240ed1f8c184",
   "metadata": {},
   "outputs": [],
   "source": [
    "# 282\n",
    "\n",
    "class Bicycle(Car):\n",
    "    pass\n",
    "    "
   ]
  },
  {
   "cell_type": "code",
   "execution_count": 7,
   "id": "d31b810c-fc9e-4326-b0cc-b577d13d27ed",
   "metadata": {},
   "outputs": [
    {
     "name": "stdout",
     "output_type": "stream",
     "text": [
      "2\n",
      "100\n"
     ]
    }
   ],
   "source": [
    "# 283\n",
    "\n",
    "bicycle = Bicycle(2, 100)\n",
    "print(bicycle.wheel)\n",
    "print(bicycle.price)"
   ]
  },
  {
   "cell_type": "code",
   "execution_count": 11,
   "id": "7eacd638-7892-470e-ae6a-6374241d8ff5",
   "metadata": {},
   "outputs": [],
   "source": [
    "# 284\n",
    "\n",
    "class Bicycle(Car):\n",
    "    def __init__(self, wheel, price, driving_system):\n",
    "        super().__init__(wheel, price)\n",
    "        self.driving_system = driving_system\n"
   ]
  },
  {
   "cell_type": "code",
   "execution_count": 12,
   "id": "ae76a0fd-a37f-4946-9a19-952ef1903d12",
   "metadata": {},
   "outputs": [
    {
     "name": "stdout",
     "output_type": "stream",
     "text": [
      "2\n",
      "시마노\n"
     ]
    }
   ],
   "source": [
    "bicycle = Bicycle(2, 100, \"시마노\")\n",
    "print(bicycle.wheel)\n",
    "print(bicycle.driving_system)"
   ]
  },
  {
   "cell_type": "code",
   "execution_count": 15,
   "id": "3d1aae83-3807-4611-bd95-da224060930d",
   "metadata": {},
   "outputs": [],
   "source": [
    "# 285\n",
    "\n",
    "class Car(Car):\n",
    "    def __init__(self, wheel, price):\n",
    "        super().__init__(wheel, price)\n",
    "\n",
    "    def info(self):\n",
    "        print(f\"바퀴 수: {self.wheel}\")\n",
    "        print(f\"가격: {self.price}\")"
   ]
  },
  {
   "cell_type": "code",
   "execution_count": 16,
   "id": "d0b1de15-be67-41f0-980a-7d67a51b3775",
   "metadata": {},
   "outputs": [
    {
     "name": "stdout",
     "output_type": "stream",
     "text": [
      "1000\n",
      "바퀴 수: 4\n",
      "가격: 1000\n",
      "None\n"
     ]
    }
   ],
   "source": [
    "car = Car(4, 1000)\n",
    "print(car.price)\n",
    "print(car.info())"
   ]
  },
  {
   "cell_type": "code",
   "execution_count": 19,
   "id": "c6d4abe0-d58c-465e-8b29-fc0c9be799ad",
   "metadata": {},
   "outputs": [],
   "source": [
    "# 286\n",
    "\n",
    "class Car():\n",
    "    def __init__(self, wheel, price):\n",
    "        self.wheel = wheel\n",
    "        self.price = price\n",
    "\n",
    "    def info(self):\n",
    "        print(f'바퀴 수: {self.wheel}')\n",
    "        print(f'가격: {self.price}')\n",
    "\n",
    "class Bicycle(Car):\n",
    "    def __init__(self, wheel, price):\n",
    "        super().__init__(wheel, price)\n",
    "\n",
    "class Bicycle(Car):\n",
    "    def __init__(self, wheel, price, driving_system):\n",
    "        super().__init__(wheel, price)\n",
    "        self.driving_system = driving_system"
   ]
  },
  {
   "cell_type": "code",
   "execution_count": 20,
   "id": "ec9e38aa-feaf-4619-af0a-67ffdd09a68f",
   "metadata": {},
   "outputs": [
    {
     "name": "stdout",
     "output_type": "stream",
     "text": [
      "2\n",
      "바퀴 수: 2\n",
      "가격: 100\n",
      "None\n"
     ]
    }
   ],
   "source": [
    "bicycle = Bicycle(2, 100, \"시마노\")\n",
    "print(bicycle.wheel)\n",
    "print(bicycle.info())"
   ]
  },
  {
   "cell_type": "code",
   "execution_count": 25,
   "id": "3e6de4aa-8983-4290-9965-3062a37a1a82",
   "metadata": {},
   "outputs": [],
   "source": [
    "# 287\n",
    "\n",
    "class Car():\n",
    "    def __init__(self, wheel, price):\n",
    "        self.wheel = wheel\n",
    "        self.price = price\n",
    "\n",
    "    def info(self):\n",
    "        print(f'바퀴 수: {self.wheel}')\n",
    "        print(f'가격: {self.price}')\n",
    "\n",
    "class Bicycle(Car):\n",
    "    def __init__(self, wheel, price):\n",
    "        super().__init__(wheel, price)\n",
    "\n",
    "class Bicycle(Car):\n",
    "    def __init__(self, wheel, price, driving_system):\n",
    "        super().__init__(wheel, price)\n",
    "        self.driving_system = driving_system\n",
    "\n",
    "    def info(self):\n",
    "        super().info()\n",
    "        print(f'구동계: {self.driving_system}')"
   ]
  },
  {
   "cell_type": "code",
   "execution_count": 26,
   "id": "cd438282-3d04-4958-b9ea-d06760f1c84d",
   "metadata": {},
   "outputs": [
    {
     "name": "stdout",
     "output_type": "stream",
     "text": [
      "2\n",
      "바퀴 수: 2\n",
      "가격: 100\n",
      "구동계: 시마노\n",
      "None\n"
     ]
    }
   ],
   "source": [
    "bicycle = Bicycle(2, 100, \"시마노\")\n",
    "print(bicycle.wheel)\n",
    "print(bicycle.info())"
   ]
  },
  {
   "cell_type": "code",
   "execution_count": 28,
   "id": "ade4714e-c123-4d01-bb37-9a360800041b",
   "metadata": {},
   "outputs": [
    {
     "name": "stdout",
     "output_type": "stream",
     "text": [
      "자식호출\n"
     ]
    }
   ],
   "source": [
    "# 288\n",
    "\n",
    "class 부모:\n",
    "    def 호출(self):\n",
    "        print(\"부모호출\")\n",
    "\n",
    "class 자식(부모):\n",
    "    def 호출(self):\n",
    "        print(\"자식호출\")\n",
    "\n",
    "\n",
    "나 = 자식()\n",
    "나.호출()"
   ]
  },
  {
   "cell_type": "code",
   "execution_count": 29,
   "id": "ee7bf6b7-80c3-4719-bfc4-340455cb3acd",
   "metadata": {},
   "outputs": [
    {
     "name": "stdout",
     "output_type": "stream",
     "text": [
      "자식생성\n",
      "부모생성\n"
     ]
    }
   ],
   "source": [
    "# 289\n",
    "\n",
    "class 부모:\n",
    "    def __init__(self):\n",
    "        print(\"부모생성\")\n",
    "\n",
    "class 자식(부모):\n",
    "    def __init__(self):\n",
    "        print(\"자식생성\")\n",
    "        super().__init__()\n",
    "\n",
    "나 = 자식()"
   ]
  },
  {
   "cell_type": "code",
   "execution_count": null,
   "id": "35b0fd2a-9b1d-4b22-a05e-c7b26964f1bb",
   "metadata": {},
   "outputs": [],
   "source": []
  }
 ],
 "metadata": {
  "kernelspec": {
   "display_name": "Python 3 (ipykernel)",
   "language": "python",
   "name": "python3"
  },
  "language_info": {
   "codemirror_mode": {
    "name": "ipython",
    "version": 3
   },
   "file_extension": ".py",
   "mimetype": "text/x-python",
   "name": "python",
   "nbconvert_exporter": "python",
   "pygments_lexer": "ipython3",
   "version": "3.11.6"
  }
 },
 "nbformat": 4,
 "nbformat_minor": 5
}
