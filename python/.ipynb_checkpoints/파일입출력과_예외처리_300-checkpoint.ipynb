{
 "cells": [
  {
   "cell_type": "code",
   "execution_count": 17,
   "id": "85d839b1-8107-42e4-9ba3-c6f0d3816f75",
   "metadata": {},
   "outputs": [],
   "source": [
    "# 291\n",
    "\n",
    "import os\n",
    "\n",
    "# 현재 위치 조회\n",
    "getcwd = os.getcwd()\n",
    "\n",
    "f = open(getcwd + \"\\\\매수종목1.txt\", mode=\"wt\", encoding=\"utf-8\")\n",
    "f.write(\"005930\\n\")\n",
    "f.write(\"005380\\n\")\n",
    "f.write(\"035420\")\n",
    "f.close()"
   ]
  },
  {
   "cell_type": "code",
   "execution_count": 18,
   "id": "f63bc34d-95df-49f7-8798-ad2d347867a6",
   "metadata": {},
   "outputs": [],
   "source": [
    "# 292\n",
    "\n",
    "import os\n",
    "# 현재 위치 조회\n",
    "getcwd = os.getcwd()\n",
    "\n",
    "f = open(getcwd + \"\\\\매수종목2.txt\", mode=\"wt\", encoding='utf-8')\n",
    "f.write('''005930 삼성전자\n",
    "005380 현대차\n",
    "035420 NAVER\n",
    "''')\n",
    "f.close()"
   ]
  },
  {
   "cell_type": "code",
   "execution_count": 1,
   "id": "bb8e5d88-b592-43d7-a356-260e1373fd5b",
   "metadata": {},
   "outputs": [],
   "source": [
    "# 293\n",
    "\n",
    "import csv\n",
    "import os\n",
    "\n",
    "getcwd = os.getcwd()\n",
    "f = open(getcwd + '\\\\매수종목.csv', mode=\"wt\", encoding=\"cp949\", newline=\"\")\n",
    "writer = csv.writer(f)\n",
    "writer.writerow([\"종목명\", \"종목코드\", \"PER\"])\n",
    "writer.writerow([\"삼성전자\", \"005930\", 15.59])\n",
    "writer.writerow([\"NAVER\", \"035420\", 55.82])\n",
    "f.close()"
   ]
  },
  {
   "cell_type": "code",
   "execution_count": 6,
   "id": "4af72958-739d-4f2e-9626-3cc8e9893a89",
   "metadata": {},
   "outputs": [
    {
     "name": "stdout",
     "output_type": "stream",
     "text": [
      "['005930', '005380', '035420']\n"
     ]
    },
    {
     "data": {
      "text/plain": [
       "<function TextIOWrapper.close()>"
      ]
     },
     "execution_count": 6,
     "metadata": {},
     "output_type": "execute_result"
    }
   ],
   "source": [
    "# 294\n",
    "\n",
    "import os, csv\n",
    "\n",
    "getcwd = os.getcwd()\n",
    "f = open(getcwd + '\\매수종목1.txt', encoding=\"utf-8\")\n",
    "lines = f.readlines()\n",
    "\n",
    "codes = []\n",
    "\n",
    "for line in lines:\n",
    "    code = line.strip()\n",
    "    codes.append(code)\n",
    "\n",
    "print(codes)\n",
    "\n",
    "f.close"
   ]
  },
  {
   "cell_type": "code",
   "execution_count": 7,
   "id": "e9a04d21-901b-483b-bfc4-bf9f34569c9d",
   "metadata": {},
   "outputs": [
    {
     "name": "stdout",
     "output_type": "stream",
     "text": [
      "{'005930': '삼성전자', '005380': '현대차', '035420': 'NAVER'}\n"
     ]
    }
   ],
   "source": [
    "# 295\n",
    "\n",
    "import os, csv\n",
    "\n",
    "getcwd = os.getcwd()\n",
    "f = open(getcwd + '\\매수종목2.txt', encoding=\"utf-8\")\n",
    "lines = f.readlines()\n",
    "\n",
    "code = {}\n",
    "\n",
    "for line in lines:\n",
    "    line = line.strip()\n",
    "    stock_code, stock_name = line.split()\n",
    "    code[stock_code] = stock_name\n",
    "\n",
    "print(code)"
   ]
  },
  {
   "cell_type": "code",
   "execution_count": 1,
   "id": "2c1510d5-2b58-41e8-912a-a020790aed2b",
   "metadata": {},
   "outputs": [
    {
     "name": "stdout",
     "output_type": "stream",
     "text": [
      "10.31\n",
      "0\n",
      "8.0\n"
     ]
    }
   ],
   "source": [
    "# 296\n",
    "per = [\"10.31\", \"\", \"8.00\"]\n",
    "\n",
    "for i in per:\n",
    "    try: \n",
    "        print(float(i))\n",
    "    except:\n",
    "        print(0)"
   ]
  },
  {
   "cell_type": "code",
   "execution_count": null,
   "id": "ca829361-7ae1-407b-8412-74b94cda2e0a",
   "metadata": {},
   "outputs": [],
   "source": []
  }
 ],
 "metadata": {
  "kernelspec": {
   "display_name": "Python 3 (ipykernel)",
   "language": "python",
   "name": "python3"
  },
  "language_info": {
   "codemirror_mode": {
    "name": "ipython",
    "version": 3
   },
   "file_extension": ".py",
   "mimetype": "text/x-python",
   "name": "python",
   "nbconvert_exporter": "python",
   "pygments_lexer": "ipython3",
   "version": "3.11.6"
  }
 },
 "nbformat": 4,
 "nbformat_minor": 5
}
