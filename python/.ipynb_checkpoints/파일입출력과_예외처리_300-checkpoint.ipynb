{
 "cells": [
  {
   "cell_type": "code",
   "execution_count": 17,
   "id": "85d839b1-8107-42e4-9ba3-c6f0d3816f75",
   "metadata": {},
   "outputs": [],
   "source": [
    "# 291\n",
    "\n",
    "import os\n",
    "\n",
    "# 현재 위치 조회\n",
    "getcwd = os.getcwd()\n",
    "\n",
    "f = open(getcwd + \"\\\\매수종목1.txt\", mode=\"wt\", encoding=\"utf-8\")\n",
    "f.write(\"005930\\n\")\n",
    "f.write(\"005380\\n\")\n",
    "f.write(\"035420\")\n",
    "f.close()"
   ]
  },
  {
   "cell_type": "code",
   "execution_count": 18,
   "id": "f63bc34d-95df-49f7-8798-ad2d347867a6",
   "metadata": {},
   "outputs": [],
   "source": [
    "# 292\n",
    "\n",
    "import os\n",
    "# 현재 위치 조회\n",
    "getcwd = os.getcwd()\n",
    "\n",
    "f = open(getcwd + \"\\\\매수종목2.txt\", mode=\"wt\", encoding='utf-8')\n",
    "f.write('''005930 삼성전자\n",
    "005380 현대차\n",
    "035420 NAVER\n",
    "''')\n",
    "f.close()"
   ]
  },
  {
   "cell_type": "code",
   "execution_count": null,
   "id": "bb8e5d88-b592-43d7-a356-260e1373fd5b",
   "metadata": {},
   "outputs": [],
   "source": []
  }
 ],
 "metadata": {
  "kernelspec": {
   "display_name": "Python 3 (ipykernel)",
   "language": "python",
   "name": "python3"
  },
  "language_info": {
   "codemirror_mode": {
    "name": "ipython",
    "version": 3
   },
   "file_extension": ".py",
   "mimetype": "text/x-python",
   "name": "python",
   "nbconvert_exporter": "python",
   "pygments_lexer": "ipython3",
   "version": "3.11.6"
  }
 },
 "nbformat": 4,
 "nbformat_minor": 5
}
