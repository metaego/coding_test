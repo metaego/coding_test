{
 "cells": [
  {
   "cell_type": "code",
   "execution_count": 2,
   "id": "957f1e13-2b09-4735-8042-a5e94b4651d6",
   "metadata": {},
   "outputs": [
    {
     "name": "stdout",
     "output_type": "stream",
     "text": [
      "Hello World\n"
     ]
    }
   ],
   "source": [
    "'''\n",
    "화면에 Hello World 문자열을 출력하세요.\n",
    "'''\n",
    "\n",
    "print('Hello World')"
   ]
  },
  {
   "cell_type": "code",
   "execution_count": 4,
   "id": "5e33ed53-8809-43fb-9789-30c2d05774d9",
   "metadata": {},
   "outputs": [
    {
     "name": "stdout",
     "output_type": "stream",
     "text": [
      "Mary's cosmetics\n"
     ]
    }
   ],
   "source": [
    "'''\n",
    "화면에 Mary's cosmetics을 출력하세요. (중간에 '가 있음에 주의하세요)\n",
    "'''\n",
    "\n",
    "print(\"Mary's cosmetics\")"
   ]
  },
  {
   "cell_type": "code",
   "execution_count": 6,
   "id": "a7d4e748-4c3a-4d6d-a0b7-a19588a750e9",
   "metadata": {},
   "outputs": [
    {
     "name": "stdout",
     "output_type": "stream",
     "text": [
      "신씨가 소리질렀다. \"도둑이야\".\n"
     ]
    }
   ],
   "source": [
    "'''\n",
    "신씨가 소리질렀다. \"도둑이야\".\n",
    "'''\n",
    "\n",
    "print('신씨가 소리질렀다. \"도둑이야\".')"
   ]
  },
  {
   "cell_type": "code",
   "execution_count": 7,
   "id": "36160e43-9310-413e-bc94-6042a7568f50",
   "metadata": {},
   "outputs": [
    {
     "name": "stdout",
     "output_type": "stream",
     "text": [
      "C:\\Windows\n"
     ]
    }
   ],
   "source": [
    "'''\n",
    "화면에 C:\\Windows를 출력하세요.\n",
    "'''\n",
    "\n",
    "print(\"C:\\Windows\")"
   ]
  },
  {
   "cell_type": "code",
   "execution_count": 8,
   "id": "a9924721-07c8-4a18-872b-513fca8cecae",
   "metadata": {},
   "outputs": [
    {
     "name": "stdout",
     "output_type": "stream",
     "text": [
      "안녕하세요.\n",
      "만나서\t\t반갑습니다.\n"
     ]
    }
   ],
   "source": [
    "print(\"안녕하세요.\\n만나서\\t\\t반갑습니다.\")"
   ]
  },
  {
   "cell_type": "code",
   "execution_count": 9,
   "id": "cd114528-e27c-4266-96ec-98b83ae431ae",
   "metadata": {},
   "outputs": [
    {
     "name": "stdout",
     "output_type": "stream",
     "text": [
      "오늘은 일요일\n"
     ]
    }
   ],
   "source": [
    "print (\"오늘은\", \"일요일\")"
   ]
  },
  {
   "cell_type": "code",
   "execution_count": 11,
   "id": "34121c41-9bda-454d-a936-e92532553c9f",
   "metadata": {},
   "outputs": [
    {
     "name": "stdout",
     "output_type": "stream",
     "text": [
      "naver;kakao;sk;samsung\n"
     ]
    }
   ],
   "source": [
    "'''\n",
    "단어들 사이에 ;로 구분하여 출력\n",
    "naver;kakao;sk;samsung\n",
    "'''\n",
    "\n",
    "print('naver', 'kakao', 'sk', 'samsung', sep=\";\")"
   ]
  },
  {
   "cell_type": "code",
   "execution_count": 13,
   "id": "ac52b8b8-e541-43b1-a1b1-a199ec3b2c45",
   "metadata": {},
   "outputs": [
    {
     "name": "stdout",
     "output_type": "stream",
     "text": [
      "naver/kakao/sk/samsung\n"
     ]
    }
   ],
   "source": [
    "'''\n",
    "단어 사이에 /로 구분하여 출력\n",
    "naver/kakao/sk/samsung\n",
    "'''\n",
    "\n",
    "print('naver', 'kakao', 'sk', 'samsung', sep='/')"
   ]
  },
  {
   "cell_type": "code",
   "execution_count": 16,
   "id": "17300239-c495-477c-9731-9fd98ab1bc2f",
   "metadata": {},
   "outputs": [
    {
     "name": "stdout",
     "output_type": "stream",
     "text": [
      "firstsecond\n"
     ]
    }
   ],
   "source": [
    "'''\n",
    "아래 코드를 수정하여 \"firstsecond\" 이렇게 출력되도록 하라\n",
    "print(\"first\");print(\"second\")\n",
    "'''\n",
    "\n",
    "print(\"first\", end='');print(\"second\")"
   ]
  },
  {
   "cell_type": "code",
   "execution_count": null,
   "id": "c2252c51-9171-417f-828f-2e7d536c7f66",
   "metadata": {},
   "outputs": [],
   "source": []
  }
 ],
 "metadata": {
  "kernelspec": {
   "display_name": "Python 3 (ipykernel)",
   "language": "python",
   "name": "python3"
  },
  "language_info": {
   "codemirror_mode": {
    "name": "ipython",
    "version": 3
   },
   "file_extension": ".py",
   "mimetype": "text/x-python",
   "name": "python",
   "nbconvert_exporter": "python",
   "pygments_lexer": "ipython3",
   "version": "3.11.6"
  }
 },
 "nbformat": 4,
 "nbformat_minor": 5
}
