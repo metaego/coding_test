{
 "cells": [
  {
   "cell_type": "code",
   "execution_count": 1,
   "id": "26962cec-bfa5-428c-acc8-e9b913d45019",
   "metadata": {},
   "outputs": [
    {
     "data": {
      "text/plain": [
       "{'메로나': [300, 20], '비비빅': [400, 3], '죠스바': [250, 100]}"
      ]
     },
     "execution_count": 1,
     "metadata": {},
     "output_type": "execute_result"
    }
   ],
   "source": [
    "# 91\n",
    "inventory = {'메로나':[300, 20], '비비빅': [400, 3], '죠스바': [250, 100]}\n",
    "inventory"
   ]
  },
  {
   "cell_type": "code",
   "execution_count": 4,
   "id": "ed9b5f3e-a64d-4aee-8820-681da3de99f5",
   "metadata": {},
   "outputs": [
    {
     "name": "stdout",
     "output_type": "stream",
     "text": [
      "300  원\n"
     ]
    }
   ],
   "source": [
    "# 92\n",
    "\n",
    "inventory = {\"메로나\": [300, 20],\n",
    "              \"비비빅\": [400, 3],\n",
    "              \"죠스바\": [250, 100]}\n",
    "print(inventory['메로나'][0], ' 원')"
   ]
  },
  {
   "cell_type": "code",
   "execution_count": 5,
   "id": "c25fd368-c16d-45b8-a19e-643a4d9872e3",
   "metadata": {},
   "outputs": [
    {
     "name": "stdout",
     "output_type": "stream",
     "text": [
      "20  개\n"
     ]
    }
   ],
   "source": [
    "# 93\n",
    "\n",
    "inventory = {\"메로나\": [300, 20],\n",
    "              \"비비빅\": [400, 3],\n",
    "              \"죠스바\": [250, 100]}\n",
    "print(inventory['메로나'][1],  \" 개\")"
   ]
  },
  {
   "cell_type": "code",
   "execution_count": 6,
   "id": "8c831800-58f3-468b-881b-c976adf1dbda",
   "metadata": {},
   "outputs": [
    {
     "data": {
      "text/plain": [
       "{'메로나': [300, 20], '비비빅': [400, 3], '죠스바': [250, 100], '월드콘': [500, 7]}"
      ]
     },
     "execution_count": 6,
     "metadata": {},
     "output_type": "execute_result"
    }
   ],
   "source": [
    "# 94\n",
    "inventory = {\"메로나\": [300, 20],\n",
    "              \"비비빅\": [400, 3],\n",
    "              \"죠스바\": [250, 100]}\n",
    "inventory['월드콘'] = [500, 7]\n",
    "inventory"
   ]
  },
  {
   "cell_type": "code",
   "execution_count": 11,
   "id": "4f46d435-f23d-47d2-8c8d-99cacafce798",
   "metadata": {},
   "outputs": [
    {
     "data": {
      "text/plain": [
       "['탱크보이', '폴라포', '빵빠레', '월드콘', '메로나']"
      ]
     },
     "execution_count": 11,
     "metadata": {},
     "output_type": "execute_result"
    }
   ],
   "source": [
    "# 95\n",
    "\n",
    "icecream = {'탱크보이': 1200, '폴라포': 1200, '빵빠레': 1800, '월드콘': 1500, '메로나': 1000}\n",
    "lst = list(icecream.keys())\n",
    "lst"
   ]
  },
  {
   "cell_type": "code",
   "execution_count": 12,
   "id": "1ce91103-61e0-4b3a-b480-2288c8eed67b",
   "metadata": {},
   "outputs": [
    {
     "data": {
      "text/plain": [
       "[1200, 1200, 1800, 1500, 1000]"
      ]
     },
     "execution_count": 12,
     "metadata": {},
     "output_type": "execute_result"
    }
   ],
   "source": [
    "# 96\n",
    "\n",
    "icecream = {'탱크보이': 1200, '폴라포': 1200, '빵빠레': 1800, '월드콘': 1500, '메로나': 1000}\n",
    "\n",
    "val = list(icecream.values())\n",
    "val"
   ]
  },
  {
   "cell_type": "code",
   "execution_count": 14,
   "id": "c6797b33-8d4b-4533-b470-00fdea79548a",
   "metadata": {},
   "outputs": [
    {
     "data": {
      "text/plain": [
       "6700"
      ]
     },
     "execution_count": 14,
     "metadata": {},
     "output_type": "execute_result"
    }
   ],
   "source": [
    "# 97\n",
    "\n",
    "icecream = {'탱크보이': 1200, '폴라포': 1200, '빵빠레': 1800, '월드콘': 1500, '메로나': 1000}\n",
    "sum(list(icecream.values()))\n",
    "sum(icecream.values())"
   ]
  },
  {
   "cell_type": "code",
   "execution_count": 22,
   "id": "b09f6c87-76eb-43b4-94d5-3ac6b960584f",
   "metadata": {},
   "outputs": [
    {
     "data": {
      "text/plain": [
       "{'탱크보이': 1200,\n",
       " '폴라포': 1200,\n",
       " '빵빠레': 1800,\n",
       " '월드콘': 1500,\n",
       " '메로나': 1000,\n",
       " '팥빙수': 2700,\n",
       " '아맛나': 1000}"
      ]
     },
     "execution_count": 22,
     "metadata": {},
     "output_type": "execute_result"
    }
   ],
   "source": [
    "# 98\n",
    "icecream = {'탱크보이': 1200, '폴라포': 1200, '빵빠레': 1800, '월드콘': 1500, '메로나': 1000}\n",
    "new_product = {'팥빙수':2700, '아맛나':1000}\n",
    "\n",
    "# icecream['팥빙수'] = new_product['팥빙수']\n",
    "# icecream['아맛나'] = new_product['아맛나']\n",
    "# icecream\n",
    "\n",
    "icecream.update(new_product)\n",
    "icecream"
   ]
  },
  {
   "cell_type": "code",
   "execution_count": 28,
   "id": "304fa4b7-b41e-46d3-9116-64e0341775bb",
   "metadata": {},
   "outputs": [
    {
     "name": "stdout",
     "output_type": "stream",
     "text": [
      "{'apple': 300, 'pear': 250, 'peach': 400}\n"
     ]
    }
   ],
   "source": [
    "# 99\n",
    "\n",
    "keys = (\"apple\", \"pear\", \"peach\")\n",
    "vals = (300, 250, 400)\n",
    "\n",
    "# result = {}\n",
    "# for i in range(len(keys)) :\n",
    "#     result[keys[i]] = vals[i]\n",
    "\n",
    "result = dict(zip(keys, vals))\n",
    "print(result)"
   ]
  },
  {
   "cell_type": "code",
   "execution_count": 31,
   "id": "7e80fb5d-93d6-4078-bb15-13ef94c737cf",
   "metadata": {},
   "outputs": [
    {
     "data": {
      "text/plain": [
       "{'09/05': 10500,\n",
       " '09/06': 10300,\n",
       " '09/07': 10100,\n",
       " '09/08': 10800,\n",
       " '09/09': 11000}"
      ]
     },
     "execution_count": 31,
     "metadata": {},
     "output_type": "execute_result"
    }
   ],
   "source": [
    "# 100\n",
    "\n",
    "date = ['09/05', '09/06', '09/07', '09/08', '09/09']\n",
    "close_price = [10500, 10300, 10100, 10800, 11000]\n",
    "\n",
    "close_table = dict(zip(date, close_price))\n",
    "close_table"
   ]
  },
  {
   "cell_type": "code",
   "execution_count": null,
   "id": "e2f88027-afde-4ce6-9693-44baf49633ab",
   "metadata": {},
   "outputs": [],
   "source": []
  }
 ],
 "metadata": {
  "kernelspec": {
   "display_name": "Python 3 (ipykernel)",
   "language": "python",
   "name": "python3"
  },
  "language_info": {
   "codemirror_mode": {
    "name": "ipython",
    "version": 3
   },
   "file_extension": ".py",
   "mimetype": "text/x-python",
   "name": "python",
   "nbconvert_exporter": "python",
   "pygments_lexer": "ipython3",
   "version": "3.11.6"
  }
 },
 "nbformat": 4,
 "nbformat_minor": 5
}
