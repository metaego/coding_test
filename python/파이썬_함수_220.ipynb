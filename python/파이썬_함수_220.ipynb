{
 "cells": [
  {
   "cell_type": "code",
   "execution_count": 1,
   "id": "48ad3a69-5ec4-4984-bb47-b9dd0386f1fa",
   "metadata": {},
   "outputs": [],
   "source": [
    "# 215\n",
    "\n",
    "def print_with_smile(text):\n",
    "    print(text + \":D\")"
   ]
  },
  {
   "cell_type": "code",
   "execution_count": 2,
   "id": "e7d38411-43f6-4f06-8204-b0797983f8f1",
   "metadata": {},
   "outputs": [
    {
     "name": "stdout",
     "output_type": "stream",
     "text": [
      "안녕하세요:D\n"
     ]
    }
   ],
   "source": [
    "# 216\n",
    "\n",
    "print_with_smile(\"안녕하세요\")"
   ]
  },
  {
   "cell_type": "code",
   "execution_count": 3,
   "id": "69270d62-f508-427d-a46b-2f76bf3ed19f",
   "metadata": {},
   "outputs": [],
   "source": [
    "# 217\n",
    "\n",
    "def print_upper_price(price):\n",
    "    print(price * 1.3)"
   ]
  },
  {
   "cell_type": "code",
   "execution_count": 4,
   "id": "f23ec877-ee5c-4192-b07f-012ed5068e06",
   "metadata": {},
   "outputs": [],
   "source": [
    "# 218\n",
    "\n",
    "def print_sum(x, y):\n",
    "    print(x + y)"
   ]
  },
  {
   "cell_type": "code",
   "execution_count": 5,
   "id": "6b6ed125-ff93-44c5-89e3-1f49c328c31e",
   "metadata": {},
   "outputs": [
    {
     "name": "stdout",
     "output_type": "stream",
     "text": [
      "3 + 4 = 7\n",
      "3 - 4 = -1\n",
      "3 * 4 = 12\n",
      "3 / 4 = 0.75\n"
     ]
    }
   ],
   "source": [
    "# 219\n",
    "\n",
    "def print_arithmetic_operation(x, y):\n",
    "    print(f'{x} + {y} = {x + y}')\n",
    "    print(f'{x} - {y} = {x - y}')\n",
    "    print(f'{x} * {y} = {x * y}')\n",
    "    print(f'{x} / {y} = {x / y}')\n",
    "\n",
    "print_arithmetic_operation(3, 4)"
   ]
  },
  {
   "cell_type": "code",
   "execution_count": 8,
   "id": "495ca08d-0deb-4712-a897-38cc32970dc6",
   "metadata": {},
   "outputs": [
    {
     "name": "stdout",
     "output_type": "stream",
     "text": [
      "\n",
      "다른 풀이\n",
      "\n"
     ]
    }
   ],
   "source": [
    "# 220\n",
    "\n",
    "def print_max(x, y, z):\n",
    "    if (x > y) and (x > z) :\n",
    "        print(x)\n",
    "    elif (y > x) and (y > z) :\n",
    "        print(y)\n",
    "    elif (z > x) and (z > y) :\n",
    "        print(z)        \n",
    "\n",
    "print(); print('다른 풀이'); print()\n",
    "\n",
    "def print_max(a, b, c) :\n",
    "    max_val = 0\n",
    "    if a > max_val :\n",
    "        max_val = a\n",
    "    if b > max_val :\n",
    "        max_val = b\n",
    "    if c > max_val :\n",
    "        max_val = c\n",
    "    print(max_val)"
   ]
  },
  {
   "cell_type": "code",
   "execution_count": null,
   "id": "28220165-e769-4492-9935-9b0a35d1b094",
   "metadata": {},
   "outputs": [],
   "source": []
  }
 ],
 "metadata": {
  "kernelspec": {
   "display_name": "Python 3 (ipykernel)",
   "language": "python",
   "name": "python3"
  },
  "language_info": {
   "codemirror_mode": {
    "name": "ipython",
    "version": 3
   },
   "file_extension": ".py",
   "mimetype": "text/x-python",
   "name": "python",
   "nbconvert_exporter": "python",
   "pygments_lexer": "ipython3",
   "version": "3.11.6"
  }
 },
 "nbformat": 4,
 "nbformat_minor": 5
}
