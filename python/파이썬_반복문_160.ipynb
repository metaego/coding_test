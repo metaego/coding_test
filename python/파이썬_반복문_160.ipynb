{
 "cells": [
  {
   "cell_type": "code",
   "execution_count": 1,
   "id": "fccf3846-bad3-43e5-b6ef-786af9452ab7",
   "metadata": {},
   "outputs": [
    {
     "name": "stdout",
     "output_type": "stream",
     "text": [
      "-20\n",
      "-3\n"
     ]
    }
   ],
   "source": [
    "# 151\n",
    "\n",
    "lst = [3, -20, -3, 44]\n",
    "\n",
    "for num in lst:\n",
    "    if num < 0 :\n",
    "        print(num)"
   ]
  },
  {
   "cell_type": "code",
   "execution_count": 3,
   "id": "2fd24139-1e15-4649-8ba2-8fff0e1765da",
   "metadata": {},
   "outputs": [
    {
     "name": "stdout",
     "output_type": "stream",
     "text": [
      "3\n"
     ]
    }
   ],
   "source": [
    "# 152\n",
    "\n",
    "lst = [3, 100, 23, 44]\n",
    "\n",
    "for num in lst:\n",
    "    if (num % 3) == 0:\n",
    "       print(num) "
   ]
  },
  {
   "cell_type": "code",
   "execution_count": 4,
   "id": "f75a850e-862a-49b7-967e-42d840b9a900",
   "metadata": {},
   "outputs": [
    {
     "name": "stdout",
     "output_type": "stream",
     "text": [
      "12\n",
      "18\n"
     ]
    }
   ],
   "source": [
    "# 153\n",
    "\n",
    "lst = [13, 21, 12, 14, 30, 18]\n",
    "\n",
    "for num in lst:\n",
    "    if (num < 20) and (num % 3 == 0):\n",
    "        print(num)"
   ]
  },
  {
   "cell_type": "code",
   "execution_count": 6,
   "id": "3e54385c-435f-4bdc-a885-2398a2ee92ad",
   "metadata": {},
   "outputs": [
    {
     "name": "stdout",
     "output_type": "stream",
     "text": [
      "study\n",
      "python\n",
      "language\n"
     ]
    }
   ],
   "source": [
    "# 154\n",
    "\n",
    "lst = [\"I\", \"study\", \"python\", \"language\", \"!\"]\n",
    "\n",
    "for text in lst :\n",
    "    if len(text) > 2:\n",
    "        print(text)"
   ]
  },
  {
   "cell_type": "code",
   "execution_count": 8,
   "id": "0c4a6162-70f3-4077-9449-3607e2b78d78",
   "metadata": {},
   "outputs": [
    {
     "name": "stdout",
     "output_type": "stream",
     "text": [
      "A\n",
      "D\n"
     ]
    }
   ],
   "source": [
    "# 155\n",
    "\n",
    "lst = [\"A\", \"b\", \"c\", \"D\"]\n",
    "\n",
    "for char in lst:\n",
    "    if char.isupper():\n",
    "        print(char)"
   ]
  },
  {
   "cell_type": "code",
   "execution_count": 9,
   "id": "3f2ce146-1ebb-40db-bb61-a5a962826a97",
   "metadata": {},
   "outputs": [
    {
     "name": "stdout",
     "output_type": "stream",
     "text": [
      "b\n",
      "c\n"
     ]
    }
   ],
   "source": [
    "# 156\n",
    "\n",
    "lst = [\"A\", \"b\", \"c\", \"D\"]\n",
    "\n",
    "for char in lst:\n",
    "    if char.islower():\n",
    "        print(char)"
   ]
  },
  {
   "cell_type": "code",
   "execution_count": 16,
   "id": "84bda5cd-2439-43c4-8c18-956c545e952a",
   "metadata": {},
   "outputs": [
    {
     "name": "stdout",
     "output_type": "stream",
     "text": [
      "Dog\n",
      "Cat\n",
      "Parrot\n"
     ]
    }
   ],
   "source": [
    "# 157\n",
    "\n",
    "lst = ['dog', 'cat', 'parrot']\n",
    "\n",
    "for text in lst:\n",
    "    # text = text[0].upper() + text[1:]\n",
    "    print(''.join(text[0].upper() + text[1:]))"
   ]
  },
  {
   "cell_type": "code",
   "execution_count": 20,
   "id": "76c06b4e-0ed1-455a-bc87-0170d45bac42",
   "metadata": {},
   "outputs": [
    {
     "name": "stdout",
     "output_type": "stream",
     "text": [
      "hello\n",
      "ex01\n",
      "intro\n"
     ]
    }
   ],
   "source": [
    "# 158\n",
    "\n",
    "lst = ['hello.py', 'ex01.py', 'intro.hwp']\n",
    "\n",
    "for text in lst:\n",
    "    file_name, _ = text.split('.')\n",
    "    print(file_name)"
   ]
  },
  {
   "cell_type": "code",
   "execution_count": 38,
   "id": "574c097c-c6bd-413f-b53e-8b88fb9d5de8",
   "metadata": {},
   "outputs": [
    {
     "name": "stdout",
     "output_type": "stream",
     "text": [
      "intra.h\n",
      "define.h\n",
      "\n",
      "다른 문풀\n",
      "\n",
      "intra.h\n",
      "define.h\n"
     ]
    }
   ],
   "source": [
    "# 159\n",
    "\n",
    "lst = ['intra.h', 'intra.c', 'define.h', 'run.py']\n",
    "\n",
    "for file_name in lst:\n",
    "    if file_name[-2:] == '.h':\n",
    "        print(file_name)\n",
    "\n",
    "print(); print(\"다른 문풀\"); print()\n",
    "\n",
    "for file_name in lst:\n",
    "    if file_name.endswith('.h'):\n",
    "        print(file_name)"
   ]
  },
  {
   "cell_type": "code",
   "execution_count": 37,
   "id": "f7fd36b1-87ee-445a-885d-4a2c08f81967",
   "metadata": {},
   "outputs": [
    {
     "name": "stdout",
     "output_type": "stream",
     "text": [
      "intra.h\n",
      "intra.c\n",
      "define.h\n",
      "\n",
      "다른 문풀\n",
      "\n",
      "intra.h\n",
      "intra.c\n",
      "define.h\n"
     ]
    }
   ],
   "source": [
    "# 160\n",
    "\n",
    "lst = ['intra.h', 'intra.c', 'define.h', 'run.py']\n",
    "\n",
    "for file_name in lst:\n",
    "    if (file_name[-2:] == '.h') or (file_name[-2:] == '.c') :\n",
    "        print(file_name)\n",
    "\n",
    "print(); print(\"다른 문풀\"); print()\n",
    "\n",
    "for file_name in lst:\n",
    "    if file_name[-2:] in ['.h', '.c'] :\n",
    "        print(file_name)"
   ]
  },
  {
   "cell_type": "code",
   "execution_count": null,
   "id": "6916cebe-4469-4871-846c-ec133d1cf092",
   "metadata": {},
   "outputs": [],
   "source": []
  }
 ],
 "metadata": {
  "kernelspec": {
   "display_name": "Python 3 (ipykernel)",
   "language": "python",
   "name": "python3"
  },
  "language_info": {
   "codemirror_mode": {
    "name": "ipython",
    "version": 3
   },
   "file_extension": ".py",
   "mimetype": "text/x-python",
   "name": "python",
   "nbconvert_exporter": "python",
   "pygments_lexer": "ipython3",
   "version": "3.11.6"
  }
 },
 "nbformat": 4,
 "nbformat_minor": 5
}
